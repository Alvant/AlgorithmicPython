{
 "cells": [
  {
   "cell_type": "markdown",
   "metadata": {},
   "source": [
    "# Classes"
   ]
  },
  {
   "cell_type": "markdown",
   "metadata": {},
   "source": [
    "## Во снах я не называл имён\n",
    "\n",
    "В Питоне классы — везде.\n",
    "Класс — это данные + методы работы с данными."
   ]
  },
  {
   "cell_type": "code",
   "execution_count": 1,
   "metadata": {},
   "outputs": [],
   "source": [
    "s = 'Hello world!'  # строка — данные"
   ]
  },
  {
   "cell_type": "code",
   "execution_count": 2,
   "metadata": {},
   "outputs": [
    {
     "data": {
      "text/plain": [
       "'hello world!'"
      ]
     },
     "execution_count": 2,
     "metadata": {},
     "output_type": "execute_result"
    }
   ],
   "source": [
    "s.lower()  # метод — функция, \"привязанная\" к объекту строки"
   ]
  },
  {
   "cell_type": "markdown",
   "metadata": {},
   "source": [
    "Создание объекта с помощью имени класса:"
   ]
  },
  {
   "cell_type": "code",
   "execution_count": 3,
   "metadata": {},
   "outputs": [],
   "source": [
    "s = str('Hello')\n",
    "n = int(1)\n",
    "n = int('1')"
   ]
  },
  {
   "cell_type": "markdown",
   "metadata": {},
   "source": [
    "Классы — для моделирования взаимодействия между сущностями.\n",
    "Пример — числа: целые, флотовые, комплексные."
   ]
  },
  {
   "cell_type": "code",
   "execution_count": 4,
   "metadata": {},
   "outputs": [
    {
     "data": {
      "text/plain": [
       "(1, 2.0, 2j)"
      ]
     },
     "execution_count": 4,
     "metadata": {},
     "output_type": "execute_result"
    }
   ],
   "source": [
    "1, 2.0, 2j"
   ]
  },
  {
   "cell_type": "markdown",
   "metadata": {},
   "source": [
    "Сложение работает для всех, но по-разному (например, сумма целых — целое, целое плюс флотовое — флотовое):"
   ]
  },
  {
   "cell_type": "code",
   "execution_count": 5,
   "metadata": {},
   "outputs": [
    {
     "data": {
      "text/plain": [
       "2"
      ]
     },
     "execution_count": 5,
     "metadata": {},
     "output_type": "execute_result"
    }
   ],
   "source": [
    "1 + 1"
   ]
  },
  {
   "cell_type": "code",
   "execution_count": 6,
   "metadata": {},
   "outputs": [
    {
     "data": {
      "text/plain": [
       "5.0"
      ]
     },
     "execution_count": 6,
     "metadata": {},
     "output_type": "execute_result"
    }
   ],
   "source": [
    "2.0 + 3.0"
   ]
  },
  {
   "cell_type": "code",
   "execution_count": 7,
   "metadata": {},
   "outputs": [
    {
     "data": {
      "text/plain": [
       "(2+2j)"
      ]
     },
     "execution_count": 7,
     "metadata": {},
     "output_type": "execute_result"
    }
   ],
   "source": [
    "(2j + 1) + 1"
   ]
  },
  {
   "cell_type": "markdown",
   "metadata": {},
   "source": [
    "## Мы — как птицы в саду, полном спелых плодов, где каждый поёт свою радостную песню\n",
    "\n",
    "Пример на классы по мотивам Смешариков."
   ]
  },
  {
   "cell_type": "code",
   "execution_count": 8,
   "metadata": {},
   "outputs": [],
   "source": [
    "# Класс — это шаблон\n",
    "class Crow:\n",
    "    # Конструктор — вызывается при создании объекта класса\n",
    "    def __init__(self, name):\n",
    "        # self — ссылка на создаваемый объект, name — параметр, передаваемый при создании\n",
    "\n",
    "        self.name = name  # атрибут класса\n",
    "    \n",
    "    def eat(self):  # объектный метод: он будет вызываться от объекта, ссылка на который — self\n",
    "        print('Мням-мням...')\n",
    "\n",
    "    def voice(self):\n",
    "        return 'Карр'\n",
    "    \n",
    "    # Данные и методы \"спрятаны\" (инкапсулированы) в классе\n",
    "\n",
    "\n",
    "class Owl:\n",
    "    def __init__(self, name):\n",
    "        self.name = name\n",
    "    \n",
    "    def eat(self):\n",
    "        print('Мням-мням...')\n",
    "        \n",
    "    def voice(self):\n",
    "        return 'У-ху-хуху'\n",
    "\n",
    "\n",
    "class Ram:\n",
    "    def __init__(self, name):\n",
    "        self.name = name\n",
    "    \n",
    "    def eat(self):\n",
    "        print('Мням-мням...')\n",
    "        \n",
    "    def voice(self):\n",
    "        return 'Бе-еее'"
   ]
  },
  {
   "cell_type": "code",
   "execution_count": 9,
   "metadata": {},
   "outputs": [
    {
     "name": "stdout",
     "output_type": "stream",
     "text": [
      "Кар-Карыч\n",
      "Мням-мням...\n"
     ]
    },
    {
     "data": {
      "text/plain": [
       "'Карр'"
      ]
     },
     "execution_count": 9,
     "metadata": {},
     "output_type": "execute_result"
    }
   ],
   "source": [
    "crow = Crow('Кар-Карыч')\n",
    "\n",
    "print(crow.name)\n",
    "\n",
    "crow.eat()\n",
    "crow.voice()"
   ]
  },
  {
   "cell_type": "code",
   "execution_count": 10,
   "metadata": {},
   "outputs": [
    {
     "data": {
      "text/plain": [
       "'У-ху-хуху'"
      ]
     },
     "execution_count": 10,
     "metadata": {},
     "output_type": "execute_result"
    }
   ],
   "source": [
    "owl = Owl('Совунья')\n",
    "\n",
    "owl.voice()"
   ]
  },
  {
   "cell_type": "code",
   "execution_count": 11,
   "metadata": {},
   "outputs": [
    {
     "data": {
      "text/plain": [
       "'Бе-еее'"
      ]
     },
     "execution_count": 11,
     "metadata": {},
     "output_type": "execute_result"
    }
   ],
   "source": [
    "ram = Ram('Бараш')\n",
    "\n",
    "ram.voice()"
   ]
  },
  {
   "cell_type": "markdown",
   "metadata": {},
   "source": [
    "## Скоро наследники лучших престолов мира станут приезжать, чтобы просить твоей руки\n",
    "\n",
    "*Наследование* — с одной стороны, просто как способ избежать копирования (DRY).\n",
    "С другой — возможность \"связать\" классы, выстроив иерархию отношений."
   ]
  },
  {
   "cell_type": "code",
   "execution_count": 12,
   "metadata": {},
   "outputs": [],
   "source": [
    "# Базовый класс: всё общее — в нём\n",
    "class Animal:\n",
    "    # Метод будет общим для всех потомков (но при желании можно будет и изменить его)\n",
    "    def __init__(self, name):\n",
    "        self.name = name\n",
    "    \n",
    "    def eat(self):\n",
    "        print('Мням-мням...')\n",
    "\n",
    "    # Нереализованный метод — абстрактный (и потому весь класс — абстрактный)\n",
    "    # Показывает, что у всех \"нормальных\" наследников этот метод должен быть,\n",
    "    # пока же ничего \"общего\" предложить нельзя.\n",
    "    # То есть наследники, по-хорошему, обязаны переопределить этот метод.\n",
    "    def voice(self):\n",
    "        raise NotImplementedError()\n",
    "\n",
    "\n",
    "class Crow(Animal):\n",
    "    # Полиморфизм — функция voice у всех классов называется одинаково, но ведёт себя по-разному\n",
    "    def voice(self):\n",
    "        return 'Карр'\n",
    "\n",
    "\n",
    "class Owl(Animal):\n",
    "    def voice(self):\n",
    "        return 'У-ху-хуху'\n",
    "\n",
    "\n",
    "class Ram(Animal):\n",
    "    def voice(self):\n",
    "        return 'Бе-еее'"
   ]
  },
  {
   "cell_type": "code",
   "execution_count": 13,
   "metadata": {},
   "outputs": [],
   "source": [
    "animal = Animal('Somebody')"
   ]
  },
  {
   "cell_type": "code",
   "execution_count": 14,
   "metadata": {},
   "outputs": [
    {
     "name": "stdout",
     "output_type": "stream",
     "text": [
      "Метод не реализован\n"
     ]
    }
   ],
   "source": [
    "try:\n",
    "    animal.voice()\n",
    "except NotImplementedError:\n",
    "    print('Метод не реализован')"
   ]
  },
  {
   "cell_type": "code",
   "execution_count": 15,
   "metadata": {},
   "outputs": [
    {
     "name": "stdout",
     "output_type": "stream",
     "text": [
      "Мням-мням...\n"
     ]
    },
    {
     "data": {
      "text/plain": [
       "'Карр'"
      ]
     },
     "execution_count": 15,
     "metadata": {},
     "output_type": "execute_result"
    }
   ],
   "source": [
    "crow = Crow('Кар-Карыч')\n",
    "\n",
    "crow.eat()\n",
    "crow.voice()"
   ]
  },
  {
   "cell_type": "code",
   "execution_count": 16,
   "metadata": {},
   "outputs": [
    {
     "name": "stdout",
     "output_type": "stream",
     "text": [
      "Мням-мням...\n"
     ]
    },
    {
     "data": {
      "text/plain": [
       "'У-ху-хуху'"
      ]
     },
     "execution_count": 16,
     "metadata": {},
     "output_type": "execute_result"
    }
   ],
   "source": [
    "owl = Owl('Совунья')\n",
    "\n",
    "owl.eat()\n",
    "owl.voice()"
   ]
  },
  {
   "cell_type": "code",
   "execution_count": 17,
   "metadata": {},
   "outputs": [
    {
     "name": "stdout",
     "output_type": "stream",
     "text": [
      "Мням-мням...\n"
     ]
    },
    {
     "data": {
      "text/plain": [
       "'Бе-еее'"
      ]
     },
     "execution_count": 17,
     "metadata": {},
     "output_type": "execute_result"
    }
   ],
   "source": [
    "ram = Ram('Бараш')\n",
    "\n",
    "ram.eat()\n",
    "ram.voice()"
   ]
  },
  {
   "cell_type": "markdown",
   "metadata": {},
   "source": [
    "## Теперь неудачи должны преследовать меня семь лет\n",
    "\n",
    "Все наследники обязаны уметь всё то, что умеет делать родитель.\n",
    "Если выходит не так, то структура классов неудачная.\n",
    "\n",
    "**Плохой** пример на наследование:"
   ]
  },
  {
   "cell_type": "code",
   "execution_count": 18,
   "metadata": {},
   "outputs": [],
   "source": [
    "class Animal:\n",
    "    def __init__(self, name):\n",
    "        self.name = name\n",
    "    \n",
    "    def eat(self):\n",
    "        print('Мням-мням...')\n",
    "\n",
    "    def voice(self):\n",
    "        raise NotImplementedError()\n",
    "\n",
    "    \n",
    "class Bird(Animal):\n",
    "    # Наследник добавил новый метод\n",
    "    def fly(self):\n",
    "        print('Лечу...')\n",
    "\n",
    "\n",
    "class Crow(Bird):\n",
    "    def voice(self):\n",
    "        return 'Карр'\n",
    "\n",
    "\n",
    "class Owl(Bird):\n",
    "    def voice(self):\n",
    "        return 'У-ху-хуху'\n",
    "\n",
    "\n",
    "class Penguin(Bird):\n",
    "    def voice(self):\n",
    "        return 'Кирк-кирк'\n",
    "\n",
    "    def fly(self):\n",
    "        raise NotImplementedError()\n",
    "\n",
    "\n",
    "class Ram(Animal):\n",
    "    def voice(self):\n",
    "        return 'Бе-ее'"
   ]
  },
  {
   "cell_type": "code",
   "execution_count": 19,
   "metadata": {},
   "outputs": [
    {
     "name": "stdout",
     "output_type": "stream",
     "text": [
      "Лечу...\n"
     ]
    }
   ],
   "source": [
    "crow = Crow('Кар-Карыч')\n",
    "\n",
    "crow.fly()"
   ]
  },
  {
   "cell_type": "code",
   "execution_count": 20,
   "metadata": {},
   "outputs": [
    {
     "name": "stdout",
     "output_type": "stream",
     "text": [
      "Лечу...\n"
     ]
    }
   ],
   "source": [
    "owl = Owl('Совунья')\n",
    "\n",
    "owl.fly()"
   ]
  },
  {
   "cell_type": "code",
   "execution_count": 21,
   "metadata": {},
   "outputs": [
    {
     "name": "stdout",
     "output_type": "stream",
     "text": [
      "Мето не реализован (хотя, казалось бы, это тоже птица...)\n"
     ]
    }
   ],
   "source": [
    "penguin = Penguin('Пин')\n",
    "\n",
    "try:\n",
    "    penguin.fly()\n",
    "except NotImplementedError:\n",
    "    print('Мето не реализован (хотя, казалось бы, это тоже птица...)')"
   ]
  },
  {
   "cell_type": "markdown",
   "metadata": {},
   "source": [
    "## Открылась потайная дверь — за ней клубилось дрожащее, почти осязаемое мерцание, напоминавшее перемигивание лиловых и зелёных огней\n",
    "\n",
    "Ещё несколько возможностей классов: классовые атрибуты, свойства, пара \"магических\" методов."
   ]
  },
  {
   "cell_type": "code",
   "execution_count": 22,
   "metadata": {},
   "outputs": [],
   "source": [
    "class Human:\n",
    "    NUM_HEADS = 1\n",
    "    NUM_LIMBS = {\n",
    "        'arms': 2,\n",
    "        'legs': 2,\n",
    "    }\n",
    "\n",
    "    def __init__(self, name, birth_year):\n",
    "        self.name = name\n",
    "        self._birth_year = birth_year  # \"Приватное\" поле\n",
    "    \n",
    "    # Понятное человеку представление\n",
    "    def __str__(self):\n",
    "        return self.name\n",
    "\n",
    "    # Понятное программисту представление\n",
    "    def __repr__(self):\n",
    "        return f'Human({self.name})'\n",
    "    \n",
    "    # Метод — это функция, определённая внутри класса (функция, \"привязанная\" к объекту класса)\n",
    "    def get_age(self):\n",
    "        return 2024 - self.year\n",
    "\n",
    "    # Свойство — это функция, которая \"притворяется\" атрибутом объекта.\n",
    "    # Свойство — как дополнительный уровень абстракции.\n",
    "    # Оно может делать что-то проще и удобнее в плане пользования классом, но под капотом это функция, которая вычисляется на ходу.\n",
    "    # Снаружи просто, но сложность спрятана (\"инкапсулирована\") внутрь класса.\n",
    "    @property\n",
    "    def age(self):\n",
    "        return self.get_age()\n",
    "\n",
    "    # Свойство — для большего контроля над доступом к атрибутам, как способ \"защиты\" внутренних данных объекта\n",
    "    # (по умолчанию свойства readonly: их можно только читать, но не изменять)\n",
    "    @property\n",
    "    def year(self):\n",
    "        return self._birth_year\n",
    "\n",
    "    # Можно сделать и записываемое свойство.\n",
    "    # Можно и ещё какую-нибудь дополнительную логику встроить при обращении к свойству\n",
    "    # (например, проверку, что присваивают корректное значение, или залогировать что-то в журнал)."
   ]
  },
  {
   "cell_type": "code",
   "execution_count": 23,
   "metadata": {},
   "outputs": [
    {
     "data": {
      "text/plain": [
       "24"
      ]
     },
     "execution_count": 23,
     "metadata": {},
     "output_type": "execute_result"
    }
   ],
   "source": [
    "human = Human('Лера', 2000)\n",
    "\n",
    "human.get_age()  # Вызов метода — вызов функции\n",
    "human.age  # Обращение к свойству — не выглядит как вызов функции"
   ]
  },
  {
   "cell_type": "code",
   "execution_count": 24,
   "metadata": {},
   "outputs": [
    {
     "name": "stdout",
     "output_type": "stream",
     "text": [
      "Лера\n"
     ]
    }
   ],
   "source": [
    "print(human)"
   ]
  },
  {
   "cell_type": "code",
   "execution_count": 25,
   "metadata": {},
   "outputs": [
    {
     "data": {
      "text/plain": [
       "Human(Лера)"
      ]
     },
     "execution_count": 25,
     "metadata": {},
     "output_type": "execute_result"
    }
   ],
   "source": [
    "human"
   ]
  },
  {
   "cell_type": "code",
   "execution_count": 26,
   "metadata": {},
   "outputs": [
    {
     "name": "stdout",
     "output_type": "stream",
     "text": [
      "can't set attribute\n"
     ]
    }
   ],
   "source": [
    "try:\n",
    "    human.year = 2024\n",
    "except AttributeError as e:\n",
    "    print(e)"
   ]
  },
  {
   "cell_type": "code",
   "execution_count": 27,
   "metadata": {},
   "outputs": [
    {
     "name": "stdout",
     "output_type": "stream",
     "text": [
      "1\n",
      "{'arms': 2, 'legs': 2}\n"
     ]
    }
   ],
   "source": [
    "print(human.NUM_HEADS)\n",
    "print(human.NUM_LIMBS)"
   ]
  },
  {
   "cell_type": "code",
   "execution_count": 28,
   "metadata": {},
   "outputs": [
    {
     "name": "stdout",
     "output_type": "stream",
     "text": [
      "1\n",
      "{'arms': 2, 'legs': 2}\n"
     ]
    }
   ],
   "source": [
    "human2 = Human('Надя', 1999)\n",
    "\n",
    "print(human2.NUM_HEADS)\n",
    "print(human2.NUM_LIMBS)"
   ]
  },
  {
   "cell_type": "code",
   "execution_count": 29,
   "metadata": {},
   "outputs": [],
   "source": [
    "human2.NUM_HEADS = 2\n",
    "human2.NUM_LIMBS['legs'] = 3"
   ]
  },
  {
   "cell_type": "code",
   "execution_count": 30,
   "metadata": {},
   "outputs": [
    {
     "name": "stdout",
     "output_type": "stream",
     "text": [
      "2\n",
      "{'arms': 2, 'legs': 3}\n"
     ]
    }
   ],
   "source": [
    "print(human2.NUM_HEADS)\n",
    "print(human2.NUM_LIMBS)"
   ]
  },
  {
   "cell_type": "code",
   "execution_count": 31,
   "metadata": {},
   "outputs": [
    {
     "name": "stdout",
     "output_type": "stream",
     "text": [
      "1\n",
      "{'arms': 2, 'legs': 3}\n"
     ]
    }
   ],
   "source": [
    "print(human.NUM_HEADS)\n",
    "print(human.NUM_LIMBS)  # тоже поменялось, потому что это — изменяемый атрибут класса\n",
    "                        # (он общий для всех объектов)"
   ]
  },
  {
   "cell_type": "markdown",
   "metadata": {},
   "source": [
    "## У ствола дерева стояло видение — едва различимый полупрозрачный силуэт из струящегося тумана"
   ]
  },
  {
   "cell_type": "markdown",
   "metadata": {},
   "source": [
    "Абстрактный класс — \"неполноценный\", ещё не готовый.\n",
    "Однако Питон не запрещает создавать объекты абстрактных классов (\"на свой страх и риск\").\n",
    "\n",
    "\n",
    "Можно же сделать абстрактный класс \"по-настоящему абстрактным\": чтобы от него можно было только наследоваться."
   ]
  },
  {
   "cell_type": "code",
   "execution_count": 32,
   "metadata": {},
   "outputs": [],
   "source": [
    "# \"Простой\" абстрактный класс\n",
    "\n",
    "class AbstractMonopod:\n",
    "    def __init__(self):\n",
    "        raise NotImplementedError()\n",
    "    \n",
    "    def get_hello_text(self):\n",
    "        return \"Hello\"\n",
    "\n",
    "    def make_magic(self, num):\n",
    "        raise NotImplementedError()"
   ]
  },
  {
   "cell_type": "code",
   "execution_count": 33,
   "metadata": {},
   "outputs": [
    {
     "name": "stdout",
     "output_type": "stream",
     "text": [
      "\n"
     ]
    }
   ],
   "source": [
    "try:\n",
    "    a = AbstractMonopod()\n",
    "except NotImplementedError as e:\n",
    "    print(e)"
   ]
  },
  {
   "cell_type": "code",
   "execution_count": 34,
   "metadata": {},
   "outputs": [],
   "source": [
    "# Всё ещё абстрактный, но работать с объектами можно (пока не нарвёшься на ошибку)\n",
    "\n",
    "class SemiAbstractMonopod(AbstractMonopod):\n",
    "    def __init__(self):\n",
    "        pass"
   ]
  },
  {
   "cell_type": "code",
   "execution_count": 35,
   "metadata": {},
   "outputs": [
    {
     "name": "stdout",
     "output_type": "stream",
     "text": [
      "\n"
     ]
    }
   ],
   "source": [
    "a = SemiAbstractMonopod()\n",
    "\n",
    "try:\n",
    "    a.make_magic(12)\n",
    "except NotImplementedError as e:\n",
    "    print(e)"
   ]
  },
  {
   "cell_type": "markdown",
   "metadata": {},
   "source": [
    "При желании можно \"заставить\" наследников в обязательном порядке реализовывать все абстрактные методы."
   ]
  },
  {
   "cell_type": "code",
   "execution_count": 36,
   "metadata": {},
   "outputs": [],
   "source": [
    "# \"Навороченный\" абстрактный\n",
    "\n",
    "from abc import ABC, abstractmethod\n",
    "\n",
    "\n",
    "class AbstractMonopod(ABC):\n",
    "    @abstractmethod\n",
    "    def __init__(self):\n",
    "        pass\n",
    "    \n",
    "    def get_hello_text(self):\n",
    "        return \"Hello\"\n",
    "\n",
    "    @abstractmethod\n",
    "    def make_magic(self, num):\n",
    "        pass\n",
    "\n",
    "\n",
    "class SemiAbstractMonopod(AbstractMonopod):\n",
    "    def __init__(self):\n",
    "        pass"
   ]
  },
  {
   "cell_type": "code",
   "execution_count": 37,
   "metadata": {},
   "outputs": [
    {
     "name": "stdout",
     "output_type": "stream",
     "text": [
      "Can't instantiate abstract class AbstractMonopod with abstract methods __init__, make_magic\n"
     ]
    }
   ],
   "source": [
    "try:\n",
    "    a = AbstractMonopod()\n",
    "except TypeError as e:\n",
    "    print(e)"
   ]
  },
  {
   "cell_type": "code",
   "execution_count": 38,
   "metadata": {},
   "outputs": [
    {
     "name": "stdout",
     "output_type": "stream",
     "text": [
      "Can't instantiate abstract class SemiAbstractMonopod with abstract methods make_magic\n"
     ]
    }
   ],
   "source": [
    "try:\n",
    "    a = SemiAbstractMonopod()\n",
    "except TypeError as e:\n",
    "    print(e)"
   ]
  }
 ],
 "metadata": {
  "kernelspec": {
   "display_name": "Python 3",
   "language": "python",
   "name": "python3"
  },
  "language_info": {
   "codemirror_mode": {
    "name": "ipython",
    "version": 3
   },
   "file_extension": ".py",
   "mimetype": "text/x-python",
   "name": "python",
   "nbconvert_exporter": "python",
   "pygments_lexer": "ipython3",
   "version": "3.6.7"
  }
 },
 "nbformat": 4,
 "nbformat_minor": 5
}
