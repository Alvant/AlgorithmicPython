{
 "cells": [
  {
   "cell_type": "markdown",
   "metadata": {},
   "source": [
    "# Задача A\n",
    "\n",
    "Дерево: проверка корректности."
   ]
  },
  {
   "cell_type": "markdown",
   "metadata": {},
   "source": [
    "## Примеры\n",
    "\n",
    "Пример 1:\n",
    "```\n",
    "3\n",
    "5 -1 1\n",
    "15 -1 2\n",
    "18 -1 -1\n",
    "---\n",
    "Expected: YES\n",
    "```\n",
    "\n",
    "Пример 2:\n",
    "```\n",
    "9\n",
    "48 1 -1\n",
    "30 2 7\n",
    "37 3 6\n",
    "24 -1 4\n",
    "34 -1 5\n",
    "35 -1 -1\n",
    "42 -1 -1\n",
    "43 8 -1\n",
    "42 -1 -1\n",
    "---\n",
    "Expected: NO\n",
    "```"
   ]
  },
  {
   "cell_type": "code",
   "execution_count": 1,
   "metadata": {},
   "outputs": [
    {
     "name": "stdout",
     "output_type": "stream",
     "text": [
      "3\n"
     ]
    }
   ],
   "source": [
    "n = int(input())"
   ]
  },
  {
   "cell_type": "code",
   "execution_count": 2,
   "metadata": {},
   "outputs": [
    {
     "name": "stdout",
     "output_type": "stream",
     "text": [
      "5 -1 1\n",
      "15 -1 2\n",
      "18 -1 -1\n"
     ]
    }
   ],
   "source": [
    "node_values = []\n",
    "raw_tree = dict()\n",
    "\n",
    "for _ in range(n):\n",
    "    input_line = input()\n",
    "    value, left_index, right_index = [\n",
    "        int(v) for v in input_line.split()\n",
    "    ]\n",
    "\n",
    "    node_values.append(value)\n",
    "    raw_tree[value] = {\n",
    "        'l': left_index,\n",
    "        'r': right_index,\n",
    "    }"
   ]
  },
  {
   "cell_type": "code",
   "execution_count": 3,
   "metadata": {},
   "outputs": [
    {
     "data": {
      "text/plain": [
       "[5, 15, 18]"
      ]
     },
     "execution_count": 3,
     "metadata": {},
     "output_type": "execute_result"
    }
   ],
   "source": [
    "node_values"
   ]
  },
  {
   "cell_type": "code",
   "execution_count": 4,
   "metadata": {},
   "outputs": [
    {
     "data": {
      "text/plain": [
       "{5: {'l': -1, 'r': 1}, 15: {'l': -1, 'r': 2}, 18: {'l': -1, 'r': -1}}"
      ]
     },
     "execution_count": 4,
     "metadata": {},
     "output_type": "execute_result"
    }
   ],
   "source": [
    "raw_tree"
   ]
  },
  {
   "cell_type": "code",
   "execution_count": 5,
   "metadata": {},
   "outputs": [],
   "source": [
    "tree = dict()\n",
    "\n",
    "for node_value, descendants in raw_tree.items():\n",
    "    left_index = descendants['l']\n",
    "    right_index = descendants['r']\n",
    "    \n",
    "    tree[node_value] = {\n",
    "        'l': node_values[left_index] if left_index != -1 else None,\n",
    "        'r': node_values[right_index] if right_index != -1 else None\n",
    "    }"
   ]
  },
  {
   "cell_type": "code",
   "execution_count": 6,
   "metadata": {},
   "outputs": [
    {
     "data": {
      "text/plain": [
       "{5: {'l': None, 'r': 15}, 15: {'l': None, 'r': 18}, 18: {'l': None, 'r': None}}"
      ]
     },
     "execution_count": 6,
     "metadata": {},
     "output_type": "execute_result"
    }
   ],
   "source": [
    "tree"
   ]
  },
  {
   "cell_type": "code",
   "execution_count": 7,
   "metadata": {},
   "outputs": [],
   "source": [
    "def is_ok(root_value, value, tree, compare_func):\n",
    "    \"\"\"\n",
    "    Рекурсивно проверяет, все ли значения node_value в узлах\n",
    "    поддерева tree, в корне которого находится root_value,\n",
    "    удовлетворяют проверке compare_func(node_value, value).\n",
    "\n",
    "    Параметры\n",
    "    ---------\n",
    "    root_value:\n",
    "        значение, которое считаем корнем поддерева\n",
    "        (опускаемся ниже, но не выше)\n",
    "    tree:\n",
    "        словарь, представляющий дерево,\n",
    "        формата {parent_value: {'l': left_child_value, 'r': right_child_value}}\n",
    "    value:\n",
    "        опорное значение (с которым сравниваем)\n",
    "    compare_func:\n",
    "        функция, по которой сравниваем\n",
    "\n",
    "    Примеры\n",
    "    --------\n",
    "    >>> tree = {\n",
    "    ...     2: {'l': 1, 'r': 3},\n",
    "    ...     1: {'l': None, 'r': None},\n",
    "    ...     3: {'l': None, 'r': None}\n",
    "    ... }\n",
    "    >>> is_less_or_equal_func = lambda x, y: x <= y\n",
    "    >>> is_greater_func = lambda x, y: x > y\n",
    "    >>> is_ok(\n",
    "    ...     root_value=1,  # левое поддерево\n",
    "    ..      value=2, tree=tree,\n",
    "    ...     compare_func=is_less_or_equal_func\n",
    "    ... )  # True\n",
    "    >>> is_ok(\n",
    "    ...     root_value=3,  # правое поддерево\n",
    "    ...     value=2, tree=tree,\n",
    "    ...     compare_func=is_greater_func\n",
    "    ... )\n",
    "    \"\"\"\n",
    "    raise NotImplementedError('Надо реализовать...')\n",
    "\n",
    "\n",
    "def is_less_or_equal(root_value, value, tree):\n",
    "    \"\"\"\n",
    "    Проверяет, все ли значения <= value\n",
    "    в поддереве с корнем root_value.\n",
    "\n",
    "    \"\"\"\n",
    "    return is_ok(\n",
    "        root_value, value, tree,\n",
    "        compare_func=lambda x, y: x <= y,\n",
    "    )\n",
    "\n",
    "\n",
    "def is_greater(root_value, value, tree):\n",
    "    \"\"\"\n",
    "    Проверяет, все ли значения > value\n",
    "    в поддереве с корнем root_value.\n",
    "\n",
    "    \"\"\"\n",
    "    return is_ok(\n",
    "        root_value, value, tree,\n",
    "        compare_func=lambda x, y: x > y,\n",
    "    )\n",
    "\n",
    "\n",
    "def is_bin_search_subtree(root_value, tree):\n",
    "    \"\"\"\n",
    "    Проверяет, является ли поддерево\n",
    "    с корнем root_value бинарным деревом поиска.\n",
    "\n",
    "    \"\"\"\n",
    "    left_value = tree[root_value]['l']\n",
    "    right_value = tree[root_value]['r']\n",
    "\n",
    "    return (\n",
    "        is_less_or_equal(left_value, root_value, tree)\n",
    "            and is_greater(right_value, root_value, tree)\n",
    "    )\n",
    "\n",
    "\n",
    "def is_bin_search_tree(tree):\n",
    "    \"\"\"\n",
    "    Проверяет, является ли дерево бинарным деревом поиска.\n",
    "\n",
    "    \"\"\"\n",
    "    return all(\n",
    "        is_bin_search_subtree(root_value, tree)\n",
    "        for root_value in tree\n",
    "    )"
   ]
  },
  {
   "cell_type": "code",
   "execution_count": 8,
   "metadata": {},
   "outputs": [
    {
     "data": {
      "text/plain": [
       "{5: {'l': None, 'r': 15}, 15: {'l': None, 'r': 18}, 18: {'l': None, 'r': None}}"
      ]
     },
     "execution_count": 8,
     "metadata": {},
     "output_type": "execute_result"
    }
   ],
   "source": [
    "tree"
   ]
  },
  {
   "cell_type": "code",
   "execution_count": 9,
   "metadata": {},
   "outputs": [
    {
     "data": {
      "text/plain": [
       "True"
      ]
     },
     "execution_count": 9,
     "metadata": {},
     "output_type": "execute_result"
    }
   ],
   "source": [
    "is_bin_search_tree(tree)"
   ]
  },
  {
   "cell_type": "code",
   "execution_count": null,
   "metadata": {},
   "outputs": [],
   "source": []
  },
  {
   "cell_type": "code",
   "execution_count": 10,
   "metadata": {},
   "outputs": [
    {
     "data": {
      "text/plain": [
       "False"
      ]
     },
     "execution_count": 10,
     "metadata": {},
     "output_type": "execute_result"
    }
   ],
   "source": [
    "bad_tree = {\n",
    "    48: {'l': 30, 'r': None},\n",
    "    30: {'l': 28, 'r': 43},\n",
    "    28: {'l': None, 'r': 35},\n",
    "    35: {'l': None, 'r': None},\n",
    "    43: {'l': None, 'r': None}\n",
    "}\n",
    "\n",
    "is_bin_search_tree(bad_tree)"
   ]
  },
  {
   "cell_type": "code",
   "execution_count": 11,
   "metadata": {},
   "outputs": [
    {
     "data": {
      "text/plain": [
       "False"
      ]
     },
     "execution_count": 11,
     "metadata": {},
     "output_type": "execute_result"
    }
   ],
   "source": [
    "bad_tree = {\n",
    "    1: {'l': 5, 'r': 10},\n",
    "    5: {'l': None, 'r': None},\n",
    "    10: {'l': None, 'r': None}\n",
    "}\n",
    "\n",
    "is_bin_search_tree(bad_tree)"
   ]
  },
  {
   "cell_type": "code",
   "execution_count": 12,
   "metadata": {},
   "outputs": [
    {
     "data": {
      "text/plain": [
       "False"
      ]
     },
     "execution_count": 12,
     "metadata": {},
     "output_type": "execute_result"
    }
   ],
   "source": [
    "bad_tree = {\n",
    "    1: {'l': -1, 'r': 10},\n",
    "    -1: {'l': -2, 'r': 20},\n",
    "    -2: {'l': None, 'r': None},\n",
    "    20: {'l': None, 'r': None},\n",
    "    5: {'l': None, 'r': None},\n",
    "    10: {'l': None, 'r': None}\n",
    "}\n",
    "\n",
    "is_bin_search_tree(bad_tree)"
   ]
  },
  {
   "cell_type": "code",
   "execution_count": null,
   "metadata": {},
   "outputs": [],
   "source": []
  },
  {
   "cell_type": "code",
   "execution_count": 13,
   "metadata": {},
   "outputs": [
    {
     "data": {
      "text/plain": [
       "True"
      ]
     },
     "execution_count": 13,
     "metadata": {},
     "output_type": "execute_result"
    }
   ],
   "source": [
    "good_tree = {\n",
    "    1: {'l': -1, 'r': 10},\n",
    "    -1: {'l': None, 'r': None},\n",
    "    10: {'l': None, 'r': None}\n",
    "}\n",
    "\n",
    "is_bin_search_tree(good_tree)"
   ]
  },
  {
   "cell_type": "code",
   "execution_count": 14,
   "metadata": {},
   "outputs": [
    {
     "data": {
      "text/plain": [
       "True"
      ]
     },
     "execution_count": 14,
     "metadata": {},
     "output_type": "execute_result"
    }
   ],
   "source": [
    "good_tree = {\n",
    "    1: {'l': -1, 'r': 10},\n",
    "    -1: {'l': -2, 'r': -0.5},\n",
    "    -2: {'l': None, 'r': None},\n",
    "    -0.5: {'l': None, 'r': None},\n",
    "    5: {'l': None, 'r': None},\n",
    "    10: {'l': None, 'r': None}\n",
    "}\n",
    "\n",
    "is_bin_search_tree(good_tree)"
   ]
  },
  {
   "cell_type": "code",
   "execution_count": 15,
   "metadata": {},
   "outputs": [
    {
     "data": {
      "text/plain": [
       "True"
      ]
     },
     "execution_count": 15,
     "metadata": {},
     "output_type": "execute_result"
    }
   ],
   "source": [
    "good_tree = {\n",
    "    1: {'l': None, 'r': None},\n",
    "}\n",
    "\n",
    "is_bin_search_tree(good_tree)"
   ]
  },
  {
   "cell_type": "code",
   "execution_count": null,
   "metadata": {},
   "outputs": [],
   "source": [
    "# TODO: вместо двух аргументов value и compare_func(x, y) в функции is_ok\n",
    "#   стоило передавать один аргумент func(x)\n",
    "#   (\"засунуть\" value в func при её определении)"
   ]
  }
 ],
 "metadata": {
  "kernelspec": {
   "display_name": "Python 3",
   "language": "python",
   "name": "python3"
  },
  "language_info": {
   "codemirror_mode": {
    "name": "ipython",
    "version": 3
   },
   "file_extension": ".py",
   "mimetype": "text/x-python",
   "name": "python",
   "nbconvert_exporter": "python",
   "pygments_lexer": "ipython3",
   "version": "3.8.11"
  }
 },
 "nbformat": 4,
 "nbformat_minor": 5
}
