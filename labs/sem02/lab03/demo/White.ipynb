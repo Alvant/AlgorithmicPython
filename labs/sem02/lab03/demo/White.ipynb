{
 "cells": [
  {
   "cell_type": "markdown",
   "id": "0d83b383-5bd0-44a3-b879-5b5f46bf8f7a",
   "metadata": {},
   "source": [
    "# Белый, или Ещё одна задачка на множества и словари\n",
    "\n",
    "([Источник](https://github.com/Alvant/AdvancingPython/tree/master/labs/lab04#%D0%B7%D0%B0%D0%B4%D0%B0%D1%87%D0%B0-nl2-%D0%B1%D0%B5%D0%BB%D1%8B%D0%B9))\n",
    "\n",
    "<div>\n",
    "  <em>\n",
    "    <p align=\"right\">\n",
    "      ...Мокрый снег залепил молочные стекла оранжереи.\n",
    "\t  Ветер трепал хвосты вымпелов и покачивал далекие верхушки мачт недостроенного флота.\n",
    "\t  С моря наползал туман.\n",
    "    </p>\n",
    "\t<p align=\"right\">\n",
    "\t  (\"Буря крыльев\", М. Джон Харрисон. Перевод: Татьяна Серебряная)\n",
    "\t</p>\n",
    "  </em>\n",
    "</div>\n",
    "\n",
    "Говорят, что [эскимосы различают десятки (если даже не сотни) оттенков и состояний снега](https://ru.wikipedia.org/wiki/%D0%AD%D1%81%D0%BA%D0%B8%D0%BC%D0%BE%D1%81%D1%81%D0%BA%D0%B8%D0%B5_%D0%BD%D0%B0%D0%B7%D0%B2%D0%B0%D0%BD%D0%B8%D1%8F_%D1%81%D0%BD%D0%B5%D0%B3%D0%B0).\n",
    "А сколько оттенков белого сможете найти вы с помощью программы на Питоне?\n",
    "\n",
    "В цветовой модели RGB каждый цвет представляется как \"смесь\" трёх цветов в разной пропорции: красного (R), зелёного (G) и синего (B).\n",
    "Доли каждого из трёх цветов можно представлять как действительное число от 0 до 1.\n",
    "Или, ещё один популярный вариант, как целое число от 0 до 255.\n",
    "Например, вот ![#fa259a](https://placehold.co/15x15/fa259a/fa259a.png) цвет, который в RGB координатах представляется как (250, 37, 154) или (0.980, 0.145, 0.604).\n",
    "\n",
    "В файле [colours.txt](https://github.com/Alvant/AdvancingPython/blob/master/labs/lab04/files/colours.txt) построчно записаны цвета.\n",
    "Каждый цвет — как три RGB компоненты (целые числа), разделённые пробелом.\n",
    "Напишите программу, которая бы определила, сколько в указанном файле содержится оттенков белого цвета.\n",
    "*Белым будет считать такой цвет, у которого каждая из трёх RGB компонент не меньше 230*.\n",
    "\n",
    "Результат работы программы — одно число, количество оттенков белого.\n",
    "Это число можно вывести на экран с помощью функции `print` или записать в файл с именем `result.txt`."
   ]
  },
  {
   "cell_type": "markdown",
   "id": "37e4159b-f20a-4053-bb2a-6dd0a21f2730",
   "metadata": {},
   "source": [
    "## Подготовка"
   ]
  },
  {
   "cell_type": "markdown",
   "id": "98681cfc-1b59-45ef-a640-2e97aa53b5f8",
   "metadata": {},
   "source": [
    "Скачаем файл по ссылке:"
   ]
  },
  {
   "cell_type": "code",
   "execution_count": 1,
   "id": "6cc010c4-dfc7-447a-9e10-7886231a3a00",
   "metadata": {},
   "outputs": [
    {
     "name": "stdout",
     "output_type": "stream",
     "text": [
      "--2024-09-25 14:29:42--  https://raw.githubusercontent.com/Alvant/AdvancingPython/refs/heads/master/labs/lab04/files/colours.txt\n",
      "Resolving raw.githubusercontent.com (raw.githubusercontent.com)... 185.199.108.133, 185.199.111.133, 185.199.109.133, ...\n",
      "Connecting to raw.githubusercontent.com (raw.githubusercontent.com)|185.199.108.133|:443... connected.\n",
      "HTTP request sent, awaiting response... 200 OK\n",
      "Length: 221 [text/plain]\n",
      "Saving to: ‘colours.txt’\n",
      "\n",
      "colours.txt         100%[===================>]     221  --.-KB/s    in 0s      \n",
      "\n",
      "2024-09-25 14:29:43 (4,67 MB/s) - ‘colours.txt’ saved [221/221]\n",
      "\n"
     ]
    }
   ],
   "source": [
    "# Для скачивания таким образом с Гитхаба надо использовать ссылку на \"сырой\" файл\n",
    "# (https://unix.stackexchange.com/questions/228412/how-to-wget-a-github-file)\n",
    "\n",
    "! wget https://raw.githubusercontent.com/Alvant/AdvancingPython/refs/heads/master/labs/lab04/files/colours.txt"
   ]
  },
  {
   "cell_type": "code",
   "execution_count": 2,
   "id": "69069312-b372-4843-a6ab-e55db850b488",
   "metadata": {},
   "outputs": [
    {
     "name": "stdout",
     "output_type": "stream",
     "text": [
      "colours.txt\n"
     ]
    }
   ],
   "source": [
    "! ls | grep colours"
   ]
  },
  {
   "cell_type": "markdown",
   "id": "bb4d8aa1-e803-43ee-b22a-90a7dbb0b2cb",
   "metadata": {},
   "source": [
    "Первые строки файла:"
   ]
  },
  {
   "cell_type": "code",
   "execution_count": 3,
   "id": "c97942ac-614c-42e0-8401-e36f956b0c47",
   "metadata": {},
   "outputs": [
    {
     "name": "stdout",
     "output_type": "stream",
     "text": [
      "71 0 39\n",
      "255 250 250\n",
      "94 33 41\n",
      "230 247 239\n",
      "98 229 214\n",
      "251 23 241\n",
      "20 176 144\n",
      "146 227 16\n",
      "18 10 143\n",
      "255 240 245\n"
     ]
    }
   ],
   "source": [
    "! head colours.txt"
   ]
  },
  {
   "cell_type": "markdown",
   "id": "8fd78108-bb88-4bb3-bfd9-6a981dd848e2",
   "metadata": {},
   "source": [
    "Сколько всего строк в файле:"
   ]
  },
  {
   "cell_type": "code",
   "execution_count": 4,
   "id": "21f17702-fb6e-48f6-ac57-7c542c24e813",
   "metadata": {},
   "outputs": [
    {
     "name": "stdout",
     "output_type": "stream",
     "text": [
      "21 colours.txt\n"
     ]
    }
   ],
   "source": [
    "! wc -l colours.txt"
   ]
  },
  {
   "cell_type": "markdown",
   "id": "e25dfce5-fb3b-41fa-b830-345d7ff3ddbc",
   "metadata": {},
   "source": [
    "## Сила словарей"
   ]
  },
  {
   "cell_type": "markdown",
   "id": "449626b0-dcc7-43b4-bec5-47d18a44f052",
   "metadata": {},
   "source": [
    "Цвета можно представлять в виде *тьюплов* — неизменяемых упорядоченных групп элементов (\"неизменяемых списков\").\n",
    "\n",
    "(Можно и без тьюплов, просто для цветов обычно используют их, да и к тому же почему бы не прикоснуться к частичке \"силы тьюплов\", если есть возможность.)"
   ]
  },
  {
   "cell_type": "code",
   "execution_count": 5,
   "id": "b3768159-487d-48a5-bb7e-36fe9d129bac",
   "metadata": {},
   "outputs": [],
   "source": [
    "with open('colours.txt') as f:\n",
    "    lines = f.readlines()  # Файл небольшой, поэтому считаем сразу все строчки\n",
    "\n",
    "colours = []\n",
    "\n",
    "for line in lines:\n",
    "    rgb_components = [int(v) for v in line.split()]\n",
    "    colour = tuple(rgb_components)\n",
    "    # Для создания тьюпла пришлось всё-таки создать список\n",
    "    # (то есть на тьюпл можно смотреть как на в некотором роде \"замороженный список\")\n",
    "\n",
    "    colours.append(colour)"
   ]
  },
  {
   "cell_type": "code",
   "execution_count": 6,
   "id": "0d6006ea-825a-4f76-a07c-fa2c729d2cce",
   "metadata": {},
   "outputs": [],
   "source": [
    "# Однострочный вариант сделать то же самое\n",
    "# (для демонстрации \"силы списков\" и вообще возможностей, которые Питон предоставляет,\n",
    "#  чтоб сделать что-то компактно (порой чересчур)):\n",
    "\n",
    "colours = [\n",
    "    tuple([int(v) for v in line.split()])\n",
    "    for line in lines\n",
    "]"
   ]
  },
  {
   "cell_type": "markdown",
   "id": "8980de20-4783-4590-978e-1217bcaa1a88",
   "metadata": {},
   "source": [
    "Всего цветов:"
   ]
  },
  {
   "cell_type": "code",
   "execution_count": 7,
   "id": "37c00af0-37b7-40e5-9790-e4f5dd70606c",
   "metadata": {},
   "outputs": [
    {
     "data": {
      "text/plain": [
       "21"
      ]
     },
     "execution_count": 7,
     "metadata": {},
     "output_type": "execute_result"
    }
   ],
   "source": [
    "len(colours)"
   ]
  },
  {
   "cell_type": "markdown",
   "id": "2896bccd-0d2e-497d-9568-bb3054a2e957",
   "metadata": {},
   "source": [
    "Примеры цветов:"
   ]
  },
  {
   "cell_type": "code",
   "execution_count": 8,
   "id": "42fcac75-e55a-42dd-a1ff-520df3e5dbfe",
   "metadata": {},
   "outputs": [
    {
     "data": {
      "text/plain": [
       "[(71, 0, 39), (255, 250, 250)]"
      ]
     },
     "execution_count": 8,
     "metadata": {},
     "output_type": "execute_result"
    }
   ],
   "source": [
    "colours[:2]"
   ]
  },
  {
   "cell_type": "markdown",
   "id": "7d1f7d36-2a2f-4d72-ad0e-7593b12cd0b3",
   "metadata": {},
   "source": [
    "Есть ли дубликаты:"
   ]
  },
  {
   "cell_type": "code",
   "execution_count": 9,
   "id": "2e36c540-d3aa-4115-93a9-50f547746549",
   "metadata": {},
   "outputs": [
    {
     "data": {
      "text/plain": [
       "21"
      ]
     },
     "execution_count": 9,
     "metadata": {},
     "output_type": "execute_result"
    }
   ],
   "source": [
    "len(set(colours))"
   ]
  },
  {
   "cell_type": "markdown",
   "id": "94975781-1c32-41ea-8988-0663a105c710",
   "metadata": {},
   "source": [
    "(Длина множества такая же, как списка, поэтому дубликатов нет.)"
   ]
  },
  {
   "cell_type": "markdown",
   "id": "1af0da27-84ab-42a5-9941-bdee10f57482",
   "metadata": {},
   "source": [
    "Цвета как тьюплы — неизменяемые (и потому хэшируемые):"
   ]
  },
  {
   "cell_type": "code",
   "execution_count": 10,
   "id": "ed9fb3af-dd87-4f36-a817-d8c4f063853d",
   "metadata": {},
   "outputs": [
    {
     "name": "stdout",
     "output_type": "stream",
     "text": [
      "Цвет: (71, 0, 39).\n",
      "Не получилось изменить компоненту.\n",
      "Хэш цвета: 3859541203184218745.\n"
     ]
    }
   ],
   "source": [
    "sample_colour = colours[0]\n",
    "\n",
    "print(f'Цвет: {sample_colour}.')\n",
    "\n",
    "try:\n",
    "    sample_colour[0] = 255\n",
    "except TypeError:\n",
    "    print('Не получилось изменить компоненту.')\n",
    "else:\n",
    "    print('Получилось изменить компоненту 😈')\n",
    "\n",
    "print(f'Хэш цвета: {hash(sample_colour)}.')"
   ]
  },
  {
   "cell_type": "markdown",
   "id": "1c987857-2b37-46bd-b97b-476ced1e356d",
   "metadata": {},
   "source": [
    "Теперь по списку цветов построим *словарик*, отображающий каждый цвет (как трио RGB компонент) в булевский индикатор, обозначающий, является ли цвет белым (\"да\" иди \"нет\"):"
   ]
  },
  {
   "cell_type": "code",
   "execution_count": 11,
   "id": "5d3b66f0-a2f6-49c7-b7aa-0b7249a91d9c",
   "metadata": {},
   "outputs": [],
   "source": [
    "# \"Белым будет считать такой цвет, у которого каждая из трёх RGB компонент не меньше 230\"\n",
    "\n",
    "WHITENESS_RGB_THRESHOLD = 230"
   ]
  },
  {
   "cell_type": "code",
   "execution_count": 12,
   "id": "9d731948-eea6-48e9-8ccf-04d7dc375085",
   "metadata": {},
   "outputs": [],
   "source": [
    "colour_is_white = dict()\n",
    "\n",
    "for colour in colours:\n",
    "    \n",
    "    r, g, b = colour  # Питон сделает \"распаковку\" тьюпла,\n",
    "                      # поместив в каждую переменную соответствующее значение (по порядку значений в тьюпле)\n",
    "                      # P.S.\n",
    "                      # Можно проверить, что множество Питон тоже сможет распаковать,\n",
    "                      # хотя там \"порядка\" вроде бы никакого нет...\n",
    "\n",
    "    if (r >= WHITENESS_RGB_THRESHOLD) and (g >= WHITENESS_RGB_THRESHOLD) and (b >= WHITENESS_RGB_THRESHOLD):\n",
    "        colour_is_white[colour] = True\n",
    "    else:\n",
    "        colour_is_white[colour] = False"
   ]
  },
  {
   "cell_type": "markdown",
   "id": "af72733c-6d36-4a9b-b6ba-f70bf6989543",
   "metadata": {},
   "source": [
    "И вариант покороче сделать то же самое (\"сила питонской компактности\"):"
   ]
  },
  {
   "cell_type": "code",
   "execution_count": 13,
   "id": "66ee8cdd-cd16-48d1-800b-752de1c1247a",
   "metadata": {},
   "outputs": [],
   "source": [
    "colour_is_white = {\n",
    "    colour: all(c >= WHITENESS_RGB_THRESHOLD for c in colour)\n",
    "    for colour in colours\n",
    "}"
   ]
  },
  {
   "cell_type": "markdown",
   "id": "ba95e54c-d108-4890-909f-939ede80b8aa",
   "metadata": {},
   "source": [
    "Первая пара ключ-значение словарика (хотя \"первый\" вообще к обычным словарям не применимо, по-хорошему, там нет порядка, но в новых версиях Питона ключи словаря упорядочены по времени добавления):"
   ]
  },
  {
   "cell_type": "code",
   "execution_count": 14,
   "id": "3337bf2b-7d11-4c92-9687-5c1e88b3c433",
   "metadata": {},
   "outputs": [
    {
     "data": {
      "text/plain": [
       "((71, 0, 39), False)"
      ]
     },
     "execution_count": 14,
     "metadata": {},
     "output_type": "execute_result"
    }
   ],
   "source": [
    "list(colour_is_white.items())[0]"
   ]
  },
  {
   "cell_type": "code",
   "execution_count": 15,
   "id": "ca7b5c1c-3929-485f-a1a9-cacafc6a5dd2",
   "metadata": {},
   "outputs": [
    {
     "data": {
      "text/plain": [
       "((71, 0, 39), False)"
      ]
     },
     "execution_count": 15,
     "metadata": {},
     "output_type": "execute_result"
    }
   ],
   "source": [
    "# Или, чуть более оптимальный (и чуть более сложный для понимания) способ:\n",
    "\n",
    "next(iter(colour_is_white.items()))"
   ]
  },
  {
   "cell_type": "markdown",
   "id": "b939e2dd-41bc-42a8-9c8b-a6395ac23234",
   "metadata": {},
   "source": [
    "Теперь создадим словарик \"почти наоборот\": где ключом будет \"индикатор белости\", а значением — количество соответствующих цветов:"
   ]
  },
  {
   "cell_type": "code",
   "execution_count": 16,
   "id": "3f96027e-2b24-4219-a368-a5582ec7db66",
   "metadata": {},
   "outputs": [],
   "source": [
    "is_white_frequency = {\n",
    "    True: 0,\n",
    "    False: 0,\n",
    "}\n",
    "\n",
    "for is_white in colour_is_white.values():\n",
    "    is_white_frequency[is_white] += 1"
   ]
  },
  {
   "cell_type": "markdown",
   "id": "6961df72-0355-41ab-82c3-e0ee7b5b8499",
   "metadata": {},
   "source": [
    "Задача решена.\n",
    "Осталось вывести ответ:"
   ]
  },
  {
   "cell_type": "code",
   "execution_count": 17,
   "id": "8406192c-cebd-400c-a944-68ad0a408ce8",
   "metadata": {},
   "outputs": [
    {
     "name": "stdout",
     "output_type": "stream",
     "text": [
      "Ответ: 7.\n"
     ]
    }
   ],
   "source": [
    "print(f\"Ответ: {is_white_frequency[True]}.\")"
   ]
  },
  {
   "cell_type": "markdown",
   "id": "d6a7a16e-0c11-4ee7-9925-2419b178804b",
   "metadata": {},
   "source": [
    "Или в файл \"result.txt\":"
   ]
  },
  {
   "cell_type": "code",
   "execution_count": 18,
   "id": "6604b30d-6afe-40c3-9ae7-2cc0e02ce959",
   "metadata": {},
   "outputs": [],
   "source": [
    "with open('result.txt', 'w') as f:\n",
    "    f.write(f\"Ответ: {is_white_frequency[True]}.\" + \"\\n\")"
   ]
  },
  {
   "cell_type": "code",
   "execution_count": 19,
   "id": "aa94f693-a9ff-4387-b5d4-3db86e993a9a",
   "metadata": {},
   "outputs": [
    {
     "name": "stdout",
     "output_type": "stream",
     "text": [
      "Ответ: 7.\n"
     ]
    }
   ],
   "source": [
    "! cat result.txt"
   ]
  }
 ],
 "metadata": {
  "kernelspec": {
   "display_name": "topicnet",
   "language": "python",
   "name": "topicnet"
  },
  "language_info": {
   "codemirror_mode": {
    "name": "ipython",
    "version": 3
   },
   "file_extension": ".py",
   "mimetype": "text/x-python",
   "name": "python",
   "nbconvert_exporter": "python",
   "pygments_lexer": "ipython3",
   "version": "3.8.18"
  }
 },
 "nbformat": 4,
 "nbformat_minor": 5
}
