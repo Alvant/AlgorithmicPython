{
 "cells": [
  {
   "cell_type": "markdown",
   "id": "2945bace",
   "metadata": {},
   "source": [
    "# Сумма цифр трёхзначного числа\n",
    "\n",
    "(Задача из контеста по [лабе](http://cs.mipt.ru/algo/lessons/sem_2/01.recall.html).)\n",
    "\n",
    "Дано трёхзначное число. Найдите сумму его цифр.\n",
    "\n",
    "### Формат входных данных\n",
    "\n",
    "Вводится трёхзначное число: не меньшее 100 и не большее 999.\n",
    "\n",
    "### Формат выходных данных\n",
    "\n",
    "Одно число — сумма цифр. \n",
    "\n",
    "### Примеры\n",
    "\n",
    "<br/>\n",
    "\n",
    "<div style=\"display: inline-block\">\n",
    "\n",
    "| Вход | Выход   |\n",
    "| ---  | ------- |\n",
    "| 179  | 17      |\n",
    "\n",
    "</div>"
   ]
  },
  {
   "cell_type": "markdown",
   "id": "2e1503bf",
   "metadata": {},
   "source": [
    "# Решение"
   ]
  },
  {
   "cell_type": "markdown",
   "id": "85a9de5b",
   "metadata": {},
   "source": [
    "Возьмём число:"
   ]
  },
  {
   "cell_type": "code",
   "execution_count": 1,
   "id": "13ad6015",
   "metadata": {},
   "outputs": [],
   "source": [
    "a = 2024"
   ]
  },
  {
   "cell_type": "markdown",
   "id": "ebd209cf",
   "metadata": {},
   "source": [
    "## 1. \"Извлекание\" цифр"
   ]
  },
  {
   "cell_type": "code",
   "execution_count": 2,
   "id": "6525fc7f",
   "metadata": {},
   "outputs": [
    {
     "name": "stdout",
     "output_type": "stream",
     "text": [
      "Digits: 2 0 2 4\n",
      "Sum: 8\n"
     ]
    }
   ],
   "source": [
    "d0 = a % 10         # 2024 -> 4\n",
    "d1 = a % 100 // 10  # 2024 -> 24 -> 2\n",
    "d2 = a // 100 % 10  # 2024 -> 20 -> 0\n",
    "d3 = a // 1000      # 2024 -> 2\n",
    "\n",
    "print('Digits:', d3, d2, d1, d0)\n",
    "print('Sum:', d0 + d1 + d2 + d3)"
   ]
  },
  {
   "cell_type": "markdown",
   "id": "101571dc",
   "metadata": {},
   "source": [
    "## 2. \"Отсекание\" цифр"
   ]
  },
  {
   "cell_type": "code",
   "execution_count": 3,
   "id": "969b11bb",
   "metadata": {},
   "outputs": [
    {
     "name": "stdout",
     "output_type": "stream",
     "text": [
      "Digits: 2 0 2 4\n",
      "Sum: 8\n"
     ]
    }
   ],
   "source": [
    "b = a\n",
    "digits = []\n",
    "\n",
    "while b > 0:\n",
    "    d = b % 10\n",
    "    digits.append(d)\n",
    "    b = b // 10\n",
    "\n",
    "print('Digits:', *digits[::-1])\n",
    "print('Sum:', sum(digits))"
   ]
  },
  {
   "cell_type": "markdown",
   "id": "8f5eb021",
   "metadata": {},
   "source": [
    "## 3. Список символов цифр"
   ]
  },
  {
   "cell_type": "code",
   "execution_count": 4,
   "id": "45a8d8a8",
   "metadata": {},
   "outputs": [
    {
     "name": "stdout",
     "output_type": "stream",
     "text": [
      "Digits: 2 0 2 4\n",
      "Sum: 8\n"
     ]
    }
   ],
   "source": [
    "char_digits = list(str(a))\n",
    "digits = [int(d) for d in char_digits]\n",
    "\n",
    "print('Digits:', *digits)\n",
    "print('Sum:', sum(digits))"
   ]
  },
  {
   "cell_type": "markdown",
   "id": "baa75a59",
   "metadata": {},
   "source": [
    "## 4. Список символов цифр (развёрнутый вариант)"
   ]
  },
  {
   "cell_type": "code",
   "execution_count": 5,
   "id": "654d30b0",
   "metadata": {},
   "outputs": [
    {
     "name": "stdout",
     "output_type": "stream",
     "text": [
      "Digits: 4 2 0 2\n",
      "Sum: 8\n"
     ]
    }
   ],
   "source": [
    "str_num = str(a)\n",
    "digits = []\n",
    "\n",
    "for c in str_num:\n",
    "    digits.append(int(c))\n",
    "\n",
    "print('Digits:', *digits[::-1])\n",
    "print('Sum:', sum(digits))"
   ]
  },
  {
   "cell_type": "markdown",
   "id": "d7c511d2",
   "metadata": {},
   "source": [
    "## 5. Re"
   ]
  },
  {
   "cell_type": "code",
   "execution_count": 6,
   "id": "031367f1",
   "metadata": {},
   "outputs": [],
   "source": [
    "import re"
   ]
  },
  {
   "cell_type": "code",
   "execution_count": 7,
   "id": "8d4940f0",
   "metadata": {},
   "outputs": [
    {
     "name": "stdout",
     "output_type": "stream",
     "text": [
      "Digits: 2 0 2 4\n",
      "Sum: 8\n"
     ]
    }
   ],
   "source": [
    "char_digits = re.findall('\\d', str(a))\n",
    "digits = [int(d) for d in char_digits]\n",
    "\n",
    "print('Digits:', *digits)\n",
    "print('Sum:', sum(digits))"
   ]
  },
  {
   "cell_type": "markdown",
   "id": "822e9564",
   "metadata": {},
   "source": [
    "## 6. Тупо перебор цифр, или Count"
   ]
  },
  {
   "cell_type": "code",
   "execution_count": 8,
   "id": "a52534c8",
   "metadata": {},
   "outputs": [
    {
     "name": "stdout",
     "output_type": "stream",
     "text": [
      "Sum: 8\n"
     ]
    }
   ],
   "source": [
    "DIGITS = [0, 1, 2, 3, 4, 5, 6, 7, 8, 9]\n",
    "\n",
    "str_num = str(a)\n",
    "s = 0\n",
    "\n",
    "for d in DIGITS:\n",
    "    s = s + d * str_num.count(str(d))\n",
    "\n",
    "print('Sum:', s)"
   ]
  },
  {
   "cell_type": "markdown",
   "id": "ae5cbb77",
   "metadata": {},
   "source": [
    "## 7. Через функцию"
   ]
  },
  {
   "cell_type": "code",
   "execution_count": 9,
   "id": "00467bc6",
   "metadata": {},
   "outputs": [
    {
     "name": "stdout",
     "output_type": "stream",
     "text": [
      "Sum: 8\n"
     ]
    }
   ],
   "source": [
    "def sum_digits(n: int) -> int:\n",
    "    char_digits = list(str(a))\n",
    "    digits = [int(d) for d in char_digits]\n",
    "\n",
    "    return sum(digits)\n",
    "\n",
    "\n",
    "print('Sum:', sum_digits(a))"
   ]
  },
  {
   "cell_type": "markdown",
   "id": "a5ce00c3",
   "metadata": {},
   "source": [
    "## 8. Через класс"
   ]
  },
  {
   "cell_type": "code",
   "execution_count": 10,
   "id": "e34edaee",
   "metadata": {},
   "outputs": [
    {
     "name": "stdout",
     "output_type": "stream",
     "text": [
      "Sum: 8\n"
     ]
    }
   ],
   "source": [
    "class Calculator:\n",
    "    @staticmethod\n",
    "    def sum_digits(n: int) -> int:\n",
    "        char_digits = list(str(a))\n",
    "        digits = [int(d) for d in char_digits]\n",
    "\n",
    "        return sum(digits)\n",
    "\n",
    "\n",
    "print('Sum:', Calculator.sum_digits(a))"
   ]
  },
  {
   "cell_type": "markdown",
   "id": "27297c55",
   "metadata": {},
   "source": [
    "## 9. Eval"
   ]
  },
  {
   "cell_type": "code",
   "execution_count": 11,
   "id": "d383e696",
   "metadata": {},
   "outputs": [
    {
     "name": "stdout",
     "output_type": "stream",
     "text": [
      "Sum: 8\n"
     ]
    }
   ],
   "source": [
    "result = eval('+'.join(list(str(a))))\n",
    "\n",
    "print('Sum:', Calculator.sum_digits(a))"
   ]
  },
  {
   "cell_type": "markdown",
   "id": "cf5abd09",
   "metadata": {},
   "source": [
    "*P.S.*\n",
    "\n",
    "Но вообще eval-ом пользоваться не рекомендуется, потому что это \"мутно\":\n",
    "\n",
    "* https://realpython.com/python-eval-function/#minimizing-the-security-issues-of-eval\n",
    "* https://stackoverflow.com/a/1832957/8094251\n",
    "* https://stackoverflow.com/a/1834754/8094251"
   ]
  },
  {
   "cell_type": "markdown",
   "id": "9ccc28ff",
   "metadata": {},
   "source": [
    "## 10*. AI\n",
    "\n",
    "Пример основан на примерах отсюда:\n",
    "* https://huggingface.co/openchat/openchat-3.6-8b-20240522\n",
    "* https://huggingface.co/microsoft/Phi-3.5-mini-instruct"
   ]
  },
  {
   "cell_type": "code",
   "execution_count": null,
   "id": "d9565b0a",
   "metadata": {},
   "outputs": [],
   "source": [
    "# Install PyTorch: https://pytorch.org/get-started/locally\n",
    "\n",
    "! pip install transformers\n",
    "! pip install accelerate"
   ]
  },
  {
   "cell_type": "code",
   "execution_count": 12,
   "id": "bcae5305",
   "metadata": {},
   "outputs": [],
   "source": [
    "import os\n",
    "\n",
    "# Turn off CUDA (we don't need it, and probably you don't have it)\n",
    "os.environ['CUDA_VISIBLE_DEVICES'] = '-1'"
   ]
  },
  {
   "cell_type": "code",
   "execution_count": 13,
   "id": "0a1b7d62",
   "metadata": {},
   "outputs": [],
   "source": [
    "from transformers import AutoTokenizer, AutoModelForCausalLM"
   ]
  },
  {
   "cell_type": "code",
   "execution_count": 14,
   "id": "2b926bb4",
   "metadata": {},
   "outputs": [
    {
     "data": {
      "application/vnd.jupyter.widget-view+json": {
       "model_id": "98a9280a180d4f488b8ca6914833dbba",
       "version_major": 2,
       "version_minor": 0
      },
      "text/plain": [
       "Loading checkpoint shards:   0%|          | 0/2 [00:00<?, ?it/s]"
      ]
     },
     "metadata": {},
     "output_type": "display_data"
    }
   ],
   "source": [
    "model_id = \"microsoft/Phi-3.5-mini-instruct\"  # ~ 7-8 Gb\n",
    "\n",
    "tokenizer = AutoTokenizer.from_pretrained(model_id)\n",
    "model = AutoModelForCausalLM.from_pretrained(\n",
    "    model_id,\n",
    "    device_map=\"auto\"\n",
    ")"
   ]
  },
  {
   "cell_type": "code",
   "execution_count": 16,
   "id": "4d7102ab",
   "metadata": {},
   "outputs": [
    {
     "name": "stderr",
     "output_type": "stream",
     "text": [
      "The attention mask is not set and cannot be inferred from input because pad token is same as eos token. As a consequence, you may observe unexpected behavior. Please pass your input's `attention_mask` to obtain reliable results.\n",
      "You are not running the flash-attention implementation, expect numerical differences.\n"
     ]
    },
    {
     "name": "stdout",
     "output_type": "stream",
     "text": [
      "Sum: 8\n"
     ]
    }
   ],
   "source": [
    "messages = [\n",
    "    {\n",
    "        \"role\": \"system\",\n",
    "        \"content\": \"You are a helpful AI assistant.\"\n",
    "    },\n",
    "    {\n",
    "        \"role\": \"user\",\n",
    "        \"content\": (\n",
    "            f\"Дано число: {a}.\"\n",
    "            f\" Посчитай сумму его цифр.\"\n",
    "            f\" В качестве ответа скажи только одно число — значение суммы.\"\n",
    "        )\n",
    "    },\n",
    "]\n",
    "\n",
    "input_ids = tokenizer.apply_chat_template(\n",
    "    messages,\n",
    "    add_generation_prompt=True,\n",
    "    return_tensors=\"pt\"\n",
    ")\n",
    "input_ids = input_ids.to(model.device)\n",
    "\n",
    "outputs = model.generate(\n",
    "    input_ids,\n",
    "    do_sample=False,\n",
    "    max_new_tokens=10\n",
    ")\n",
    "response = outputs[0][input_ids.shape[-1]:]\n",
    "\n",
    "answer = tokenizer.decode(response, skip_special_tokens=True)\n",
    "\n",
    "print('Sum:', answer)"
   ]
  },
  {
   "cell_type": "markdown",
   "id": "b00e05cc",
   "metadata": {},
   "source": [
    "*P.S.*\n",
    "\n",
    "Можно посмотреть весь вход модели как текст:\n",
    "\n",
    "```python\n",
    "tokenizer.apply_chat_template(\n",
    "    messages,\n",
    "    add_generation_prompt=True,\n",
    "    tokenize=False,\n",
    ")\n",
    "```\n",
    "\n",
    "Можно посмотреть весь выход:\n",
    "\n",
    "```python\n",
    "tokenizer.decode(outputs[0])\n",
    "```"
   ]
  },
  {
   "cell_type": "markdown",
   "id": "059baf67",
   "metadata": {},
   "source": [
    "## 11*. LLLambda"
   ]
  },
  {
   "cell_type": "code",
   "execution_count": 17,
   "id": "f2b94695",
   "metadata": {},
   "outputs": [
    {
     "name": "stdout",
     "output_type": "stream",
     "text": [
      "Sum: 8\n"
     ]
    }
   ],
   "source": [
    "sum_digits = lambda n: (lambda f, x: f(f, x))(lambda g, y: y % 10 + g(g, y // 10) if y > 0 else 0, n)\n",
    "\n",
    "print('Sum:', sum_digits(a))"
   ]
  },
  {
   "cell_type": "markdown",
   "id": "9c98c332",
   "metadata": {},
   "source": [
    "*P.S.*\n",
    "\n",
    "Автор ноутбука сам до такого никогда бы не додумался 😅\n",
    "Решение вдохновлено воспоминаниями об:\n",
    "* однострочнике по удалению дубликатов из списка: https://stackoverflow.com/a/41524134/8094251.\n",
    "* и способе сделать reduce через лямбды: https://stackoverflow.com/a/44071474/8094251."
   ]
  }
 ],
 "metadata": {
  "kernelspec": {
   "display_name": "omniquant",
   "language": "python",
   "name": "omniquant"
  },
  "language_info": {
   "codemirror_mode": {
    "name": "ipython",
    "version": 3
   },
   "file_extension": ".py",
   "mimetype": "text/x-python",
   "name": "python",
   "nbconvert_exporter": "python",
   "pygments_lexer": "ipython3",
   "version": "3.10.12"
  }
 },
 "nbformat": 4,
 "nbformat_minor": 5
}
