{
 "cells": [
  {
   "cell_type": "markdown",
   "id": "1e3c46a9",
   "metadata": {},
   "source": [
    "# Задача B: Алгоритм Форда – Беллмана\n",
    "\n",
    "Источник: [лаба про пути](http://cs.mipt.ru/algo/lessons/sem_2/09.graph_deykstra.html).\n",
    "\n",
    "Дан ориентированный взвешенный граф и номер стартовой вершины.\n",
    "Вершины нумеруются с нуля.\n",
    "Необходимо определить кратчайшие расстояния от стартовой вершины до остальных. \n",
    " \n",
    "## Формат входных данных\n",
    "\n",
    "На вход программе в первой строке подается три числа через пробел:\n",
    "\n",
    "* 2 ≤ `n` ≤ 1000 — число вершин в графе\n",
    "* 1 ≤ `m` ≤ 1000 — число рёбер\n",
    "* `s` — номер начальной вершины\n",
    "\n",
    "В следующих `m` строках задаются рёбра.\n",
    "Ребро задаётся тремя числами через пробел:\n",
    "\n",
    "* начало ребра\n",
    "* конец ребра\n",
    "* вес ребра\n",
    "\n",
    "Вес ребра — целое число, по модулю не превышаюшее 1000. \n",
    "\n",
    "## Формат выходных данных\n",
    "\n",
    "Необходимо вывести строку из n элементов через пробел — расстояния до вершин из заданной.\n",
    "Если расстояние до какой-то вершины не определено, то выведите вместо этого расстояния строку \"UDF\". \n",
    "\n",
    "## Примеры\n",
    "\n",
    "Пример 1:\n",
    "```\n",
    "Вход:\n",
    "\n",
    "2 1 0\n",
    "0 1 5\n",
    "\n",
    "Выход:\n",
    "\n",
    "0 5\n",
    "```\n",
    "\n",
    "Пример 2:\n",
    "```\n",
    "Вход:\n",
    "\n",
    "4 5 0\n",
    "0 1 10\n",
    "0 2 40\n",
    "1 2 15\n",
    "0 3 20\n",
    "3 1 5\n",
    "\n",
    "Выход:\n",
    "\n",
    "0 10 25 20\n",
    "```"
   ]
  },
  {
   "cell_type": "markdown",
   "id": "983dec0c",
   "metadata": {},
   "source": [
    "## Решение"
   ]
  },
  {
   "cell_type": "code",
   "execution_count": 1,
   "id": "7fd36a9c",
   "metadata": {},
   "outputs": [],
   "source": [
    "from typing import Dict"
   ]
  },
  {
   "cell_type": "markdown",
   "id": "835db6b3",
   "metadata": {},
   "source": [
    "### Считывание данных (\"сырой\" граф)"
   ]
  },
  {
   "cell_type": "code",
   "execution_count": 2,
   "id": "21a4d078",
   "metadata": {},
   "outputs": [
    {
     "name": "stdout",
     "output_type": "stream",
     "text": [
      "4 5 0\n",
      "0 1 10\n",
      "0 2 40\n",
      "1 2 15\n",
      "0 3 20\n",
      "3 1 5\n"
     ]
    }
   ],
   "source": [
    "V, E, start = [int(n) for n in input().split()]\n",
    "\n",
    "edges = []\n",
    "\n",
    "for _ in range(E):\n",
    "    v1, v2, w = [int(n) for n in input().split()]\n",
    "    edges.append((v1, v2, w))"
   ]
  },
  {
   "cell_type": "markdown",
   "id": "8c403aad",
   "metadata": {},
   "source": [
    "### \"Причёсывание\" графа\n",
    "\n",
    "с прицелом на последующего Беллмана – Форда для поиска расстояний (ради этого хэш)"
   ]
  },
  {
   "cell_type": "code",
   "execution_count": 3,
   "id": "3fd75b25",
   "metadata": {},
   "outputs": [],
   "source": [
    "class Node:\n",
    "    def __init__(self, value):\n",
    "        self.value = value\n",
    "        self.descendants: Dict[Node, int] = dict()\n",
    "\n",
    "    def __eq__(self, other):\n",
    "        return self.value == other.value\n",
    "    \n",
    "    def __hash__(self):\n",
    "        return hash(self.value)"
   ]
  },
  {
   "cell_type": "code",
   "execution_count": 4,
   "id": "0736c326",
   "metadata": {},
   "outputs": [],
   "source": [
    "nodes = [\n",
    "    Node(i) for i in range(V)\n",
    "]\n",
    "\n",
    "for edge in edges:\n",
    "    v1, v2, w = edge\n",
    "    nodes[v1].descendants[nodes[v2]] = w  # пользуемся тем, что вершины пронумерованы"
   ]
  },
  {
   "cell_type": "code",
   "execution_count": 5,
   "id": "06efde3b",
   "metadata": {},
   "outputs": [],
   "source": [
    "def find_distances_bfs(root):\n",
    "    distances = {\n",
    "        n: float('+inf') for n in nodes\n",
    "    }\n",
    "    distances[root] = 0\n",
    "\n",
    "    wave = [root]\n",
    "    queue = [wave]\n",
    "    \n",
    "    max_step = V - 1  # если циклов нет, то во всех кратчайших путях будет максимум V - 1 ребро\n",
    "    \n",
    "    for current_step in range(1, max_step + 1):\n",
    "        # Start is also included in wave (wave = start + all steps)\n",
    "        assert all(len(w) == current_step for w in queue)\n",
    "\n",
    "        step_forward_bfs(queue, distances)\n",
    "    \n",
    "    if len(queue) == 0:  # нет циклов отрицательной длины\n",
    "        return distances\n",
    "\n",
    "    find_negative_cycles_bfs(queue, distances)\n",
    "\n",
    "    return distances\n",
    "\n",
    "\n",
    "def step_forward_bfs(queue, distances):\n",
    "    if len(queue) == 0:\n",
    "        return\n",
    "    \n",
    "    assert all(len(wave) == len(first_wave := queue[0]) for wave in queue)\n",
    "\n",
    "    num_waves_to_expand = len(queue)  # all new waves go to the next round of BF\n",
    "\n",
    "    for _ in range(num_waves_to_expand):\n",
    "        wave = queue.pop(0)  # it's not very nice to pop from list's start, but whatever\n",
    "        root = wave[-1]\n",
    "\n",
    "        for d, w in root.descendants.items():\n",
    "            if distances[d] > (new_distance := distances[root] + w):\n",
    "                if d in wave and new_distance < 0:\n",
    "                    distances[d] = float('-inf')\n",
    "                else:\n",
    "                    distances[d] = new_distance\n",
    "\n",
    "                new_wave = list(wave) + [d]\n",
    "                queue.append(new_wave)\n",
    "\n",
    "\n",
    "def find_negative_cycles_bfs(queue, distances):        \n",
    "    frozen_distances = dict(distances)  # copy\n",
    "    step_forward_bfs(queue, distances)\n",
    "    \n",
    "    if distances == frozen_distances:  # нет циклов отрицательной длины\n",
    "        assert len(queue) == 0\n",
    "        \n",
    "        return distances\n",
    "\n",
    "    assert len(queue) > 0\n",
    "        \n",
    "    while len(queue) > 0:  # it will be zero after some time\n",
    "                           # (because updates will stop -- all updated distances are set equal to -inf)\n",
    "        updated_nodes = [wave[-1] for wave in queue]\n",
    "        \n",
    "        for node in updated_nodes:\n",
    "            distances[node] = float('-inf')\n",
    "\n",
    "        assert all(distances[n] < frozen_distances[n] for n in updated_nodes)\n",
    "\n",
    "        step_forward_bfs(queue, distances)"
   ]
  },
  {
   "cell_type": "code",
   "execution_count": 6,
   "id": "e4ecb5f5",
   "metadata": {},
   "outputs": [
    {
     "name": "stdout",
     "output_type": "stream",
     "text": [
      "0 10 25 20\n"
     ]
    }
   ],
   "source": [
    "distances = find_distances_bfs(nodes[start])\n",
    "\n",
    "for n, d in distances.items():\n",
    "    if d in [float('+inf'), float('-inf')]:\n",
    "        distances[n] = 'UDF'\n",
    "\n",
    "print(*distances.values())"
   ]
  }
 ],
 "metadata": {
  "kernelspec": {
   "display_name": "omniquant",
   "language": "python",
   "name": "omniquant"
  },
  "language_info": {
   "codemirror_mode": {
    "name": "ipython",
    "version": 3
   },
   "file_extension": ".py",
   "mimetype": "text/x-python",
   "name": "python",
   "nbconvert_exporter": "python",
   "pygments_lexer": "ipython3",
   "version": "3.10.12"
  }
 },
 "nbformat": 4,
 "nbformat_minor": 5
}
