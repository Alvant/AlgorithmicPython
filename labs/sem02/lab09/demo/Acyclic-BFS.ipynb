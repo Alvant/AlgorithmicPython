{
 "cells": [
  {
   "cell_type": "markdown",
   "id": "1e3c46a9",
   "metadata": {},
   "source": [
    "# Задача C: Нахождение кратчайшего цикла в ориентированном невзвешенном графе\n",
    "\n",
    "Источник: [лаба про BFS](http://cs.mipt.ru/algo/lessons/sem_2/09.graph_bfs.html).\n",
    "\n",
    "Дан ориентированный граф.\n",
    "Вершины пронумерованы от 0.\n",
    "Трeбуется с помощью обхода в ширину найти цикл минимальной длины.\n",
    " \n",
    "## Формат входных данных\n",
    "\n",
    "На вход программе в первой строке подаются через пробел два числа: N (2 <= N <= 1000) — число вершин в графе и M (1 <= M <= 20000) — число рёбер.\n",
    "В следующих M строках задаются рёбра, по два числа в каждой строке — номера соединённых вершин (соответствующее ребро идет из первой вершины во вторую).\n",
    "\n",
    "## Формат выходных данных\n",
    "\n",
    "Требуется распечатать номера вершин, задающих минимальный цикл в графе.\n",
    "Номера вершин нужно вывести в порядке следования по циклу.\n",
    "Если минимальных циклов несколько вывести любой.\n",
    "Если циклов нет вывести строку \"NO CYCLES\" без кавычек. \n",
    "\n",
    "## Примеры\n",
    "\n",
    "Пример 1:\n",
    "```\n",
    "Вход:\n",
    "\n",
    "4 1\n",
    "3 1\n",
    "\n",
    "Выход:\n",
    "\n",
    "NO CYCLES\n",
    "```\n",
    "\n",
    "Пример 2:\n",
    "```\n",
    "Вход:\n",
    "\n",
    "8 8\n",
    "7 3\n",
    "3 1\n",
    "5 2\n",
    "6 4\n",
    "6 7\n",
    "4 7\n",
    "1 6\n",
    "1 2\n",
    "\n",
    "Выход:\n",
    "\n",
    "1 6 7 3\n",
    "```"
   ]
  },
  {
   "cell_type": "markdown",
   "id": "983dec0c",
   "metadata": {},
   "source": [
    "## Решение"
   ]
  },
  {
   "cell_type": "markdown",
   "id": "835db6b3",
   "metadata": {},
   "source": [
    "### Считывание данных (\"сырой\" граф)"
   ]
  },
  {
   "cell_type": "code",
   "execution_count": 1,
   "id": "21a4d078",
   "metadata": {},
   "outputs": [
    {
     "name": "stdout",
     "output_type": "stream",
     "text": [
      "8 8\n",
      "7 3\n",
      "3 1\n",
      "5 2\n",
      "6 4\n",
      "6 7\n",
      "4 7\n",
      "1 6\n",
      "1 2\n"
     ]
    }
   ],
   "source": [
    "V, E = [int(n) for n in input().split()]\n",
    "\n",
    "edges = []\n",
    "\n",
    "for _ in range(E):\n",
    "    v1, v2 = [int(n) for n in input().split()]\n",
    "    edges.append((v1, v2))"
   ]
  },
  {
   "cell_type": "markdown",
   "id": "8c403aad",
   "metadata": {},
   "source": [
    "### \"Причёсывание\" графа\n",
    "\n",
    "с прицелом на последующий DFS для поиска цикла"
   ]
  },
  {
   "cell_type": "code",
   "execution_count": 2,
   "id": "3fd75b25",
   "metadata": {},
   "outputs": [],
   "source": [
    "class Node:\n",
    "    def __init__(self, value):\n",
    "        self.value = value\n",
    "        self.descendants = list()\n",
    "        \n",
    "        # Проводили ли поиск в ширину из данной вершины (хотя бы раз)\n",
    "        # (необходимость этого поля под сомнением)\n",
    "        self.is_bfsed = False\n",
    "\n",
    "    def __eq__(self, other):\n",
    "        return self.value == other.value"
   ]
  },
  {
   "cell_type": "code",
   "execution_count": 3,
   "id": "0736c326",
   "metadata": {},
   "outputs": [],
   "source": [
    "nodes = [\n",
    "    Node(i) for i in range(V)\n",
    "]\n",
    "\n",
    "for edge in edges:\n",
    "    v1, v2 = edge\n",
    "    nodes[v1].descendants.append(nodes[v2])  # пользуемся тем, что вершины пронумерованы"
   ]
  },
  {
   "cell_type": "markdown",
   "id": "98f30b25",
   "metadata": {},
   "source": [
    "### Поиск цикла"
   ]
  },
  {
   "cell_type": "code",
   "execution_count": 4,
   "id": "c85f9355",
   "metadata": {},
   "outputs": [],
   "source": [
    "# Можно бы было бэ-эф-эс-ную волну оформить в отдельный класс\n",
    "# Стало бы проще\n",
    "# Или нет -- точнее, не во всех аспектах.\n",
    "# Поэтому отдельный класс оставим только \"в проекте\"\n",
    "\n",
    "# class Wave:\n",
    "#     def __init__(self, start: Node):\n",
    "#         self.nodes = [start]\n",
    "    \n",
    "#     def last(self) -> Node:\n",
    "#         return self.nodes[-1]\n",
    "    \n",
    "#     def append(self, node: Node) -> None:\n",
    "#         self.nodes.append(node)"
   ]
  },
  {
   "cell_type": "code",
   "execution_count": 5,
   "id": "06efde3b",
   "metadata": {},
   "outputs": [],
   "source": [
    "def find_cycle_bfs(root):\n",
    "    wave = [root]\n",
    "    queue = [wave]\n",
    "    \n",
    "    return _find_cycle_bfs(queue)\n",
    "\n",
    "\n",
    "def _find_cycle_bfs(queue):\n",
    "    if len(queue) == 0:\n",
    "        return None\n",
    "    \n",
    "    wave = queue.pop(0)  # It's not very nice to pop from list's start, but whatever\n",
    "    root = wave[-1]\n",
    "\n",
    "    for d in root.descendants:\n",
    "        if d.is_bfsed and d in wave:  # цикл\n",
    "            return restore_cycle(first=d, last=root, wave=wave)\n",
    "        \n",
    "        new_wave = list(wave) + [d]\n",
    "        queue.append(new_wave)\n",
    "    \n",
    "    root.is_bfsed = True\n",
    "    \n",
    "    return _find_cycle_bfs(queue)\n",
    "\n",
    "\n",
    "def restore_cycle(first, last, wave):\n",
    "    assert first in wave\n",
    "    assert last in wave\n",
    "    assert wave[-1] == last\n",
    "\n",
    "    cycle_start_index = wave.index(first)\n",
    "    cycle = wave[cycle_start_index:]\n",
    "\n",
    "    return cycle"
   ]
  },
  {
   "cell_type": "code",
   "execution_count": 6,
   "id": "e4ecb5f5",
   "metadata": {},
   "outputs": [
    {
     "name": "stdout",
     "output_type": "stream",
     "text": [
      "1 6 7 3\n"
     ]
    }
   ],
   "source": [
    "# Ищет первый цикл! (возможно, есть и ещё меньшей длины...)\n",
    "\n",
    "for node in nodes:\n",
    "    if node.is_bfsed:\n",
    "        continue\n",
    "    \n",
    "    cycle = find_cycle_bfs(node)\n",
    "    \n",
    "    if cycle is not None:\n",
    "        cycle_values = [n.value for n in cycle]\n",
    "        \n",
    "        print(*cycle_values)\n",
    "        \n",
    "        break\n",
    "else:\n",
    "    print('NO CYCLES')"
   ]
  }
 ],
 "metadata": {
  "kernelspec": {
   "display_name": "omniquant",
   "language": "python",
   "name": "omniquant"
  },
  "language_info": {
   "codemirror_mode": {
    "name": "ipython",
    "version": 3
   },
   "file_extension": ".py",
   "mimetype": "text/x-python",
   "name": "python",
   "nbconvert_exporter": "python",
   "pygments_lexer": "ipython3",
   "version": "3.10.12"
  }
 },
 "nbformat": 4,
 "nbformat_minor": 5
}
