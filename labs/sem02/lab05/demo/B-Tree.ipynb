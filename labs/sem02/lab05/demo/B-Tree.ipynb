{
 "cells": [
  {
   "cell_type": "markdown",
   "id": "0a008169-2534-4604-aa99-bbcf1d5b834a",
   "metadata": {},
   "source": [
    "# B-Tree"
   ]
  },
  {
   "cell_type": "markdown",
   "id": "9ab306d2",
   "metadata": {},
   "source": [
    "## Задача B: Высота дерева\n",
    "\n",
    "```\n",
    "Реализуйте бинарное дерево поиска для целых чисел. Программа получает на вход последовательность целых чисел и строит из них дерево. Элементы в деревья добавляются в соответствии с результатом поиска их места. Балансировка дерева не производится.\n",
    "\n",
    "Формат входных данных\n",
    "На вход программа получает последовательность различных натуральных чисел меньших 10000.\n",
    "\n",
    "Формат выходных данных\n",
    "Выведите единственное число – высоту получившегося дерева. \n",
    "```\n",
    "\n",
    "Примеры:\n",
    "```\n",
    "Вход:  5 15 18\n",
    "Выход: 3\n",
    "\n",
    "Вход:  12 26 23 28 33 8\n",
    "Выход: 4\n",
    "\n",
    "Вход:  35 8 6 48 30 17 4 43 42\n",
    "Выход: 4\n",
    "```"
   ]
  },
  {
   "cell_type": "markdown",
   "id": "741e0b2e-23d8-4a84-a646-8d2f3c56a870",
   "metadata": {},
   "source": [
    "Будем представлять дерево в виде словарика такого вида:\n",
    "```\n",
    "d = {\n",
    "    root_value: [left_value, right_value],\n",
    "    ...\n",
    "}\n",
    "```\n",
    "\n",
    "\"Словарное\" представление возможно, потому что по условию задачи числа, которые предполагается хранить в дереве, *различны*.\n",
    "\n",
    "(А вообще для работы с деревом можно бы было ещё использовать структуру типа связного списка: набор узлов `Node`, каждый узел хранит значение `value` и ссылки на левого `left` и правого `right` потомков.\n",
    "Само дерево `Tree` определяется выбором корневого узла `root`.)"
   ]
  },
  {
   "cell_type": "code",
   "execution_count": 4,
   "id": "a718d194",
   "metadata": {},
   "outputs": [
    {
     "name": "stdin",
     "output_type": "stream",
     "text": [
      " 35 8 6 48 30 17 4 43 42\n"
     ]
    },
    {
     "name": "stdout",
     "output_type": "stream",
     "text": [
      "4\n"
     ]
    }
   ],
   "source": [
    "s = input()\n",
    "\n",
    "values = [\n",
    "    int(v) for v in s.split()\n",
    "]\n",
    "\n",
    "tree = {}\n",
    "root = None\n",
    "\n",
    "# Будем каждый раз при добавлении нового значения смотреть на высоту,\n",
    "# на которой будет создаваться узел с этим значением\n",
    "max_height = 0\n",
    "\n",
    "for v in values:\n",
    "    if len(tree) == 0:\n",
    "        root = v  # Старт -- корень дерева\n",
    "        tree[root] = [None, None]\n",
    "        max_height = 1\n",
    "        \n",
    "        continue\n",
    "\n",
    "    current_root = root\n",
    "    current_height = 1\n",
    "\n",
    "    is_from_left  = lambda x, r: x <= r\n",
    "    is_from_right = lambda x, r: x > r\n",
    "    is_left_nonempty  = lambda r: tree[r][0] is not None\n",
    "    is_right_nonempty = lambda r: tree[r][1] is not None\n",
    "\n",
    "    # Ищем свободное место\n",
    "    while (is_from_left(v, current_root) and is_left_nonempty(current_root)         # Место слева занято\n",
    "           or is_from_right(v, current_root) and is_right_nonempty(current_root)):  # Место справа занято\n",
    "        \n",
    "        # Перешли в нужное поддерево\n",
    "        if v <= current_root:\n",
    "            current_root = tree[current_root][0]\n",
    "        else:\n",
    "            current_root = tree[current_root][1]\n",
    "        \n",
    "        current_height += 1\n",
    "    \n",
    "    # До этого нашли свободное место, но теперь надо вспомнить, где оно: слева или справа\n",
    "    if is_from_left(v, current_root):\n",
    "        tree[current_root][0] = v   # Сохранили v как потомок root (левый)\n",
    "    else:\n",
    "        tree[current_root][1] = v   # ...                          (правый)\n",
    "    \n",
    "    tree[v] = [None, None]  # У самого v потомков пока нет\n",
    "                            # (вот теперь v -- \"полноценный узел\")\n",
    "\n",
    "    current_height += 1\n",
    "    max_height = max(max_height, current_height)\n",
    "\n",
    "print(max_height)"
   ]
  },
  {
   "cell_type": "markdown",
   "id": "f67bad0c-1779-424c-bb68-8123013f540a",
   "metadata": {},
   "source": [
    "## Задача A: Дерево — проверка корректности\n",
    "\n",
    "```\n",
    "Проверьте, что предложенное дерево является двоичным деревом поиска, т.е. для каждой вершины в левом поддереве все ключи меньше чем в данной вершине, а в правом - больше.\n",
    "\n",
    "Формат входных данных\n",
    "На вход программа получает двоичное дерево в следующем формате: В первой строке одно число n - количество вершин (1 <= n <= 1000). В следующих n строках описания вершин, каждое в виде трех числе через пробел: value, left, right, где value - значение в текущей вершине, left и right - номера ее левого и правого потомков. Если потомка нет то соответствующее значение будет -1. Вершины нумеруются с нуля, нулевая вершина - это корень дерева. Все значения в вершинах различны.\n",
    "\n",
    "Формат выходных данных\n",
    "YES - если дерево является двоичным деревом поиска, NO - в противном случае. \n",
    "```\n",
    "\n",
    "Примеры:\n",
    "```\n",
    "Вход:\n",
    "3\n",
    "5 -1 1\n",
    "15 -1 2\n",
    "18 -1 -1\n",
    "\n",
    "Выход:\n",
    "YES\n",
    "```"
   ]
  },
  {
   "cell_type": "markdown",
   "id": "84ba8f33-7811-48c6-b441-d11116c8ca92",
   "metadata": {},
   "source": [
    "Построим по описанным входным данным \"словарикообразное\" дерево, как в прошлой задаче."
   ]
  },
  {
   "cell_type": "code",
   "execution_count": 8,
   "id": "4f4f820a",
   "metadata": {},
   "outputs": [
    {
     "name": "stdin",
     "output_type": "stream",
     "text": [
      " 4\n",
      " 5 -1 1\n",
      " 15 -1 2\n",
      " 18 3 -1\n",
      " 17 -1 -1\n"
     ]
    }
   ],
   "source": [
    "n = int(input())\n",
    "\n",
    "values = []     # Значения в узлах дерева\n",
    "raw_tree = []   # Двумерный список\n",
    "\n",
    "for _ in range(n):\n",
    "    line = input()\n",
    "    numbers = [int(v) for v in line.split()]\n",
    "    \n",
    "    values.append(numbers[0])\n",
    "    raw_tree.append(numbers)\n",
    "\n",
    "tree = {}\n",
    "\n",
    "for numbers in raw_tree:\n",
    "    value, left_index, right_index = numbers  # Распаковка\n",
    "    \n",
    "    left_value = values[left_index] if left_index != -1 else None\n",
    "    right_value = values[right_index] if right_index != -1 else None\n",
    "    \n",
    "    tree[value] = [left_value, right_value]"
   ]
  },
  {
   "cell_type": "code",
   "execution_count": 9,
   "id": "4579c671",
   "metadata": {},
   "outputs": [
    {
     "data": {
      "text/plain": [
       "{5: [None, 15], 15: [None, 18], 18: [17, None], 17: [None, None]}"
      ]
     },
     "execution_count": 9,
     "metadata": {},
     "output_type": "execute_result"
    }
   ],
   "source": [
    "tree"
   ]
  },
  {
   "cell_type": "markdown",
   "id": "4c321c67-5855-482a-814c-e3fae676c73a",
   "metadata": {},
   "source": [
    "```\n",
    "      5\n",
    "       \\\n",
    "        15\n",
    "          \\\n",
    "           18\n",
    "          /\n",
    "         17\n",
    "```"
   ]
  },
  {
   "cell_type": "markdown",
   "id": "035f6997-0d94-4293-a66d-85d16db62945",
   "metadata": {},
   "source": [
    "Как можно получить всех потомков корня справа?\n",
    "\n",
    "Можно посмотреть *направо*, если есть потомок, отложить его.\n",
    "Далее, пройтись по отложенным (который либо есть один, либо нет) и отложить *всех* его непосредственных потомков (так как они оба будут потомками справа для исходного корня).\n",
    "И далее повторять процесс, пока есть отложенные, которые ещё не \"посетили\": проходим по ним, добавляя в *очередь* на просмотр их потомков, если есть.\n",
    "Таким образом \"лавинообразно\" сверху вниз можно пройтись по всему правому (или по аналогии левому) поддереву."
   ]
  },
  {
   "cell_type": "code",
   "execution_count": 13,
   "id": "bedce602",
   "metadata": {},
   "outputs": [
    {
     "name": "stdout",
     "output_type": "stream",
     "text": [
      "Потомок: 15 (True)\n",
      "Потомок: 18 (True)\n",
      "Потомок: 17 (True)\n"
     ]
    }
   ],
   "source": [
    "root = 5\n",
    "\n",
    "descendants = []\n",
    "\n",
    "get_left  = lambda r: tree[r][0]\n",
    "get_right = lambda r: tree[r][1]\n",
    "is_left_nonempty  = lambda r: get_left(r) is not None \n",
    "is_right_nonempty = lambda r: get_right(r) is not None\n",
    "\n",
    "# Проходим потомков справа\n",
    "if is_right_nonempty(root) is not None:\n",
    "    descendants.append(get_right(root))\n",
    "\n",
    "# Пока есть \"непросмотренные\" потомки\n",
    "while len(descendants) > 0:\n",
    "    new_descendants = []\n",
    "    \n",
    "    for descendant in descendants:\n",
    "        # Что-то делаем с descendant (например, проверяем, что он больше root...)\n",
    "        print(f'Потомок: {descendant} ({descendant > root})')\n",
    "        \n",
    "        if is_left_nonempty(descendant):\n",
    "            new_descendants.append(get_left(descendant))\n",
    "        \n",
    "        if is_right_nonempty(descendant):\n",
    "            new_descendants.append(get_right(descendant))\n",
    "    \n",
    "    descendants = new_descendants"
   ]
  },
  {
   "cell_type": "markdown",
   "id": "9527254f-fa50-44e6-8717-2db9e579bfb9",
   "metadata": {},
   "source": [
    "На основе приведённого уже можно проверить корректность дерева... (что оно в самом деле двоичное дерево поиска)"
   ]
  }
 ],
 "metadata": {
  "kernelspec": {
   "display_name": "Python 3 (ipykernel)",
   "language": "python",
   "name": "python3"
  },
  "language_info": {
   "codemirror_mode": {
    "name": "ipython",
    "version": 3
   },
   "file_extension": ".py",
   "mimetype": "text/x-python",
   "name": "python",
   "nbconvert_exporter": "python",
   "pygments_lexer": "ipython3",
   "version": "3.8.18"
  }
 },
 "nbformat": 4,
 "nbformat_minor": 5
}
