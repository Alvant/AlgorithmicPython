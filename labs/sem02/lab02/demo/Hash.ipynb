{
 "cells": [
  {
   "cell_type": "markdown",
   "id": "a2d914ef",
   "metadata": {},
   "source": [
    "# Hash"
   ]
  },
  {
   "cell_type": "markdown",
   "id": "b432aeea",
   "metadata": {},
   "source": [
    "О хэше можно думать как о функции, отображающей произвольный объект в целое число:\n",
    "\n",
    "$$\n",
    "  h\\colon \\mbox{\"какой-то объект\"} \\mapsto \\mathbb Z\n",
    "$$\n",
    "\n",
    "\"Дефолтное\" вычисление хэша в Питоне"
   ]
  },
  {
   "cell_type": "code",
   "execution_count": 1,
   "id": "4842c793",
   "metadata": {},
   "outputs": [
    {
     "data": {
      "text/plain": [
       "4840737576135146834"
      ]
     },
     "execution_count": 1,
     "metadata": {},
     "output_type": "execute_result"
    }
   ],
   "source": [
    "hash(\"Hello world!\")"
   ]
  },
  {
   "cell_type": "markdown",
   "id": "7ecacc2f",
   "metadata": {},
   "source": [
    "Хэш-функция (хорошая) должна обладать несколькими свойствами.\n",
    "\n",
    "Так, хэш от объекта не должен меняться со временем (в рамках текущей сессии работы программы):"
   ]
  },
  {
   "cell_type": "code",
   "execution_count": 2,
   "id": "86b7d415",
   "metadata": {},
   "outputs": [
    {
     "data": {
      "text/plain": [
       "4840737576135146834"
      ]
     },
     "execution_count": 2,
     "metadata": {},
     "output_type": "execute_result"
    }
   ],
   "source": [
    "hash(\"Hello world!\")"
   ]
  },
  {
   "cell_type": "markdown",
   "id": "192bfa8f",
   "metadata": {},
   "source": [
    "Ещё при даже небольшом изменении объекта — хэш должен меняться сильно (чтобы нельзя было по значению хэша что-то сказать об объекте):"
   ]
  },
  {
   "cell_type": "code",
   "execution_count": 3,
   "id": "9ab7814b",
   "metadata": {},
   "outputs": [
    {
     "data": {
      "text/plain": [
       "-1706146803320632315"
      ]
     },
     "execution_count": 3,
     "metadata": {},
     "output_type": "execute_result"
    }
   ],
   "source": [
    "hash(\"Hello world?\")"
   ]
  },
  {
   "cell_type": "markdown",
   "id": "e0b137e9",
   "metadata": {},
   "source": [
    "## Hash Under Dict's Hood"
   ]
  },
  {
   "cell_type": "markdown",
   "id": "ce79fde1",
   "metadata": {},
   "source": [
    "Питонский словарь $d$ — отображает ключи $k$ в значения $v$:\n",
    "\n",
    "$$\n",
    "  d\\colon k \\mapsto v\n",
    "$$\n",
    "\n",
    "Но под капотом в словаре сидит хэш таблица: по ключам сначала считаются хэши $h$:\n",
    "\n",
    "$$\n",
    "  d\\colon k \\mapsto h \\mapsto v\n",
    "$$"
   ]
  },
  {
   "cell_type": "code",
   "execution_count": 4,
   "id": "1a34e792",
   "metadata": {},
   "outputs": [],
   "source": [
    "d = {\n",
    "    'Jane': 'Porter',\n",
    "    'Kitty': 'Softpaws',\n",
    "}\n",
    "\n",
    "# В одном и том же словаре Питона также допускается наличие ключей \"разной природы\".\n",
    "# Например, строковые, числовые.\n",
    "# (но использовать разные типы ключей в одном словаре — это не очень best practice)"
   ]
  },
  {
   "cell_type": "code",
   "execution_count": 5,
   "id": "c9fcb826",
   "metadata": {},
   "outputs": [
    {
     "data": {
      "text/plain": [
       "{'Jane': 'Porter', 'Kitty': 'Softpaws'}"
      ]
     },
     "execution_count": 5,
     "metadata": {},
     "output_type": "execute_result"
    }
   ],
   "source": [
    "d"
   ]
  },
  {
   "cell_type": "markdown",
   "id": "f1058591",
   "metadata": {},
   "source": [
    "Изменим (\"испортим\") способ вычисления хэша в Питоне, сделав хэш одинаковым для всех объектов:"
   ]
  },
  {
   "cell_type": "code",
   "execution_count": 6,
   "id": "91636d76",
   "metadata": {},
   "outputs": [],
   "source": [
    "# На всякий случай сохраним нормальную хэш-функцию:\n",
    "old_adequate_hash = hash\n",
    "\n",
    "def hash(o):\n",
    "    return 1"
   ]
  },
  {
   "cell_type": "code",
   "execution_count": 7,
   "id": "2749832f",
   "metadata": {},
   "outputs": [
    {
     "data": {
      "text/plain": [
       "1"
      ]
     },
     "execution_count": 7,
     "metadata": {},
     "output_type": "execute_result"
    }
   ],
   "source": [
    "hash(\"Hello world!\")"
   ]
  },
  {
   "cell_type": "code",
   "execution_count": 8,
   "id": "a12baec7",
   "metadata": {},
   "outputs": [
    {
     "data": {
      "text/plain": [
       "1"
      ]
     },
     "execution_count": 8,
     "metadata": {},
     "output_type": "execute_result"
    }
   ],
   "source": [
    "hash(123)"
   ]
  },
  {
   "cell_type": "code",
   "execution_count": 9,
   "id": "09550d0a",
   "metadata": {},
   "outputs": [
    {
     "data": {
      "text/plain": [
       "4840737576135146834"
      ]
     },
     "execution_count": 9,
     "metadata": {},
     "output_type": "execute_result"
    }
   ],
   "source": [
    "old_adequate_hash(\"Hello world!\")"
   ]
  },
  {
   "cell_type": "markdown",
   "id": "8a6da5ec",
   "metadata": {},
   "source": [
    "И попробуем ещё раз создать словарь.\n",
    "Теперь будут сплошные коллизии.\n",
    "Что получится в итоге?"
   ]
  },
  {
   "cell_type": "code",
   "execution_count": 10,
   "id": "b011ef9e",
   "metadata": {},
   "outputs": [],
   "source": [
    "d = {\n",
    "    'Jane': 'Porter',\n",
    "    'Kitty': 'Softpaws',\n",
    "}"
   ]
  },
  {
   "cell_type": "code",
   "execution_count": 11,
   "id": "c2b3d1ca",
   "metadata": {},
   "outputs": [
    {
     "data": {
      "text/plain": [
       "{'Jane': 'Porter', 'Kitty': 'Softpaws'}"
      ]
     },
     "execution_count": 11,
     "metadata": {},
     "output_type": "execute_result"
    }
   ],
   "source": [
    "d"
   ]
  },
  {
   "cell_type": "markdown",
   "id": "28fc3e85",
   "metadata": {},
   "source": [
    "Словарь получился нормальный (в нём есть все ключи), потому что при записи в хэш таблицу Питон смотрит не только на хэш (который в данном случае был одинаковый для всех ключей, то есть коллизия), но и на сами ключи: если ключи отличаются, то каждый сохраняется отдельно (Питон умеет как-то разрешать коллизии)."
   ]
  },
  {
   "cell_type": "markdown",
   "id": "de8c1fb1",
   "metadata": {},
   "source": [
    "Если же попытаться записать в словарь значения под ключами, которые Питон считает равными:"
   ]
  },
  {
   "cell_type": "code",
   "execution_count": 12,
   "id": "65250d44",
   "metadata": {},
   "outputs": [],
   "source": [
    "d[0] = \"Hello\"\n",
    "d[0.0] = \"world!\""
   ]
  },
  {
   "cell_type": "code",
   "execution_count": 13,
   "id": "5bfa33b9",
   "metadata": {},
   "outputs": [
    {
     "data": {
      "text/plain": [
       "{'Jane': 'Porter', 'Kitty': 'Softpaws', 0: 'world!'}"
      ]
     },
     "execution_count": 13,
     "metadata": {},
     "output_type": "execute_result"
    }
   ],
   "source": [
    "d"
   ]
  },
  {
   "cell_type": "markdown",
   "id": "61a2e154",
   "metadata": {},
   "source": [
    "...то последняя запись перепишет первую, потому что в этом случае происходит не просто коллизия (совпадение хэшей) — Питон считает, что это буквально один и тот же ключ (так как ещё и сами ключи равны), поэтому обновляет существующую запись."
   ]
  },
  {
   "cell_type": "code",
   "execution_count": 14,
   "id": "453ae651",
   "metadata": {},
   "outputs": [
    {
     "data": {
      "text/plain": [
       "True"
      ]
     },
     "execution_count": 14,
     "metadata": {},
     "output_type": "execute_result"
    }
   ],
   "source": [
    "0 == 0.0"
   ]
  },
  {
   "cell_type": "markdown",
   "id": "37543062",
   "metadata": {},
   "source": [
    "## Hash Tables' Pros: Fast Search"
   ]
  },
  {
   "cell_type": "markdown",
   "id": "0964dcc2",
   "metadata": {},
   "source": [
    "Хэши под капотом словаря обеспечивают более быстрый поиск в нём (по сравнению, например, со списком).\n",
    "\n",
    "Посмотрим на время работы поиска в списке (тупо просмотр элементов от первого до последнего, пока не найдём искомый или пока список просто не закончится):"
   ]
  },
  {
   "cell_type": "code",
   "execution_count": 15,
   "id": "fcb5849b",
   "metadata": {},
   "outputs": [],
   "source": [
    "BIG_NUMBER = 1000001"
   ]
  },
  {
   "cell_type": "code",
   "execution_count": 16,
   "id": "6d9b0a56",
   "metadata": {},
   "outputs": [],
   "source": [
    "l = list(range(1, BIG_NUMBER))"
   ]
  },
  {
   "cell_type": "code",
   "execution_count": 17,
   "id": "3ff3779d",
   "metadata": {},
   "outputs": [
    {
     "name": "stdout",
     "output_type": "stream",
     "text": [
      "5.18 ms ± 40.9 µs per loop (mean ± std. dev. of 7 runs, 100 loops each)\n"
     ]
    }
   ],
   "source": [
    "%%timeit\n",
    "\n",
    "# Поиск такого, которого нет\n",
    "\n",
    "-1 in l"
   ]
  },
  {
   "cell_type": "code",
   "execution_count": 18,
   "id": "4d1d69f0",
   "metadata": {},
   "outputs": [
    {
     "name": "stdout",
     "output_type": "stream",
     "text": [
      "5.72 ms ± 168 µs per loop (mean ± std. dev. of 7 runs, 100 loops each)\n"
     ]
    }
   ],
   "source": [
    "%%timeit\n",
    "\n",
    "# Поиск стоящего в конце\n",
    "\n",
    "(BIG_NUMBER - 1) in l"
   ]
  },
  {
   "cell_type": "code",
   "execution_count": 19,
   "id": "b52e6ca4",
   "metadata": {},
   "outputs": [
    {
     "name": "stdout",
     "output_type": "stream",
     "text": [
      "23.7 ns ± 0.137 ns per loop (mean ± std. dev. of 7 runs, 10,000,000 loops each)\n"
     ]
    }
   ],
   "source": [
    "%%timeit\n",
    "\n",
    "# Поиск стоящего в начале\n",
    "\n",
    "1 in l"
   ]
  },
  {
   "cell_type": "markdown",
   "id": "aa6e959a",
   "metadata": {},
   "source": [
    "Теперь создадим словарь с таким же списком ключей (и какими-то значениями).\n",
    "(При этом для чистоты эксперимента не забудем \"откатиться\" к нормальной хэш-функции!)"
   ]
  },
  {
   "cell_type": "code",
   "execution_count": 20,
   "id": "cd627e27",
   "metadata": {},
   "outputs": [],
   "source": [
    "hash = old_adequate_hash\n",
    "\n",
    "d = {\n",
    "    k: k for k in range(1, BIG_NUMBER)\n",
    "}"
   ]
  },
  {
   "cell_type": "code",
   "execution_count": 21,
   "id": "22675286",
   "metadata": {},
   "outputs": [
    {
     "name": "stdout",
     "output_type": "stream",
     "text": [
      "29.2 ns ± 0.196 ns per loop (mean ± std. dev. of 7 runs, 10,000,000 loops each)\n"
     ]
    }
   ],
   "source": [
    "%%timeit\n",
    "\n",
    "# Нет среди ключей\n",
    "\n",
    "-1 in d"
   ]
  },
  {
   "cell_type": "code",
   "execution_count": 22,
   "id": "dbc3e00f",
   "metadata": {},
   "outputs": [
    {
     "name": "stdout",
     "output_type": "stream",
     "text": [
      "65.4 ns ± 0.784 ns per loop (mean ± std. dev. of 7 runs, 10,000,000 loops each)\n"
     ]
    }
   ],
   "source": [
    "%%timeit\n",
    "\n",
    "# Последний из добавленных ключей\n",
    "\n",
    "(BIG_NUMBER - 1) in d"
   ]
  },
  {
   "cell_type": "code",
   "execution_count": 23,
   "id": "d909a4ff",
   "metadata": {},
   "outputs": [
    {
     "name": "stdout",
     "output_type": "stream",
     "text": [
      "29 ns ± 0.206 ns per loop (mean ± std. dev. of 7 runs, 10,000,000 loops each)\n"
     ]
    }
   ],
   "source": [
    "%%timeit\n",
    "\n",
    "# Первый занесённый ключ\n",
    "\n",
    "1 in d"
   ]
  },
  {
   "cell_type": "markdown",
   "id": "05e519c1",
   "metadata": {},
   "source": [
    "(Именно \"первый занесённый\" и \"последний занесённый\" ключи, а не \"первый\" и \"последний\" — потому что в словарях вообще нет \"порядка\" ключей, словарь — это просто отображение ключей в значения.)"
   ]
  },
  {
   "cell_type": "markdown",
   "id": "26b4789e",
   "metadata": {},
   "source": [
    "Снова испортим хэш-функцию, сделав много коллизий.\n",
    "Замедлит ли это время работы поиска в словаре?\n",
    "Ведь если Питон создаёт цепочки для каждого хэша, то поиск при сплошных коллизиях выродится просто в поиск в списке..."
   ]
  },
  {
   "cell_type": "code",
   "execution_count": 24,
   "id": "8755bbd5",
   "metadata": {},
   "outputs": [],
   "source": [
    "def hash(o):\n",
    "    return 1"
   ]
  },
  {
   "cell_type": "code",
   "execution_count": 25,
   "id": "ba1c88ec",
   "metadata": {},
   "outputs": [],
   "source": [
    "d = {\n",
    "    k: k for k in range(1, BIG_NUMBER)\n",
    "}"
   ]
  },
  {
   "cell_type": "code",
   "execution_count": 26,
   "id": "b2664a55",
   "metadata": {},
   "outputs": [
    {
     "name": "stdout",
     "output_type": "stream",
     "text": [
      "64.5 ns ± 0.292 ns per loop (mean ± std. dev. of 7 runs, 10,000,000 loops each)\n"
     ]
    }
   ],
   "source": [
    "%%timeit\n",
    "\n",
    "(BIG_NUMBER - 1) in d"
   ]
  },
  {
   "cell_type": "markdown",
   "id": "1b1df976",
   "metadata": {},
   "source": [
    "Почему-то всё равно получилось быстро...\n",
    "\n",
    "Дело в том, что Питон для разрешения коллизий использует подход Open Addressing (он же Closed Hashing).\n",
    "При котором в случае коллизии наступает поиск другого свободного места в таблице.\n",
    "Более того, поиск этого свободного места Питон проводит в некотором роде *случайно* (https://stackoverflow.com/a/9022664/8094251).\n",
    "Таким образом, даже \"полная деградация\" хэш-функции не позволила испортить словарь.\n",
    "\n",
    "Подход к разрешению коллизий через цепочки для каждого хэша называется Separate Chaining (он же Open Hashing).\n",
    "\n",
    "Про лингвистические нюансы в именованиях способов разрешения коллизий (когда и чего там открыто, закрыто) рекомендуется посмотреть заметку: https://stackoverflow.com/a/9124535/8094251."
   ]
  },
  {
   "cell_type": "markdown",
   "id": "e927ef0e",
   "metadata": {},
   "source": [
    "## Hash-Brother of Dict"
   ]
  },
  {
   "cell_type": "markdown",
   "id": "a0f2fbe0",
   "metadata": {},
   "source": [
    "Кроме словарей, хэши используются во множествах (неупорядоченных коллекциях уникальных элементов):"
   ]
  },
  {
   "cell_type": "code",
   "execution_count": 27,
   "id": "100d5077",
   "metadata": {},
   "outputs": [
    {
     "data": {
      "text/plain": [
       "{1, 2, 3}"
      ]
     },
     "execution_count": 27,
     "metadata": {},
     "output_type": "execute_result"
    }
   ],
   "source": [
    "{1, 2, 3, 1, 1, 1}"
   ]
  },
  {
   "cell_type": "markdown",
   "id": "ad5bfc11",
   "metadata": {},
   "source": [
    "Уникальность как раз определяется по хэшу (точнее, сначала по хэшу, а в случае коллизии — по значению)."
   ]
  },
  {
   "cell_type": "markdown",
   "id": "3ad00e82",
   "metadata": {},
   "source": [
    "## \"Total Collision\""
   ]
  },
  {
   "cell_type": "markdown",
   "id": "99db25ec",
   "metadata": {},
   "source": [
    "Смоделируем ситуацию, когда во множество добавляется два элемента с одинаковыми хэшами, и которые ещё одинаковые в смысле равенства (но при этом всё-таки разные 🙂)."
   ]
  },
  {
   "cell_type": "code",
   "execution_count": 28,
   "id": "1ba6b490",
   "metadata": {},
   "outputs": [],
   "source": [
    "def hash(o):\n",
    "    return 1"
   ]
  },
  {
   "cell_type": "code",
   "execution_count": 29,
   "id": "959b2ba8",
   "metadata": {},
   "outputs": [],
   "source": [
    "class A:                         # Класс — шаблон\n",
    "    def __init__(self, number):  # Конструктор — как проинициализировать создаваемый объект self\n",
    "        self._number = number    # \"Привяжем\" к объекту число\n",
    "\n",
    "    def __eq__(self, other):     # Как сравнивается текущий объект self и какой-то другой other через == (то есть \"self == other\")\n",
    "        return True              # Считаем, что вообще все объекты класса A равны\n",
    "    \n",
    "    def __hash__(self):          # Как считать хэш от объекта\n",
    "        return hash(self)        # Делегируем вычисление хэша дефолтной (сломанной в этом ноутбуке) функции hash"
   ]
  },
  {
   "cell_type": "code",
   "execution_count": 30,
   "id": "18c4fa3d",
   "metadata": {},
   "outputs": [],
   "source": [
    "a = A(1809)\n",
    "b = A(2024)"
   ]
  },
  {
   "cell_type": "code",
   "execution_count": 31,
   "id": "452ed81e",
   "metadata": {},
   "outputs": [
    {
     "data": {
      "text/plain": [
       "1809"
      ]
     },
     "execution_count": 31,
     "metadata": {},
     "output_type": "execute_result"
    }
   ],
   "source": [
    "a._number"
   ]
  },
  {
   "cell_type": "code",
   "execution_count": 32,
   "id": "cd49d27f",
   "metadata": {},
   "outputs": [
    {
     "data": {
      "text/plain": [
       "2024"
      ]
     },
     "execution_count": 32,
     "metadata": {},
     "output_type": "execute_result"
    }
   ],
   "source": [
    "b._number"
   ]
  },
  {
   "cell_type": "code",
   "execution_count": 33,
   "id": "79466c62",
   "metadata": {},
   "outputs": [
    {
     "data": {
      "text/plain": [
       "True"
      ]
     },
     "execution_count": 33,
     "metadata": {},
     "output_type": "execute_result"
    }
   ],
   "source": [
    "a == b"
   ]
  },
  {
   "cell_type": "code",
   "execution_count": 34,
   "id": "63441b6e",
   "metadata": {},
   "outputs": [],
   "source": [
    "s = {a, b}"
   ]
  },
  {
   "cell_type": "markdown",
   "id": "65041f12",
   "metadata": {},
   "source": [
    "Получили множество из одного объекта, хотя клали в него два.\n",
    "(Просто они для Питона оказались полностью одинаковыми.)"
   ]
  },
  {
   "cell_type": "code",
   "execution_count": 35,
   "id": "774e405f",
   "metadata": {},
   "outputs": [
    {
     "data": {
      "text/plain": [
       "1"
      ]
     },
     "execution_count": 35,
     "metadata": {},
     "output_type": "execute_result"
    }
   ],
   "source": [
    "len(s)"
   ]
  },
  {
   "cell_type": "code",
   "execution_count": 36,
   "id": "2bcd69e9",
   "metadata": {},
   "outputs": [
    {
     "data": {
      "text/plain": [
       "{<__main__.A at 0x7f5ae5737a00>}"
      ]
     },
     "execution_count": 36,
     "metadata": {},
     "output_type": "execute_result"
    }
   ],
   "source": [
    "s"
   ]
  },
  {
   "cell_type": "code",
   "execution_count": 37,
   "id": "974a0b1a",
   "metadata": {},
   "outputs": [
    {
     "data": {
      "text/plain": [
       "(<__main__.A at 0x7f5ae5737a00>, <__main__.A at 0x7f5ae5734d00>)"
      ]
     },
     "execution_count": 37,
     "metadata": {},
     "output_type": "execute_result"
    }
   ],
   "source": [
    "a, b"
   ]
  },
  {
   "cell_type": "markdown",
   "id": "cd0735b2",
   "metadata": {},
   "source": [
    "Видно (по крокозябрному выводу выше), что во множестве остался тот объект, который клали в него первым (второй оказался \"таким же\", поэтому он просто \"пролетел\")."
   ]
  },
  {
   "cell_type": "markdown",
   "id": "1f0d52ee",
   "metadata": {},
   "source": [
    "## Appendix: Fast and Slow Remove from List"
   ]
  },
  {
   "cell_type": "markdown",
   "id": "ea8c268f",
   "metadata": {},
   "source": [
    "Создадим большой список и посмотрим, сколько времени занимает многократное удаление из конца и из начала."
   ]
  },
  {
   "cell_type": "code",
   "execution_count": 38,
   "id": "96a8e733",
   "metadata": {},
   "outputs": [],
   "source": [
    "l = list(range(BIG_NUMBER))"
   ]
  },
  {
   "cell_type": "code",
   "execution_count": 39,
   "id": "f90aca45",
   "metadata": {},
   "outputs": [
    {
     "name": "stdout",
     "output_type": "stream",
     "text": [
      "CPU times: user 74.3 ms, sys: 35 µs, total: 74.3 ms\n",
      "Wall time: 74 ms\n"
     ]
    }
   ],
   "source": [
    "%%time\n",
    "\n",
    "for i in range(BIG_NUMBER):\n",
    "    l.pop()"
   ]
  },
  {
   "cell_type": "markdown",
   "id": "e9625aec",
   "metadata": {},
   "source": [
    "Удалять из конца — быстро."
   ]
  },
  {
   "cell_type": "code",
   "execution_count": 40,
   "id": "00ea2ec2",
   "metadata": {},
   "outputs": [],
   "source": [
    "l = list(range(BIG_NUMBER))"
   ]
  },
  {
   "cell_type": "code",
   "execution_count": 41,
   "id": "8b2f941a",
   "metadata": {},
   "outputs": [
    {
     "name": "stdout",
     "output_type": "stream",
     "text": [
      "CPU times: user 33.3 s, sys: 11.8 ms, total: 33.3 s\n",
      "Wall time: 33.3 s\n"
     ]
    }
   ],
   "source": [
    "%%time\n",
    "\n",
    "for i in range(10**5):\n",
    "    l.pop(0)"
   ]
  },
  {
   "cell_type": "markdown",
   "id": "08810734",
   "metadata": {},
   "source": [
    "А из начала — медленно.\n",
    "Потому что удаление из начала — это не просто удаление, но ещё и перестройка списка (удаление = построение нового списка без удаляемого элемента)."
   ]
  }
 ],
 "metadata": {
  "kernelspec": {
   "display_name": "Python 3 (ipykernel)",
   "language": "python",
   "name": "python3"
  },
  "language_info": {
   "codemirror_mode": {
    "name": "ipython",
    "version": 3
   },
   "file_extension": ".py",
   "mimetype": "text/x-python",
   "name": "python",
   "nbconvert_exporter": "python",
   "pygments_lexer": "ipython3",
   "version": "3.10.12"
  }
 },
 "nbformat": 4,
 "nbformat_minor": 5
}
