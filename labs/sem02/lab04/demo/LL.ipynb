{
 "cells": [
  {
   "cell_type": "markdown",
   "id": "5632db9c-cccb-4be3-a349-ee0f9a89b090",
   "metadata": {},
   "source": [
    "# Классы\n",
    "\n",
    "*Родственное демо*: [Classes.ipynb](https://github.com/Alvant/AlgorithmicPython/blob/master/labs/sem02/lab05/demo/Classes.ipynb).\n",
    "\n",
    "(Вспомни автор об указанном демо раньше, то нового ноутбука бы и не было 😅)"
   ]
  },
  {
   "cell_type": "markdown",
   "id": "2b01ba61",
   "metadata": {},
   "source": [
    "## Полиморфность унаследованной абстракции инкапсулации\n",
    "\n",
    "Класс — это шаблон объекта.\n",
    "А объект — это нечто, что чем-то характеризуется (какими-то данными — атрибутами, или полями) и что-то умеет делать (какие-то действия по работе с данными или по взаимодействию с другими объектами — есть методы).\n",
    "\n",
    "Например, пусть есть класс Муравья."
   ]
  },
  {
   "cell_type": "code",
   "execution_count": 1,
   "id": "d4c26101-98cf-4320-b26e-5bdac80cb3cd",
   "metadata": {},
   "outputs": [],
   "source": [
    "class Ant:\n",
    "    pass"
   ]
  },
  {
   "cell_type": "markdown",
   "id": "472a1e28-f91d-473a-8f22-6c446aa559b7",
   "metadata": {},
   "source": [
    "Пока это \"пустой\" класс, в нём ничего нет, ни атрибутов, ни методов.\n",
    "Но объекты такого класса уже можно создавать:"
   ]
  },
  {
   "cell_type": "code",
   "execution_count": 2,
   "id": "dff88852-a9f0-46fd-8dc0-507da52488ce",
   "metadata": {},
   "outputs": [],
   "source": [
    "a = Ant()"
   ]
  },
  {
   "cell_type": "markdown",
   "id": "b64de324-1468-4546-9d4c-5f8d8549bc51",
   "metadata": {},
   "source": [
    "Сделаем класс поинтереснее — запомнив для каждого муравья, например, его имя (приняв имя извне и \"спрятав\", или *инкапсулировав* каким-то образом информацию об имени внутри класса).\n",
    "Для \"наполнения\" объекта класса характеристиками нужно определить в классе специальный метод — *конструктор*:"
   ]
  },
  {
   "cell_type": "code",
   "execution_count": 3,
   "id": "7a430bd9-932c-4fea-abd2-2c6536b77734",
   "metadata": {},
   "outputs": [],
   "source": [
    "class Ant:\n",
    "    def __init__(self, name: str):  # Конструктор\n",
    "        self.name = name            # self — создаваемый объект класса"
   ]
  },
  {
   "cell_type": "markdown",
   "id": "7a99ae10-0d25-4150-9c11-ac3ae9105ed4",
   "metadata": {},
   "source": [
    "Теперь при создании муравья придётся передать его имя:"
   ]
  },
  {
   "cell_type": "code",
   "execution_count": 4,
   "id": "a01ba299-01e0-4746-922e-017153eb5918",
   "metadata": {},
   "outputs": [],
   "source": [
    "a = Ant('Billy')  # Вызывается конструктор, при этом \"self\" передаётся как аргумент *неявно*\n",
    "                  # (в качестве \"self\" будет выступать создаваемый муравей, который потом присвоится \"a\")"
   ]
  },
  {
   "cell_type": "markdown",
   "id": "72ccbc47-be25-45f2-bd1a-96984bb9d5e8",
   "metadata": {},
   "source": [
    "Поля \"привязаны\" к объекту — на них можно посмотреть, \"дёрнув\" их по имени от объекта (через точку):"
   ]
  },
  {
   "cell_type": "code",
   "execution_count": 5,
   "id": "234a4f83-64cd-4edd-b954-ade4ca42a961",
   "metadata": {},
   "outputs": [
    {
     "name": "stdout",
     "output_type": "stream",
     "text": [
      "Billy\n"
     ]
    }
   ],
   "source": [
    "print(a.name)"
   ]
  },
  {
   "cell_type": "markdown",
   "id": "7e27ba92-00c4-4ddf-b700-435946c913df",
   "metadata": {},
   "source": [
    "Поля, как и обычные переменные, можно изменять:"
   ]
  },
  {
   "cell_type": "code",
   "execution_count": 6,
   "id": "0f47816e-9707-404f-ab14-7f8d0c6608b1",
   "metadata": {},
   "outputs": [],
   "source": [
    "a.name = 'Bill'"
   ]
  },
  {
   "cell_type": "code",
   "execution_count": 7,
   "id": "dacc0fd5-03da-4e1a-b40f-955df8143a2c",
   "metadata": {},
   "outputs": [
    {
     "name": "stdout",
     "output_type": "stream",
     "text": [
      "Bill\n"
     ]
    }
   ],
   "source": [
    "print(a.name)"
   ]
  },
  {
   "cell_type": "markdown",
   "id": "1efd218a-3a71-4f5f-8491-d095096f1d04",
   "metadata": {},
   "source": [
    "(в Питоне можно даже добавлять новые поля \"на лету\", вне конструктора, но это не очень хорошая \"good practice\")"
   ]
  },
  {
   "cell_type": "markdown",
   "id": "15eb84b1-8f7c-46fe-a236-674330967ebe",
   "metadata": {},
   "source": [
    "Научим муравья что-нибудь делать (помимо создавания) — добавим ещё метод:"
   ]
  },
  {
   "cell_type": "code",
   "execution_count": 8,
   "id": "9fe0dff7-b57a-4cb8-b795-2b9521cfdd5f",
   "metadata": {},
   "outputs": [],
   "source": [
    "class Ant:\n",
    "    def __init__(self, name: str):\n",
    "        self.name = name\n",
    "\n",
    "    def say_hello(self):                          # Метод — как обычная функция, но привязанная к объекту self\n",
    "        return f'Hello! My name is {self.name}.'  # а потому методу доступно всё, что есть в объекте"
   ]
  },
  {
   "cell_type": "code",
   "execution_count": 9,
   "id": "ce17d3d6-fdde-4c42-bd08-9cc4e824a051",
   "metadata": {},
   "outputs": [
    {
     "name": "stdout",
     "output_type": "stream",
     "text": [
      "Hello! My name is Billy.\n"
     ]
    }
   ],
   "source": [
    "a = Ant('Billy')\n",
    "\n",
    "print(a.say_hello())  # Единственный аргумент \"self\" передаётся неявно,\n",
    "                      # поэтому вызывается данный метод в итоге как будто совсем без аргументов"
   ]
  },
  {
   "cell_type": "markdown",
   "id": "050ac6e5-f303-4419-b70f-9645267739e7",
   "metadata": {},
   "source": [
    "Объектами можно *моделировать* какие-то процессы реальной жизни, какие-то реальные сущности и отношения между ними.\n",
    "У тех же муравьёв, например, [сложная огранизация](https://ru.wikipedia.org/wiki/%D0%9C%D1%83%D1%80%D0%B0%D0%B2%D1%8C%D0%B8), у каждого муравья своя роль в жизни муравейника.\n",
    "Попытаемся смоделировать (в некотором приближении) с помощью классов это ролевое разделение муравьёв.\n",
    "\n",
    "Каждый муравей умеет что-то делать — представим это \"ролевое действие\" муравья как метод с именем `work`.\n",
    "При этом мы не можем пока сказать, что будет делать \"общий\" муравей `Ant` — можем лишь *обозначить*, что любой специализированный муравей (*потомок* `Ant`) будет что-то уметь делать в качестве `work`.\n",
    "Приходим к понятию *абстрактного класса* — это класс, который ещё не готов к работе, у которого есть *нереализованные методы*.\n",
    "Если обычный класс — это шаблон объекта, то абстрактный класс — это по сути шаблон класса, или даже эскиз, набросок класса."
   ]
  },
  {
   "cell_type": "code",
   "execution_count": 10,
   "id": "198b775d-ad3f-45fc-a9b6-9ae4c815d43c",
   "metadata": {},
   "outputs": [],
   "source": [
    "class Ant:\n",
    "    def __init__(self, name):\n",
    "        self.name = name\n",
    "    \n",
    "    def say_hello(self):                          # Метод — как обычная функция, но привязанная к объекту self\n",
    "        return f'Hello! My name is {self.name}.'  # а потому методу доступно всё, что есть в объекте\n",
    "    \n",
    "    def work(self):\n",
    "        raise NotImplementedError()"
   ]
  },
  {
   "cell_type": "markdown",
   "id": "f4ce0690-0d0d-44a5-b55f-8c480a305f99",
   "metadata": {},
   "source": [
    "По-хорошему, раз абстрактный класс ещё \"не готов\", то есть не представляет ещё никакую реальную сущность, то создать объекты такого класса, в идеале, возможности быть было бы не должно.\n",
    "Однако в Питоне создать объекты абстрактных классов можно:"
   ]
  },
  {
   "cell_type": "code",
   "execution_count": 11,
   "id": "119f8148-7266-4da0-b175-16b1839c3c48",
   "metadata": {},
   "outputs": [
    {
     "name": "stdout",
     "output_type": "stream",
     "text": [
      "Hello! My name is Billy.\n"
     ]
    }
   ],
   "source": [
    "a = Ant('Billy')\n",
    "\n",
    "print(a.say_hello())  # Единственный аргумент \"self\" передаётся неявно,\n",
    "                      # поэтому вызывается данный метод в итоге как будто совсем без аргументов"
   ]
  },
  {
   "cell_type": "markdown",
   "id": "a2e85dac-8598-4105-9df1-45d48072a7e0",
   "metadata": {},
   "source": [
    "И работать с ними можно.\n",
    "Пока не \"нарвёшься\" на метод без реализации:"
   ]
  },
  {
   "cell_type": "code",
   "execution_count": 12,
   "id": "89ed49b8-c89e-4537-97f6-2790a4c87a04",
   "metadata": {},
   "outputs": [
    {
     "name": "stdout",
     "output_type": "stream",
     "text": [
      "Can't work :(\n"
     ]
    }
   ],
   "source": [
    "try:\n",
    "    a.work()\n",
    "except NotImplementedError:\n",
    "    print(\"Can't work :(\")"
   ]
  },
  {
   "cell_type": "markdown",
   "id": "165ef320-281e-456a-9958-d2f615320fd3",
   "metadata": {},
   "source": [
    "Чтобы сделать \"по-настоящему абстрактный\" класс (объекты которого нельзя создать), в Питоне приходится \"выкручиваться\".\n",
    "Например, добиться желаемого можно [через abc](https://docs.python.org/3/library/abc.html).\n",
    "Или, если конструктор базового абстрактного класса никакой смысловой нагрузки не несёт, можно следующим образом сделать сам конструктор \"нереализованным\" (таким образом \"выключив\" возможность создания объектов класса):\n",
    "```python\n",
    "class A:\n",
    "    def __init__(self):\n",
    "        raise NotImplementedError\n",
    "```\n",
    "(Однако оба способа — это всё равно нечто в той или иной степени \"чужеродное\" изначальной планировке языке.)\n",
    "\n",
    "Но далее в ноутбуке не будем никак более явно выражать абстрактность методов (и включающих их классов), кроме как через кидание в методе `NotImplementedError`."
   ]
  },
  {
   "cell_type": "markdown",
   "id": "14a02252-5ea6-4c7e-82ee-95187da87adc",
   "metadata": {},
   "source": [
    "Итак, муравьи — создадим отдельные классы для, к примеру, Рабочего муравья, Самца, и Королевы."
   ]
  },
  {
   "cell_type": "code",
   "execution_count": 13,
   "id": "1a1f61a2",
   "metadata": {},
   "outputs": [],
   "source": [
    "class Ant:\n",
    "    def __init__(self, name):\n",
    "        self.name = name\n",
    "    \n",
    "    def say_hello(self):\n",
    "        return f'Hello! My name is {self.name}.'\n",
    "    \n",
    "    def work(self):\n",
    "        raise NotImplementedError()\n",
    "\n",
    "\n",
    "class WorkerAnt(Ant):\n",
    "    def __init__(self, name, working_hours: str):  # Наследник переопределяет конструктор\n",
    "        super().__init__(name=name)                # Класс-наследник вызывает\n",
    "                                                   # (и, по-хорошему, всегда и должен вызывать)\n",
    "                                                   # конструктор родительского класса\n",
    "        \n",
    "        self.working_hours = working_hours\n",
    "    \n",
    "    def work(self):                                # А также переопределяет рабочий метод\n",
    "                                                   # (переопределяя в данном случае \"с нуля\",\n",
    "                                                   #  то есть не вызывая родительскую версию)\n",
    "        return 'Работать'\n",
    "\n",
    "\n",
    "class MaleAnt(Ant):\n",
    "    def work(self):\n",
    "        return 'Оплодотворить и умереть'\n",
    "\n",
    "\n",
    "class QueenAnt(Ant):\n",
    "    def work(self):\n",
    "        return 'Родить'"
   ]
  },
  {
   "cell_type": "code",
   "execution_count": 14,
   "id": "88dc73bb",
   "metadata": {},
   "outputs": [
    {
     "name": "stdout",
     "output_type": "stream",
     "text": [
      "Worker\t— Работать\n",
      "Male\t— Оплодотворить и умереть\n"
     ]
    }
   ],
   "source": [
    "a1 = WorkerAnt('V', '8-24')\n",
    "a2 = MaleAnt('Rantel')\n",
    "\n",
    "print('Worker\\t—', a1.work())\n",
    "print('Male\\t—', a2.work())"
   ]
  },
  {
   "cell_type": "markdown",
   "id": "faf15d7f-2bf9-489e-9e6a-f917877c6d40",
   "metadata": {},
   "source": [
    "Разные классы муравьёв, у каждого есть метод с именем `work`.\n",
    "Имя одно и то же, но методы разные!\n",
    "Эта особенность классов называется *полиморфизмом*."
   ]
  },
  {
   "cell_type": "markdown",
   "id": "130bb80c-b0cb-4fde-b848-23c6791b1f1c",
   "metadata": {},
   "source": [
    "## Приватность\n",
    "\n",
    "Поля объектов в Питоне изменяемые.\n",
    "Но иногда может иметь смысл как-то \"обезопасить\" поля от изменений.\n",
    "Например, если они нужны для внутренней работы класса или если поле представляет характеристику, которую в принципе не предполагается трогать.\n",
    "Как, скажем, возраст человека..."
   ]
  },
  {
   "cell_type": "code",
   "execution_count": 15,
   "id": "898a1e84-7b2e-425f-bb13-1452ee3669fb",
   "metadata": {},
   "outputs": [],
   "source": [
    "class Person:\n",
    "    def __init__(self, name: str, age: int):\n",
    "        self.name = name\n",
    "        self.age = age\n",
    "\n",
    "    def __str__(self):  # Ещё один \"специальный\" метод, отвечающий за перевод объекта к типу строки\n",
    "                        # (перевод как явный, через вызов str, так и неявный, когда str вызывается \"где-то там\")\n",
    "        return f'{self.name}, {self.age} years old'"
   ]
  },
  {
   "cell_type": "code",
   "execution_count": 16,
   "id": "f67a1c46-4b7b-4997-874f-a7e30971f130",
   "metadata": {},
   "outputs": [
    {
     "name": "stdout",
     "output_type": "stream",
     "text": [
      "Ann, 20 years old\n"
     ]
    }
   ],
   "source": [
    "ann = Person('Ann', 20)\n",
    "\n",
    "print(ann)"
   ]
  },
  {
   "cell_type": "code",
   "execution_count": 17,
   "id": "281e25ac-eb9e-493a-b6e9-ee19c526c25f",
   "metadata": {},
   "outputs": [
    {
     "name": "stdout",
     "output_type": "stream",
     "text": [
      "Ann, 30 years old\n"
     ]
    }
   ],
   "source": [
    "ann.age = 30\n",
    "\n",
    "print(ann)"
   ]
  },
  {
   "cell_type": "markdown",
   "id": "8192d365-4322-41bd-bc1c-632c479fbcdd",
   "metadata": {},
   "source": [
    "Чтобы нельзя было \"испортить\" объект, сделаем поле приватным:"
   ]
  },
  {
   "cell_type": "code",
   "execution_count": 18,
   "id": "824e9532-3d50-432b-9e21-fae9210af4f6",
   "metadata": {},
   "outputs": [],
   "source": [
    "class Person:\n",
    "    def __init__(self, name: str, age: int):\n",
    "        self.name = name\n",
    "        self._age = age  # нижнее подчёркивание в начале имени — \"индикатор\" приватного атрибута или метода\n",
    "\n",
    "    def __str__(self):\n",
    "        return f'{self.name}, {self._age} years old'"
   ]
  },
  {
   "cell_type": "code",
   "execution_count": 19,
   "id": "ce7b5a81-c935-45e8-b5dc-2024465b84b7",
   "metadata": {},
   "outputs": [
    {
     "name": "stdout",
     "output_type": "stream",
     "text": [
      "Ann, 20 years old\n"
     ]
    }
   ],
   "source": [
    "ann = Person('Ann', 20)\n",
    "\n",
    "print(ann)"
   ]
  },
  {
   "cell_type": "markdown",
   "id": "9637ff46-d230-458c-8bb6-c09b45745c45",
   "metadata": {},
   "source": [
    "Поле обезопасили, но теперь на него нормально-то и не посмотреть (по \"нормальному\" имени оно больше недоступно).\n",
    "Как вариант обезопасить плюс сохранить доступность — сделать метод-геттер (возвращающий значение):"
   ]
  },
  {
   "cell_type": "code",
   "execution_count": 20,
   "id": "ffcee692-fc7a-495e-b1d5-fb40f4e91d33",
   "metadata": {},
   "outputs": [],
   "source": [
    "class Person:\n",
    "    def __init__(self, name: str, age: int):\n",
    "        self.name = name\n",
    "        self._age = age # нижнее подчёркивание в начале имени — \"индикатор\" приватного атрибута или метода\n",
    "\n",
    "    def __str__(self):\n",
    "        return f'{self.name}, {self._age} years old'\n",
    "\n",
    "    def get_age(self) -> int:\n",
    "        return self._age"
   ]
  },
  {
   "cell_type": "code",
   "execution_count": 21,
   "id": "0b7e2ca3-06cd-4fdc-8e8c-806fce415010",
   "metadata": {},
   "outputs": [
    {
     "name": "stdout",
     "output_type": "stream",
     "text": [
      "Ann, 20 years old\n"
     ]
    }
   ],
   "source": [
    "ann = Person('Ann', 20)\n",
    "\n",
    "print(ann)"
   ]
  },
  {
   "cell_type": "code",
   "execution_count": 22,
   "id": "d25ba372-7f39-43bc-9e5e-5d0752076e8c",
   "metadata": {},
   "outputs": [
    {
     "data": {
      "text/plain": [
       "20"
      ]
     },
     "execution_count": 22,
     "metadata": {},
     "output_type": "execute_result"
    }
   ],
   "source": [
    "ann.get_age()"
   ]
  },
  {
   "cell_type": "markdown",
   "id": "f1f5dbf4-f22c-4b1b-aecc-dca43598f7fb",
   "metadata": {},
   "source": [
    "Однако делать отдельный метод, чтоб сохранить нормальный доступ к полю — это, очевидно, дополнительное усложнение: как по части реализации класса, так и по части его дальнейшего использования.\n",
    "Но в Питоне есть механизм, позволяющий в описанном сценарии избежать усложнения (одного из двух) — *свойства*."
   ]
  },
  {
   "cell_type": "code",
   "execution_count": 23,
   "id": "36d2e63d",
   "metadata": {},
   "outputs": [],
   "source": [
    "class Person:\n",
    "    def __init__(self, name: str, age: int):\n",
    "        self.name = name\n",
    "        self._age = age\n",
    "\n",
    "    def __str__(self):\n",
    "        return f'{self.name}, {self._age} years old'\n",
    "\n",
    "    @property\n",
    "    def age(self):  # свойство — функция, притворяющаяся полем (симуляция \"readonly\", то есть неизменяемого поля)\n",
    "        return self._age"
   ]
  },
  {
   "cell_type": "code",
   "execution_count": 24,
   "id": "071bb743",
   "metadata": {},
   "outputs": [
    {
     "name": "stdout",
     "output_type": "stream",
     "text": [
      "Ann, 20 years old\n"
     ]
    }
   ],
   "source": [
    "ann = Person('Ann', 20)\n",
    "\n",
    "print(ann)"
   ]
  },
  {
   "cell_type": "code",
   "execution_count": 25,
   "id": "54119e61",
   "metadata": {},
   "outputs": [
    {
     "data": {
      "text/plain": [
       "20"
      ]
     },
     "execution_count": 25,
     "metadata": {},
     "output_type": "execute_result"
    }
   ],
   "source": [
    "ann.age"
   ]
  },
  {
   "cell_type": "code",
   "execution_count": 26,
   "id": "16526661-9f96-481b-99ee-ef269f1c37f9",
   "metadata": {},
   "outputs": [
    {
     "name": "stdout",
     "output_type": "stream",
     "text": [
      "Can't change attribute! 😐\n"
     ]
    }
   ],
   "source": [
    "try:\n",
    "    ann.age = 30\n",
    "except AttributeError:\n",
    "    print(\"Can't change attribute! 😐\")"
   ]
  },
  {
   "cell_type": "markdown",
   "id": "c874adaa-901a-44d8-a8f7-c4d281f4b2bb",
   "metadata": {},
   "source": [
    "Однако все эти защитные мезанизмы не помогут, если пользователь класса не просто неосторожный, но \"неадекватный\" — приватные поля в Питоне тоже изменяемые.\n",
    "По сути они просто помечены как такие, которые для стандартной работы с классом трогать (а уж тем более изменять) извне вообще не предполагается."
   ]
  },
  {
   "cell_type": "code",
   "execution_count": 27,
   "id": "414ec042",
   "metadata": {},
   "outputs": [
    {
     "name": "stdout",
     "output_type": "stream",
     "text": [
      "Ann, 30 years old\n",
      "\n",
      "😈\n"
     ]
    }
   ],
   "source": [
    "ann._age = 30\n",
    "\n",
    "print(ann)\n",
    "print('\\n😈')"
   ]
  },
  {
   "cell_type": "markdown",
   "id": "52172c93",
   "metadata": {},
   "source": [
    "## Приложение (\"бонус\"). (Почти) задача из контеста: Односвязный список\n",
    "\n",
    "Источник: http://cs.mipt.ru/algo/lessons/sem_2/04.class_linked_list.html.\n",
    "\n",
    "---\n",
    "\n",
    "```\n",
    "В этой задаче вам необходимо реализовать класс односвязного списка LinkedList.\n",
    "Каждый узел списка должен содержать поля value и nxt.\n",
    "Узел должен уметь печатать своё содержимое на экран.\n",
    "\n",
    "Для вывода узла используйте функцию repr.\n",
    "\n",
    "Класс должен содержать:\n",
    "    property size - свойство возвращающее количество элементов в списке,\n",
    "    property root - свойство возвращающее корневой узел,\n",
    "    метод push(value) - добавляет элемент в связный список,\n",
    "    метод pop() - удаляет последний добавленный элемент,\n",
    "    метод is_empty() - возвращает True, если список пуст,\n",
    "    метод find(value) - возвращает узел, содержащий value; 'None', если такого узла нет.\n",
    "```\n",
    "\n",
    "**Пример работы интерфейса**\n",
    "\n",
    "```bash\n",
    ">>> L = LinkedList()\n",
    ">>> L.is_empty()\n",
    "True\n",
    ">>> L.push('a')\n",
    ">>> L.push(1)\n",
    ">>> L.push('c')\n",
    ">>> L.push('a')             # список выглядит так: 'a' -> 'c' -> 1 -> 'a'\n",
    ">>> L.size\n",
    "4\n",
    ">>> print(L.find(L, 'a'))   # первое 'a' содержится в головном элементе\n",
    "Node(value='a')\n",
    ">>> L.pop()                 # список выглядит так: 'c' -> 1 -> 'a'\n",
    "'a'\n",
    ">>> L.size\n",
    "3\n",
    ">>> print(L.find(L, 'a'))   # голова была удалена, теперь осталось только 'a' в конце\n",
    "Node('a')\n",
    ">>> print(L.root.next)\n",
    "Node(1)\n",
    ">>> L.is_empty()\n",
    "False\n",
    "```"
   ]
  },
  {
   "cell_type": "markdown",
   "id": "5ffaf0b6-b8b5-4340-9184-0b99a997d608",
   "metadata": {},
   "source": [
    "Приведём вариант реализации списка, но не совсем такого, как описан в задаче (а такого, где корень — это первый добавленный узел)."
   ]
  },
  {
   "cell_type": "code",
   "execution_count": 28,
   "id": "dbc212dc",
   "metadata": {},
   "outputs": [],
   "source": [
    "class Node:\n",
    "    def __init__(self, value):\n",
    "        self.value = value\n",
    "        self.next = None\n",
    "\n",
    "    def __repr__(self):               # Ещё один \"специальный\" метод, отвечающий за перевод объекта к типу строки\n",
    "                                      # (в отличие от str — за перевод к \"программистскочитаемой\",\n",
    "                                      #  а не \"человекочитаемой\" строке)\n",
    "        return f'Node({self.value})'  # Не совсем такой (замороченный) вывод, как просят\n",
    "\n",
    "\n",
    "class LinkedList:\n",
    "    def __init__(self):\n",
    "        self._root = None   # Первый добавленный\n",
    "    \n",
    "    @property\n",
    "    def size(self) -> int:  # Размер как свойство можно сделать вычисляемым на ходу\n",
    "                            # (то есть в свойство вполне можно зашить ещё и какую-то исполняемую логику)\n",
    "        if self._root is None:\n",
    "            return 0\n",
    "\n",
    "        size = 1\n",
    "        node = self._root\n",
    "        \n",
    "        while node.next is not None:\n",
    "            size += 1\n",
    "            node = node.next\n",
    "        \n",
    "        return size\n",
    "    \n",
    "    @property\n",
    "    def root(self) -> Node:\n",
    "        return self._root\n",
    "    \n",
    "    def push(self, value: int or float) -> None:\n",
    "        if self._root is None:\n",
    "            self._root = Node(value)\n",
    "            \n",
    "            return\n",
    "        \n",
    "        node = self._root\n",
    "        \n",
    "        while node.next is not None:\n",
    "            node = node.next\n",
    "        \n",
    "        node.next = Node(value)\n",
    "\n",
    "    def pop(self) -> int or float:\n",
    "        if self._root is None:\n",
    "            return\n",
    "        \n",
    "        if self._root.next is None:\n",
    "            self._root = None\n",
    "            \n",
    "            return self._root.value\n",
    "\n",
    "        prev = self._root\n",
    "        node = self._root.next\n",
    "        \n",
    "        while node.next is not None:\n",
    "            prev = node\n",
    "            node = node.next\n",
    "        \n",
    "        prev.next = None\n",
    "        \n",
    "        return node.value\n",
    "    \n",
    "    def is_empty(self) -> bool:\n",
    "        return self.size != 0\n",
    "    \n",
    "    def find(self, value) -> Node:        \n",
    "        if self._root is None:\n",
    "            return None  # Не совсем так, как просили в условии задачи\n",
    "        \n",
    "        node = self._root\n",
    "        \n",
    "        while node.next is not None and node.value != value:\n",
    "            node = node.next\n",
    "        \n",
    "        if node.value != value:\n",
    "            return None\n",
    "\n",
    "        return node"
   ]
  },
  {
   "cell_type": "code",
   "execution_count": 29,
   "id": "fd8c31be",
   "metadata": {},
   "outputs": [
    {
     "name": "stdout",
     "output_type": "stream",
     "text": [
      "Node(1)\n",
      "Node(a)\n"
     ]
    }
   ],
   "source": [
    "n1 = Node(1)\n",
    "na = Node('a')\n",
    "\n",
    "print(n1)\n",
    "print(na)"
   ]
  },
  {
   "cell_type": "code",
   "execution_count": 30,
   "id": "fbac3a64",
   "metadata": {},
   "outputs": [],
   "source": [
    "l = LinkedList()"
   ]
  },
  {
   "cell_type": "code",
   "execution_count": 31,
   "id": "3e2598af",
   "metadata": {},
   "outputs": [],
   "source": [
    "l.push(1)\n",
    "l.push('a')"
   ]
  },
  {
   "cell_type": "code",
   "execution_count": 32,
   "id": "d67bbebf",
   "metadata": {},
   "outputs": [
    {
     "data": {
      "text/plain": [
       "2"
      ]
     },
     "execution_count": 32,
     "metadata": {},
     "output_type": "execute_result"
    }
   ],
   "source": [
    "l.size"
   ]
  },
  {
   "cell_type": "code",
   "execution_count": 33,
   "id": "39a843f3",
   "metadata": {},
   "outputs": [
    {
     "data": {
      "text/plain": [
       "Node(1)"
      ]
     },
     "execution_count": 33,
     "metadata": {},
     "output_type": "execute_result"
    }
   ],
   "source": [
    "l.root"
   ]
  },
  {
   "cell_type": "code",
   "execution_count": 35,
   "id": "4c58d26d",
   "metadata": {},
   "outputs": [
    {
     "data": {
      "text/plain": [
       "Node(a)"
      ]
     },
     "execution_count": 35,
     "metadata": {},
     "output_type": "execute_result"
    }
   ],
   "source": [
    "l.find('a')"
   ]
  }
 ],
 "metadata": {
  "kernelspec": {
   "display_name": "Python 3 (ipykernel)",
   "language": "python",
   "name": "python3"
  },
  "language_info": {
   "codemirror_mode": {
    "name": "ipython",
    "version": 3
   },
   "file_extension": ".py",
   "mimetype": "text/x-python",
   "name": "python",
   "nbconvert_exporter": "python",
   "pygments_lexer": "ipython3",
   "version": "3.8.18"
  }
 },
 "nbformat": 4,
 "nbformat_minor": 5
}
