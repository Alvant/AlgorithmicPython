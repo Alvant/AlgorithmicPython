{
 "cells": [
  {
   "cell_type": "markdown",
   "id": "1e3c46a9",
   "metadata": {},
   "source": [
    "# Задача D: Проверка ацикличности графа\n",
    "\n",
    "Источник: [лаба про DFS](http://cs.mipt.ru/algo/lessons/sem_2/08.graph_dfs.html).\n",
    "\n",
    "Дан ориентированный граф.\n",
    "Вершины пронумерованы от 0.\n",
    "Трeбуется с помощью обхода в глубину проверить, является ли граф ацикличным.\n",
    "\n",
    "## Формат входных данных\n",
    "\n",
    "На вход программе в первой строке подаются через пробел два числа: N (2 <= N <= 1000) — число вершин в графе и M (1 <= M <= 20000) — число рёбер.\n",
    "В следующих M строках задаются рёбра, по два числа в каждой строке — номера соединённых вершин (соответствующее ребро идет из первой вершины во вторую).\n",
    "\n",
    "## Формат выходных данных\n",
    "\n",
    "Требуется распечатать номера вершин, задающих цикл в графе, если он существует.\n",
    "Номера вершин нужно вывести в порядке следования по циклу.\n",
    "Если циклов несколько, вывести любой.\n",
    "Если граф ацикличный, вывести строку \"YES\" без кавычек.\n",
    "\n",
    "## Примеры\n",
    "\n",
    "Пример 1:\n",
    "```\n",
    "Вход:\n",
    "\n",
    "4 1\n",
    "3 1\n",
    "\n",
    "Выход:\n",
    "\n",
    "YES\n",
    "```\n",
    "\n",
    "Пример 2:\n",
    "```\n",
    "Вход:\n",
    "\n",
    "8 8\n",
    "7 3\n",
    "3 1\n",
    "5 2\n",
    "6 4\n",
    "6 7\n",
    "4 7\n",
    "1 6\n",
    "1 2\n",
    "\n",
    "Выход:\n",
    "\n",
    "1 6 7 3\n",
    "```"
   ]
  },
  {
   "cell_type": "markdown",
   "id": "983dec0c",
   "metadata": {},
   "source": [
    "## Решение"
   ]
  },
  {
   "cell_type": "markdown",
   "id": "835db6b3",
   "metadata": {},
   "source": [
    "### Считывание данных (\"сырой\" граф)"
   ]
  },
  {
   "cell_type": "code",
   "execution_count": 1,
   "id": "21a4d078",
   "metadata": {},
   "outputs": [
    {
     "name": "stdout",
     "output_type": "stream",
     "text": [
      "8 8\n",
      "7 3\n",
      "3 1\n",
      "5 2\n",
      "6 4\n",
      "6 7\n",
      "4 7\n",
      "1 6\n",
      "1 2\n"
     ]
    }
   ],
   "source": [
    "V, E = [int(n) for n in input().split()]\n",
    "\n",
    "edges = []\n",
    "\n",
    "for _ in range(E):\n",
    "    v1, v2 = [int(n) for n in input().split()]\n",
    "    edges.append((v1, v2))"
   ]
  },
  {
   "cell_type": "markdown",
   "id": "8c403aad",
   "metadata": {},
   "source": [
    "### \"Причёсывание\" графа\n",
    "\n",
    "с прицелом на последующий DFS для поиска цикла"
   ]
  },
  {
   "cell_type": "code",
   "execution_count": 2,
   "id": "3fd75b25",
   "metadata": {},
   "outputs": [],
   "source": [
    "class Node:\n",
    "    def __init__(self, value):\n",
    "        self.value = value\n",
    "        self.descendants = list()\n",
    "        \n",
    "        # Предыдущая вершина в пути, который получается при обходе в глубину\n",
    "        # (может меняться в процессе: когда при обходе спускаемся,\n",
    "        #  когда поднимаемся, или когда приходим из другой вершины)\n",
    "        self.previous = False\n",
    "        \n",
    "        # Посещена — сразу когда первый раз заходим в вершину при обходе графа в глубину\n",
    "        self.is_visited = False\n",
    "        \n",
    "        # Проводили ли поиск в глубину из данной вершины\n",
    "        self.is_dfsed = False\n",
    "    \n",
    "    def __eq__(self, other):\n",
    "        return self.value == other.value"
   ]
  },
  {
   "cell_type": "code",
   "execution_count": 3,
   "id": "0736c326",
   "metadata": {},
   "outputs": [],
   "source": [
    "nodes = [\n",
    "    Node(i) for i in range(V)\n",
    "]\n",
    "\n",
    "for edge in edges:\n",
    "    v1, v2 = edge\n",
    "    nodes[v1].descendants.append(nodes[v2])  # пользуемся тем, что вершины пронумерованы"
   ]
  },
  {
   "cell_type": "markdown",
   "id": "98f30b25",
   "metadata": {},
   "source": [
    "### Поиск цикла"
   ]
  },
  {
   "cell_type": "code",
   "execution_count": 4,
   "id": "06efde3b",
   "metadata": {},
   "outputs": [],
   "source": [
    "def find_cycle_dfs(root):\n",
    "    if root.is_dfsed:\n",
    "        return None\n",
    "    \n",
    "    root.is_visited = True\n",
    "    \n",
    "    for d in root.descendants:\n",
    "        if d.is_dfsed:    # не цикл\n",
    "            continue\n",
    "        \n",
    "        if d.is_visited:  # цикл\n",
    "            return restore_cycle(first=d, last=root)\n",
    "        \n",
    "        d.previous = root\n",
    "        cycle = find_cycle_dfs(d)\n",
    "        \n",
    "        if cycle is not None:\n",
    "            return cycle\n",
    "    \n",
    "    root.is_dfsed = True\n",
    "    \n",
    "    return None\n",
    "\n",
    "\n",
    "def restore_cycle(first, last):\n",
    "    reversed_cycle = [last]\n",
    "\n",
    "    while (previous := reversed_cycle[-1].previous) != first:  # \"Моржовый\" оператор\n",
    "                                                               # https://realpython.com/python-walrus-operator\n",
    "        reversed_cycle.append(previous)\n",
    "\n",
    "    reversed_cycle.append(first)\n",
    "    cycle = reversed_cycle[::-1]\n",
    "\n",
    "    return cycle"
   ]
  },
  {
   "cell_type": "code",
   "execution_count": 5,
   "id": "e4ecb5f5",
   "metadata": {},
   "outputs": [
    {
     "name": "stdout",
     "output_type": "stream",
     "text": [
      "1 6 4 7 3\n"
     ]
    }
   ],
   "source": [
    "for node in nodes:\n",
    "    if node.is_dfsed:\n",
    "        continue\n",
    "    \n",
    "    cycle = find_cycle_dfs(node)\n",
    "    \n",
    "    if cycle is not None:\n",
    "        cycle_values = [n.value for n in cycle]\n",
    "        \n",
    "        print(*cycle_values)\n",
    "        \n",
    "        break\n",
    "else:\n",
    "    print('YES')"
   ]
  },
  {
   "cell_type": "markdown",
   "id": "b7aae23e",
   "metadata": {},
   "source": [
    "### P.S.\n",
    "\n",
    "Про `else` после `for` или `while` цикла: https://www.geeksforgeeks.org/using-else-conditional-statement-with-for-loop-in-python.\n",
    "\n",
    "(TL;DR: вообще полезно, но имя `else` [не самое удачное](https://stackoverflow.com/questions/9979970/why-does-python-use-else-after-for-and-while-loops#comment12751930_9979970))."
   ]
  }
 ],
 "metadata": {
  "kernelspec": {
   "display_name": "omniquant",
   "language": "python",
   "name": "omniquant"
  },
  "language_info": {
   "codemirror_mode": {
    "name": "ipython",
    "version": 3
   },
   "file_extension": ".py",
   "mimetype": "text/x-python",
   "name": "python",
   "nbconvert_exporter": "python",
   "pygments_lexer": "ipython3",
   "version": "3.10.12"
  }
 },
 "nbformat": 4,
 "nbformat_minor": 5
}
