{
 "cells": [
  {
   "cell_type": "markdown",
   "id": "ef3d8ffa-7c7f-43c7-9c49-595befc4740d",
   "metadata": {},
   "source": [
    "# Stack, Queue; Heap"
   ]
  },
  {
   "cell_type": "markdown",
   "id": "6b0a5ee3",
   "metadata": {},
   "source": [
    "## Stack\n",
    "\n",
    "LIFO: Last In First Out (\"стопка тарелок\")\n",
    "\n",
    "Операции:\n",
    "* добавить элемент\n",
    "* достать элемент"
   ]
  },
  {
   "cell_type": "markdown",
   "id": "361ab78c",
   "metadata": {},
   "source": [
    "### Пример реализации\n",
    "\n",
    "На основе питонского списка"
   ]
  },
  {
   "cell_type": "code",
   "execution_count": 1,
   "id": "a0555e82",
   "metadata": {},
   "outputs": [],
   "source": [
    "l = [1, 2, 3]\n",
    "\n",
    "# Добавить:\n",
    "l.append(10)  # [1, 2, 3, 10]\n",
    "\n",
    "# Достать:\n",
    "e = l.pop()  # 10, [1, 2, 3]"
   ]
  },
  {
   "cell_type": "markdown",
   "id": "4ef5bfb6",
   "metadata": {},
   "source": [
    "## Queue\n",
    "\n",
    "FIFO: First In First Out (\"очередь\")\n",
    "\n",
    "Операции:\n",
    "* добавить элемент\n",
    "* достать элемент"
   ]
  },
  {
   "cell_type": "markdown",
   "id": "6e012589",
   "metadata": {},
   "source": [
    "### Пример реализации\n",
    "\n",
    "На основе питонского списка"
   ]
  },
  {
   "cell_type": "code",
   "execution_count": 2,
   "id": "25a8e3ae",
   "metadata": {},
   "outputs": [],
   "source": [
    "l = [1, 2, 3]\n",
    "\n",
    "# Добавить:\n",
    "l.append(10)  # [1, 2, 3, 10]\n",
    "\n",
    "# Достать:\n",
    "e = l.pop(0)  # 1, [2, 3, 10]"
   ]
  },
  {
   "cell_type": "markdown",
   "id": "01b905fc",
   "metadata": {},
   "source": [
    "Но удаление из начала списка -- \"дорогое\"!\n",
    "(Есть и получше способы реализовать очередь.)"
   ]
  },
  {
   "cell_type": "markdown",
   "id": "3e0ab9e2-fc64-412d-b370-f237e52d39fc",
   "metadata": {},
   "source": [
    "### Пример \"нормальной\" реализации\n",
    "\n",
    "Которая уже есть в Питоне:"
   ]
  },
  {
   "cell_type": "code",
   "execution_count": 2,
   "id": "67df26fe",
   "metadata": {},
   "outputs": [],
   "source": [
    "from collections import deque"
   ]
  },
  {
   "cell_type": "code",
   "execution_count": 3,
   "id": "7a1f16ec",
   "metadata": {},
   "outputs": [],
   "source": [
    "d = deque()"
   ]
  },
  {
   "cell_type": "markdown",
   "id": "d4e734e1-9102-4204-88cf-bfc68e359c29",
   "metadata": {},
   "source": [
    "Что умеет:"
   ]
  },
  {
   "cell_type": "code",
   "execution_count": 4,
   "id": "a30bc174",
   "metadata": {},
   "outputs": [
    {
     "data": {
      "text/plain": [
       "['__add__',\n",
       " '__bool__',\n",
       " '__class__',\n",
       " '__contains__',\n",
       " '__copy__',\n",
       " '__delattr__',\n",
       " '__delitem__',\n",
       " '__dir__',\n",
       " '__doc__',\n",
       " '__eq__',\n",
       " '__format__',\n",
       " '__ge__',\n",
       " '__getattribute__',\n",
       " '__getitem__',\n",
       " '__gt__',\n",
       " '__hash__',\n",
       " '__iadd__',\n",
       " '__imul__',\n",
       " '__init__',\n",
       " '__init_subclass__',\n",
       " '__iter__',\n",
       " '__le__',\n",
       " '__len__',\n",
       " '__lt__',\n",
       " '__mul__',\n",
       " '__ne__',\n",
       " '__new__',\n",
       " '__reduce__',\n",
       " '__reduce_ex__',\n",
       " '__repr__',\n",
       " '__reversed__',\n",
       " '__rmul__',\n",
       " '__setattr__',\n",
       " '__setitem__',\n",
       " '__sizeof__',\n",
       " '__str__',\n",
       " '__subclasshook__',\n",
       " 'append',\n",
       " 'appendleft',\n",
       " 'clear',\n",
       " 'copy',\n",
       " 'count',\n",
       " 'extend',\n",
       " 'extendleft',\n",
       " 'index',\n",
       " 'insert',\n",
       " 'maxlen',\n",
       " 'pop',\n",
       " 'popleft',\n",
       " 'remove',\n",
       " 'reverse',\n",
       " 'rotate']"
      ]
     },
     "execution_count": 4,
     "metadata": {},
     "output_type": "execute_result"
    }
   ],
   "source": [
    "dir(d)"
   ]
  },
  {
   "cell_type": "markdown",
   "id": "f65523a2-6203-4bbc-9075-b3143ebe48b4",
   "metadata": {},
   "source": [
    "`append`, `appendleft`, `pop`, `popleft` — видно, что `deque` может выступать и в роли стека, и в роли очереди (с двух концов всё умеет, добавлять и удалять)."
   ]
  },
  {
   "cell_type": "code",
   "execution_count": 5,
   "id": "86154b64",
   "metadata": {},
   "outputs": [],
   "source": [
    "d.append(1)\n",
    "d.append(2)\n",
    "d.appendleft(-1)"
   ]
  },
  {
   "cell_type": "code",
   "execution_count": 6,
   "id": "40ddfcc6",
   "metadata": {},
   "outputs": [
    {
     "data": {
      "text/plain": [
       "deque([-1, 1, 2])"
      ]
     },
     "execution_count": 6,
     "metadata": {},
     "output_type": "execute_result"
    }
   ],
   "source": [
    "d"
   ]
  },
  {
   "cell_type": "markdown",
   "id": "d7787057-dde5-4107-997d-871e71bcd714",
   "metadata": {},
   "source": [
    "Наличие `__getitem__` означает, что `deque` умеет возвращать элементы по индексу:"
   ]
  },
  {
   "cell_type": "code",
   "execution_count": 9,
   "id": "23928477",
   "metadata": {},
   "outputs": [
    {
     "data": {
      "text/plain": [
       "-1"
      ]
     },
     "execution_count": 9,
     "metadata": {},
     "output_type": "execute_result"
    }
   ],
   "source": [
    "d[0]"
   ]
  },
  {
   "cell_type": "markdown",
   "id": "34408d70-2ab6-4456-836b-f25c70fc65c4",
   "metadata": {},
   "source": [
    "А `__setitem__` — это выставление элементов по индексу:"
   ]
  },
  {
   "cell_type": "code",
   "execution_count": 10,
   "id": "521c6b96",
   "metadata": {},
   "outputs": [],
   "source": [
    "d[1] = 100"
   ]
  },
  {
   "cell_type": "code",
   "execution_count": 11,
   "id": "7a2d93d8",
   "metadata": {},
   "outputs": [
    {
     "data": {
      "text/plain": [
       "deque([-1, 100, 2])"
      ]
     },
     "execution_count": 11,
     "metadata": {},
     "output_type": "execute_result"
    }
   ],
   "source": [
    "d"
   ]
  },
  {
   "cell_type": "markdown",
   "id": "7900b4dd-fc55-4737-9633-20d2e45723ab",
   "metadata": {},
   "source": [
    "Получается, по функционалу `deque` умеет в целом то же, что и просто `list`, и ещё больше этого.\n",
    "(\"Подкапотная\" же реализация у них отличается: `deque` — связный список, `list` — кусок подряд идущих элементов в памяти.)"
   ]
  },
  {
   "cell_type": "markdown",
   "id": "0645eb00",
   "metadata": {},
   "source": [
    "## Heap\n",
    "\n",
    "Двоичное дерево, но не поиска.\n",
    "\n",
    "Основное свойство: значение в узле больше, чем в потомках (или, наоборот, меньше).\n",
    "\n",
    "Например:\n",
    "```\n",
    "               100\n",
    "            /       \\\n",
    "         50          20\n",
    "       /   \\        /   \\\n",
    "     20    10      5    17\n",
    "    /  \\\n",
    "   1    2\n",
    "```"
   ]
  },
  {
   "cell_type": "markdown",
   "id": "e9858081",
   "metadata": {},
   "source": [
    "### Пример реализации\n",
    "\n",
    "На основе питонского списка"
   ]
  },
  {
   "cell_type": "code",
   "execution_count": 12,
   "id": "4d2e3833",
   "metadata": {},
   "outputs": [],
   "source": [
    "# Готовая куча в виде списка\n",
    "\n",
    "l = [\n",
    "    100,           # i -- индекс корня\n",
    "    50, 20,        # (2i + 1), (2i + 2) -- индексы непосредственных потомков\n",
    "    20, 10, 5, 17,\n",
    "    1, 2,\n",
    "]"
   ]
  },
  {
   "cell_type": "markdown",
   "id": "4820cdf3",
   "metadata": {},
   "source": [
    "### \"Зачем\"?\n",
    "\n",
    "Быстрая сортировка:\n",
    "* построение кучи (один раз в начале)\n",
    "* мгновенное доставание максимума (каждый раз)\n",
    "* быстрое восстановление кучи (каждый раз)"
   ]
  },
  {
   "cell_type": "markdown",
   "id": "bf68ba9c-56ec-462f-8235-f75f53bac31c",
   "metadata": {},
   "source": [
    "### Сортировка кучей своими руками"
   ]
  },
  {
   "cell_type": "markdown",
   "id": "603b9c46",
   "metadata": {},
   "source": [
    "Максимальный элемент — корень кучи.\n",
    "Можно его выбрать и сразу поставить на нужное место в отсортированном массиве.\n",
    "Но тогда надо будет найти новый корень...\n",
    "\n",
    "Как это сделать?\n",
    "Кажется, что надо как-нибудь занять освободившееся место.\n",
    "Например, можно поставить в качестве корня лист (самый правый, чтобы дерево оставалось заполнено \"слева направо\").\n",
    "Но это, очевидно, \"сломает\" кучу.\n",
    "Однако можно будет её исправить, например, меняя местами пары \"проблемных\" элементов — от корня и вниз до конца (пройдя максимум по высоте дерева).\n",
    "\n",
    "Шаг 0: Убрали корень (поставили на место в отсортированном массиве)\n",
    "```\n",
    "                ?\n",
    "            /       \\\n",
    "         50          20\n",
    "       /   \\        /   \\\n",
    "     20    10      5    17\n",
    "    /  \\\n",
    "   1    2\n",
    "```\n",
    "\n",
    "Шаг 1: заняли место корня листом\n",
    "```\n",
    "                2\n",
    "            /       \\\n",
    "         50          20\n",
    "       /   \\        /   \\\n",
    "     20    10      5    17\n",
    "    /\n",
    "   1\n",
    "```\n",
    "\n",
    "Шаг 2: правим, меняя пару смежных местами (2 $\\leftrightarrow$ 50)\n",
    "```\n",
    "                50\n",
    "            /       \\\n",
    "         2           20\n",
    "       /   \\        /   \\\n",
    "     20    10      5    17\n",
    "    /\n",
    "   1\n",
    "```\n",
    "\n",
    "Шаг 3: правим, меняя пару смежных местами  (2 $\\leftrightarrow$ 20)\n",
    "```\n",
    "                50\n",
    "            /       \\\n",
    "         20          20\n",
    "       /   \\        /   \\\n",
    "     2     10      5    17\n",
    "    /\n",
    "   1\n",
    "```\n",
    "\n",
    "Получилась корректная куча, с новым максимумом на вершине.\n",
    "Который тоже можно будет поставить на его место в отсортированном списке.\n",
    "И так далее."
   ]
  }
 ],
 "metadata": {
  "kernelspec": {
   "display_name": "Python 3 (ipykernel)",
   "language": "python",
   "name": "python3"
  },
  "language_info": {
   "codemirror_mode": {
    "name": "ipython",
    "version": 3
   },
   "file_extension": ".py",
   "mimetype": "text/x-python",
   "name": "python",
   "nbconvert_exporter": "python",
   "pygments_lexer": "ipython3",
   "version": "3.8.18"
  }
 },
 "nbformat": 4,
 "nbformat_minor": 5
}
