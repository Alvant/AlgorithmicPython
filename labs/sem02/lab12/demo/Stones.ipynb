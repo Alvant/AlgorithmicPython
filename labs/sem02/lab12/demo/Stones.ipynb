{
 "cells": [
  {
   "cell_type": "markdown",
   "id": "18703825",
   "metadata": {},
   "source": [
    "На столе изначально лежат N камней.\n",
    "\n",
    "За ход игрок может взять:\n",
    "\n",
    "* 1 или 2 камня, если текущее число камней делится на 3;\n",
    "* 1 или 3, если текущее число камней при делении на 3 дает остаток один;\n",
    "* 1, 2 или 3, если текущее число камней при делении на 3 дает остаток два.\n",
    "\n",
    "Каждый ход можно сделать при наличии достаточного количества камней. Проигрывает тот, кто хода сделать не может. "
   ]
  },
  {
   "cell_type": "code",
   "execution_count": 1,
   "id": "a3cd557d",
   "metadata": {},
   "outputs": [],
   "source": [
    "OPPONENTS = {\n",
    "    1: 2,\n",
    "    2: 1,\n",
    "}\n",
    "\n",
    "is_win = dict()\n",
    "is_win[0] = False\n",
    "\n",
    "\n",
    "def f(player, num_stones):\n",
    "    opponent = OPPONENTS[player]\n",
    "    \n",
    "    if num_stones in is_win:\n",
    "        return player if is_win[num_stones] else opponent\n",
    "    \n",
    "    if num_stones % 3 == 0:\n",
    "        if (f(opponent, num_stones - 1) == player\n",
    "              or f(opponent, num_stones - 2) == player):\n",
    "            winner = player\n",
    "        else:\n",
    "            winner = opponent\n",
    "\n",
    "    elif num_stones % 3 == 1:\n",
    "        if (f(opponent, num_stones - 1) == player\n",
    "              or f(opponent, num_stones - 3) == player):\n",
    "            winner = player\n",
    "        else:\n",
    "            winner = opponent\n",
    "\n",
    "    elif num_stones % 3 == 2:\n",
    "        if (f(opponent, num_stones - 1) == player\n",
    "              or f(opponent, num_stones - 2) == player\n",
    "              or f(opponent, num_stones - 3) == player):\n",
    "            winner = player\n",
    "        else:\n",
    "            winner = opponent\n",
    "    \n",
    "    if winner == player:\n",
    "        is_win[num_stones] = True\n",
    "    else:\n",
    "        is_win[num_stones] = False\n",
    "    \n",
    "    return winner"
   ]
  },
  {
   "cell_type": "code",
   "execution_count": 2,
   "id": "cbf05d79",
   "metadata": {},
   "outputs": [
    {
     "data": {
      "text/plain": [
       "{0: False}"
      ]
     },
     "execution_count": 2,
     "metadata": {},
     "output_type": "execute_result"
    }
   ],
   "source": [
    "is_win"
   ]
  },
  {
   "cell_type": "code",
   "execution_count": 3,
   "id": "b3a7e1fe",
   "metadata": {},
   "outputs": [
    {
     "name": "stdout",
     "output_type": "stream",
     "text": [
      "3\n"
     ]
    }
   ],
   "source": [
    "n = int(input())"
   ]
  },
  {
   "cell_type": "code",
   "execution_count": 4,
   "id": "59dcfcb2",
   "metadata": {},
   "outputs": [
    {
     "data": {
      "text/plain": [
       "2"
      ]
     },
     "execution_count": 4,
     "metadata": {},
     "output_type": "execute_result"
    }
   ],
   "source": [
    "f(1, n)"
   ]
  },
  {
   "cell_type": "code",
   "execution_count": null,
   "id": "fde13d2b",
   "metadata": {},
   "outputs": [],
   "source": []
  }
 ],
 "metadata": {
  "kernelspec": {
   "display_name": "Python 3 (ipykernel)",
   "language": "python",
   "name": "python3"
  },
  "language_info": {
   "codemirror_mode": {
    "name": "ipython",
    "version": 3
   },
   "file_extension": ".py",
   "mimetype": "text/x-python",
   "name": "python",
   "nbconvert_exporter": "python",
   "pygments_lexer": "ipython3",
   "version": "3.8.11"
  }
 },
 "nbformat": 4,
 "nbformat_minor": 5
}
