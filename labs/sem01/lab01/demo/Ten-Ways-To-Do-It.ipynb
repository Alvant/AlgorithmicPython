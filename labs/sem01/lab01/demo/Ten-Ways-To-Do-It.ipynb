{
 "cells": [
  {
   "cell_type": "markdown",
   "id": "2945bace",
   "metadata": {},
   "source": [
    "# Больше-меньше\n",
    "\n",
    "(Задача из контеста по [лабе](http://cs.mipt.ru/algo/lessons/sem_1/02.base_python.html).)\n",
    "\n",
    "Дано выражение вида \"a x b\", где a и b — натуральные числа, а x — знак сравнения: '<' или '>'.\n",
    "Истинно ли данное выражение?\n",
    "\n",
    "### Формат входных данных\n",
    "\n",
    "В первой строке число a, во второй знак сравнения, в третьей - число b. Оба числа - натуральные.\n",
    "\n",
    "### Формат выходных данных\n",
    "\n",
    "Если выражение истинно, выведите YES, иначе NO. \n",
    "\n",
    "### Примеры\n",
    "\n",
    "<br/>\n",
    "\n",
    "<div style=\"display: inline-block\">\n",
    "\n",
    "| Вход | Выход   |\n",
    "| ---  | ------- |\n",
    "| 1    | YES     |\n",
    "| <    |         |\n",
    "| 2    |         |\n",
    "\n",
    "| Вход | Выход   |\n",
    "| ---  | ------- |\n",
    "| 10   | NO      |\n",
    "| >    |         |\n",
    "| 100  |         |\n",
    "\n",
    "</div>"
   ]
  },
  {
   "cell_type": "markdown",
   "id": "2e1503bf",
   "metadata": {},
   "source": [
    "# Решение"
   ]
  },
  {
   "cell_type": "code",
   "execution_count": 1,
   "id": "13ad6015",
   "metadata": {},
   "outputs": [
    {
     "name": "stdout",
     "output_type": "stream",
     "text": [
      "1\n",
      "<\n",
      "2\n"
     ]
    }
   ],
   "source": [
    "a = int(input())\n",
    "sign = input()\n",
    "b = int(input())"
   ]
  },
  {
   "cell_type": "markdown",
   "id": "ebd209cf",
   "metadata": {},
   "source": [
    "## 1. \"Нормальный\", или If-s 1"
   ]
  },
  {
   "cell_type": "code",
   "execution_count": 2,
   "id": "6525fc7f",
   "metadata": {},
   "outputs": [
    {
     "name": "stdout",
     "output_type": "stream",
     "text": [
      "YES\n"
     ]
    }
   ],
   "source": [
    "if sign == '<':\n",
    "    if a < b:\n",
    "        print('YES')\n",
    "    else:\n",
    "        print('NO')\n",
    "else:\n",
    "    if a > b:\n",
    "        print('YES')\n",
    "    else:\n",
    "        print('NO')"
   ]
  },
  {
   "cell_type": "markdown",
   "id": "101571dc",
   "metadata": {},
   "source": [
    "## 2. \"Нормальный, или If-s 2"
   ]
  },
  {
   "cell_type": "code",
   "execution_count": 3,
   "id": "969b11bb",
   "metadata": {},
   "outputs": [
    {
     "name": "stdout",
     "output_type": "stream",
     "text": [
      "YES\n"
     ]
    }
   ],
   "source": [
    "if a > b and sign == '>':\n",
    "    print('YES')\n",
    "elif a < b and sign == '<':\n",
    "    print('YES')\n",
    "else:\n",
    "    print('NO')"
   ]
  },
  {
   "cell_type": "markdown",
   "id": "dacd5325",
   "metadata": {},
   "source": [
    "## 3. Eval"
   ]
  },
  {
   "cell_type": "code",
   "execution_count": 4,
   "id": "d6b78f36",
   "metadata": {},
   "outputs": [
    {
     "name": "stdout",
     "output_type": "stream",
     "text": [
      "YES\n"
     ]
    }
   ],
   "source": [
    "if eval(f'{a} {sign} {b}'):\n",
    "    print('YES')\n",
    "else:\n",
    "    print('NO')"
   ]
  },
  {
   "cell_type": "markdown",
   "id": "cde263d4",
   "metadata": {},
   "source": [
    "*P.S.*\n",
    "\n",
    "В данной задаче кажется более-менее нормальным, но вообще eval-ом пользоваться не рекомендуется, потому что это \"мутно\":\n",
    "\n",
    "* https://realpython.com/python-eval-function/#minimizing-the-security-issues-of-eval\n",
    "* https://stackoverflow.com/a/1832957/8094251\n",
    "* https://stackoverflow.com/a/1834754/8094251"
   ]
  },
  {
   "cell_type": "markdown",
   "id": "8f5eb021",
   "metadata": {},
   "source": [
    "## 4. Через цикл"
   ]
  },
  {
   "cell_type": "code",
   "execution_count": 5,
   "id": "45a8d8a8",
   "metadata": {},
   "outputs": [
    {
     "name": "stdout",
     "output_type": "stream",
     "text": [
      "YES\n"
     ]
    }
   ],
   "source": [
    "x = a\n",
    "y = b\n",
    "\n",
    "while x > 0 and y > 0:\n",
    "    x -= 1\n",
    "    y -= 1\n",
    "\n",
    "if (x == 0 and sign == '<') or (y == 0 and sign == '>'):\n",
    "    print('YES')\n",
    "else:\n",
    "    print('NO')"
   ]
  },
  {
   "cell_type": "markdown",
   "id": "ae5cbb77",
   "metadata": {},
   "source": [
    "## 5. Через функцию"
   ]
  },
  {
   "cell_type": "code",
   "execution_count": 6,
   "id": "00467bc6",
   "metadata": {},
   "outputs": [
    {
     "name": "stdout",
     "output_type": "stream",
     "text": [
      "YES\n"
     ]
    }
   ],
   "source": [
    "def compare(x: int, y: int, sign: str) -> bool:\n",
    "    return (a > b and sign == '>') or (a < b and sign == '<')\n",
    "\n",
    "\n",
    "if compare(a, b, sign):\n",
    "    print('YES')\n",
    "else:\n",
    "    print('NO')"
   ]
  },
  {
   "cell_type": "markdown",
   "id": "a5ce00c3",
   "metadata": {},
   "source": [
    "## 6. Через класс"
   ]
  },
  {
   "cell_type": "code",
   "execution_count": 7,
   "id": "e34edaee",
   "metadata": {},
   "outputs": [
    {
     "name": "stdout",
     "output_type": "stream",
     "text": [
      "YES\n"
     ]
    }
   ],
   "source": [
    "class Comparator:\n",
    "    @staticmethod\n",
    "    def compare(x: int, y: int, sign: str) -> bool:\n",
    "        return (a > b and sign == '>') or (a < b and sign == '<')\n",
    "\n",
    "\n",
    "if Comparator.compare(a, b, sign):\n",
    "    print('YES')\n",
    "else:\n",
    "    print('NO')"
   ]
  },
  {
   "cell_type": "markdown",
   "id": "5f3eb726",
   "metadata": {},
   "source": [
    "## 7. Lexicographically, or Fully Stringy"
   ]
  },
  {
   "cell_type": "code",
   "execution_count": 8,
   "id": "2ccaa79a",
   "metadata": {},
   "outputs": [
    {
     "name": "stdout",
     "output_type": "stream",
     "text": [
      "YES\n"
     ]
    }
   ],
   "source": [
    "x = bin(a)[2:]\n",
    "y = bin(b)[2:]\n",
    "\n",
    "max_len = max(len(x), len(y))\n",
    "x, y = [\n",
    "    '0' * (max_len - len(s)) + s\n",
    "    for s in [x, y]\n",
    "]\n",
    "\n",
    "if (x < y and sign == '<') or (x > y and sign == '>'):\n",
    "    print('YES')\n",
    "else:\n",
    "    print('NO')"
   ]
  },
  {
   "cell_type": "markdown",
   "id": "9ccc28ff",
   "metadata": {},
   "source": [
    "## 8*. AI\n",
    "\n",
    "Пример основан на примерах отсюда:\n",
    "* https://huggingface.co/openchat/openchat-3.6-8b-20240522\n",
    "* https://huggingface.co/microsoft/Phi-3.5-mini-instruct"
   ]
  },
  {
   "cell_type": "code",
   "execution_count": null,
   "id": "3394ad3a",
   "metadata": {},
   "outputs": [],
   "source": [
    "# Install PyTorch: https://pytorch.org/get-started/locally\n",
    "\n",
    "! pip install transformers\n",
    "! pip install accelerate"
   ]
  },
  {
   "cell_type": "code",
   "execution_count": 10,
   "id": "bcae5305",
   "metadata": {},
   "outputs": [],
   "source": [
    "import os\n",
    "\n",
    "# Turn off CUDA (we don't need it, and probably you don't have it)\n",
    "os.environ['CUDA_VISIBLE_DEVICES'] = '-1'"
   ]
  },
  {
   "cell_type": "code",
   "execution_count": 11,
   "id": "0a1b7d62",
   "metadata": {},
   "outputs": [],
   "source": [
    "from transformers import AutoTokenizer, AutoModelForCausalLM"
   ]
  },
  {
   "cell_type": "code",
   "execution_count": 12,
   "id": "2b926bb4",
   "metadata": {},
   "outputs": [
    {
     "data": {
      "application/vnd.jupyter.widget-view+json": {
       "model_id": "6030de9b7b4b4052b340a616fe2a985d",
       "version_major": 2,
       "version_minor": 0
      },
      "text/plain": [
       "Loading checkpoint shards:   0%|          | 0/2 [00:00<?, ?it/s]"
      ]
     },
     "metadata": {},
     "output_type": "display_data"
    }
   ],
   "source": [
    "model_id = \"microsoft/Phi-3.5-mini-instruct\"  # ~ 7-8 Gb\n",
    "\n",
    "tokenizer = AutoTokenizer.from_pretrained(model_id)\n",
    "model = AutoModelForCausalLM.from_pretrained(\n",
    "    model_id,\n",
    "    device_map=\"auto\"\n",
    ")"
   ]
  },
  {
   "cell_type": "code",
   "execution_count": 13,
   "id": "4d7102ab",
   "metadata": {},
   "outputs": [
    {
     "name": "stderr",
     "output_type": "stream",
     "text": [
      "The attention mask is not set and cannot be inferred from input because pad token is same as eos token. As a consequence, you may observe unexpected behavior. Please pass your input's `attention_mask` to obtain reliable results.\n",
      "You are not running the flash-attention implementation, expect numerical differences.\n"
     ]
    },
    {
     "name": "stdout",
     "output_type": "stream",
     "text": [
      "YES\n"
     ]
    }
   ],
   "source": [
    "messages = [\n",
    "    {\n",
    "        \"role\": \"system\",\n",
    "        \"content\": \"You are a helpful AI assistant.\"\n",
    "    },\n",
    "    {\n",
    "        \"role\": \"user\",\n",
    "        \"content\": (\n",
    "            f\"Дано логическое выражение: {a} {sign} {b}.\"\n",
    "            f\" Если выражение истинно, выведи YES, иначе NO.\"\n",
    "        )\n",
    "    },\n",
    "]\n",
    "\n",
    "input_ids = tokenizer.apply_chat_template(\n",
    "    messages,\n",
    "    add_generation_prompt=True,\n",
    "    return_tensors=\"pt\"\n",
    ")\n",
    "input_ids = input_ids.to(model.device)\n",
    "\n",
    "outputs = model.generate(\n",
    "    input_ids,\n",
    "    do_sample=False,\n",
    "    max_new_tokens=10\n",
    ")\n",
    "response = outputs[0][input_ids.shape[-1]:]\n",
    "\n",
    "answer = tokenizer.decode(response, skip_special_tokens=True)\n",
    "\n",
    "print(answer)"
   ]
  },
  {
   "cell_type": "markdown",
   "id": "b00e05cc",
   "metadata": {},
   "source": [
    "*P.S.*\n",
    "\n",
    "Можно посмотреть весь вход модели как текст:\n",
    "\n",
    "```python\n",
    "tokenizer.apply_chat_template(\n",
    "    messages,\n",
    "    add_generation_prompt=True,\n",
    "    tokenize=False,\n",
    ")\n",
    "```\n",
    "\n",
    "Можно посмотреть весь выход:\n",
    "\n",
    "```python\n",
    "tokenizer.decode(outputs[0])\n",
    "```"
   ]
  },
  {
   "cell_type": "markdown",
   "id": "059baf67",
   "metadata": {},
   "source": [
    "## 9*. \"Obfuscated Lambda\"\n",
    "\n",
    "Не самый хороший пример на lambda-функцию (намеренно неоправданно сложный однострочник)."
   ]
  },
  {
   "cell_type": "code",
   "execution_count": 14,
   "id": "f2b94695",
   "metadata": {},
   "outputs": [
    {
     "name": "stdout",
     "output_type": "stream",
     "text": [
      "YES\n"
     ]
    }
   ],
   "source": [
    "answer = 'YES' if (lambda x, y, s: x < y if s == '<' else x > y)(a, b, sign) else 'NO'\n",
    "\n",
    "print(answer)"
   ]
  },
  {
   "cell_type": "markdown",
   "id": "9c98c332",
   "metadata": {},
   "source": [
    "*P.S.*\n",
    "\n",
    "Более интересный не самый простой пример с lambda-функцией: [Set of all subsets](https://wiki.python.org/moin/Powerful%20Python%20One-Liners#Set_of_all_subsets)."
   ]
  },
  {
   "cell_type": "markdown",
   "id": "3be9db9b",
   "metadata": {},
   "source": [
    "## 10*. Linux"
   ]
  },
  {
   "cell_type": "code",
   "execution_count": 9,
   "id": "8d1f8e1d",
   "metadata": {},
   "outputs": [
    {
     "name": "stdout",
     "output_type": "stream",
     "text": [
      "YES\r\n"
     ]
    }
   ],
   "source": [
    "! if (( $a $sign $b )); then echo YES; else echo NO; fi"
   ]
  }
 ],
 "metadata": {
  "kernelspec": {
   "display_name": "omniquant",
   "language": "python",
   "name": "omniquant"
  },
  "language_info": {
   "codemirror_mode": {
    "name": "ipython",
    "version": 3
   },
   "file_extension": ".py",
   "mimetype": "text/x-python",
   "name": "python",
   "nbconvert_exporter": "python",
   "pygments_lexer": "ipython3",
   "version": "3.10.12"
  }
 },
 "nbformat": 4,
 "nbformat_minor": 5
}
