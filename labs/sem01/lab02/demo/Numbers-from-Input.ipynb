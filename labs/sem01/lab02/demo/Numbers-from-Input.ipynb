{
 "cells": [
  {
   "cell_type": "markdown",
   "id": "e5fa90c6-97a6-4ef8-aae5-5533b2cbe673",
   "metadata": {},
   "source": [
    "# Number Sequence\n",
    "\n",
    "Пусть надо считать со входа сколько-то целых чисел $n$ и найти сумму обратных им $\\frac{1}{n}$ (считаем $n \\not= 0$)."
   ]
  },
  {
   "cell_type": "markdown",
   "id": "6cda04c5-a507-4a1c-85f9-a5cbb367e8ea",
   "metadata": {},
   "source": [
    "## Read Some Number of Numbers\n",
    "\n",
    "Пусть числа поступают со стандартного входа (их вводят с клавиатуры), при этом сначала указывается число $N$, обозначающее, сколько вообще будет далее введено чисел.\n",
    "\n",
    "В этом случае разумным кажется считывание чисел с помощью цикла `for`."
   ]
  },
  {
   "cell_type": "code",
   "execution_count": 1,
   "id": "295b0ccb-3372-406a-b0c9-e9aad7206020",
   "metadata": {},
   "outputs": [
    {
     "name": "stdin",
     "output_type": "stream",
     "text": [
      " 2\n",
      " 1\n",
      " 2\n"
     ]
    },
    {
     "name": "stdout",
     "output_type": "stream",
     "text": [
      "Ответ: 1.5.\n"
     ]
    }
   ],
   "source": [
    "N = int(input())\n",
    "\n",
    "result = 0\n",
    "\n",
    "for _ in range(N):\n",
    "    n = int(input())\n",
    "    result += 1 / n\n",
    "\n",
    "print(f'Ответ: {result}.')"
   ]
  },
  {
   "cell_type": "markdown",
   "id": "d8041441-f463-4118-afd1-70cec824cbf4",
   "metadata": {},
   "source": [
    "## Read Numbers While Something\n",
    "\n",
    "Пусть теперь количество чисел $N$ не передаётся, сразу начинается ввод чисел, и происходит он просто до тех пор, пока не будет введено число $0$.\n",
    "\n",
    "В этом случае разумным кажется считывание чисел с помощью цикла `while`."
   ]
  },
  {
   "cell_type": "code",
   "execution_count": 3,
   "id": "69ff1b51-ff94-4257-b6ce-11685db19466",
   "metadata": {},
   "outputs": [
    {
     "name": "stdin",
     "output_type": "stream",
     "text": [
      " 1\n",
      " 2\n",
      " 0\n"
     ]
    },
    {
     "name": "stdout",
     "output_type": "stream",
     "text": [
      "Ответ: 1.5.\n"
     ]
    }
   ],
   "source": [
    "result = 0\n",
    "\n",
    "n = int(input())\n",
    "\n",
    "while n != 0:\n",
    "    result += 1 / n\n",
    "    n = int(input())\n",
    "\n",
    "print(f'Ответ: {result}.')"
   ]
  },
  {
   "cell_type": "code",
   "execution_count": 4,
   "id": "a5822912-b1ab-44f6-adda-c3aa419ae01d",
   "metadata": {},
   "outputs": [
    {
     "name": "stdin",
     "output_type": "stream",
     "text": [
      " 1\n",
      " 2\n",
      " 0\n"
     ]
    },
    {
     "name": "stdout",
     "output_type": "stream",
     "text": [
      "Ответ: 1.5.\n"
     ]
    }
   ],
   "source": [
    "# Или через \"моржовый оператор\" (доступен в \"новых\" Питонах (>= 3.8))\n",
    "# Подробнее про \"моржовый\" можно посм.: https://realpython.com/python-walrus-operator/.\n",
    "\n",
    "result = 0\n",
    "\n",
    "while (n := int(input())) != 0:\n",
    "    result += 1 / n\n",
    "\n",
    "print(f'Ответ: {result}.')"
   ]
  },
  {
   "cell_type": "code",
   "execution_count": 5,
   "id": "b3ee4d24-82fc-4bcf-b03b-3bd13d17f827",
   "metadata": {},
   "outputs": [
    {
     "name": "stdout",
     "output_type": "stream",
     "text": [
      "Python 3.8.18\n"
     ]
    }
   ],
   "source": [
    "! python --version"
   ]
  },
  {
   "cell_type": "markdown",
   "id": "bfeb1d8c-156c-45d4-b201-16f00b4113fe",
   "metadata": {},
   "source": [
    "## Appendix: Read Numbers from File\n",
    "\n",
    "Пусть теперь всё как в прошлом сюжете (числа надо считывать до нуля).\n",
    "Только теперь — считывать надо не со стандартного входа, а из файла."
   ]
  },
  {
   "cell_type": "markdown",
   "id": "cded964f-7e01-4638-9b1a-5bc7d0232610",
   "metadata": {},
   "source": [
    "Поэтому сначала создадим файл \"вне Питона\":"
   ]
  },
  {
   "cell_type": "code",
   "execution_count": 6,
   "id": "a29e29fa-6cfd-4393-84eb-25cf1bdcd6b7",
   "metadata": {},
   "outputs": [
    {
     "name": "stdout",
     "output_type": "stream",
     "text": [
      "1\n",
      "2\n",
      "0\n"
     ]
    }
   ],
   "source": [
    "! echo 1 > input.txt\n",
    "! echo 2 >> input.txt\n",
    "! echo 0 >> input.txt\n",
    "\n",
    "! cat input.txt"
   ]
  },
  {
   "cell_type": "code",
   "execution_count": 7,
   "id": "5e94ccc7-5633-402a-aa1c-e2eadf40c430",
   "metadata": {},
   "outputs": [
    {
     "name": "stdout",
     "output_type": "stream",
     "text": [
      "Ответ: 1.5.\n"
     ]
    }
   ],
   "source": [
    "file = open('input.txt')\n",
    "\n",
    "result = 0\n",
    "\n",
    "while (n := int(file.readline())) != 0:\n",
    "    result += 1 / n\n",
    "\n",
    "file.close()\n",
    "\n",
    "print(f'Ответ: {result}.')"
   ]
  },
  {
   "cell_type": "code",
   "execution_count": 8,
   "id": "31a185ce-3311-4d31-8803-2a43517305e7",
   "metadata": {},
   "outputs": [
    {
     "name": "stdout",
     "output_type": "stream",
     "text": [
      "Ответ: 1.5.\n"
     ]
    }
   ],
   "source": [
    "# Или через контекстный менеджер (открытие и закрытие файла \"где-то там\")\n",
    "\n",
    "result = 0\n",
    "\n",
    "with open('input.txt') as file:\n",
    "    while (n := int(file.readline())) != 0:\n",
    "        result += 1 / n\n",
    "\n",
    "print(f'Ответ: {result}.')"
   ]
  },
  {
   "cell_type": "markdown",
   "id": "d8468c01-1fc6-4ed7-accb-6527ded3fbc1",
   "metadata": {},
   "source": [
    "## Appendix: Read Numbers from Stdin (File)\n",
    "\n",
    "Пусть теперь всё так же (числа записаны в файле).\n",
    "Только теперь надо (зачем-то) считать их как будто со стандартного входа.\n",
    "Ответ тоже отправим как будто на стандартных выход, но на самом деле в другой файл.\n",
    "\n",
    "...Оказалось, что в Юпитер-ноутбуке не так просто выполнить описанное 😐\n",
    "Поэтому решим в ноутбуке только пол-задачи (сделаем вывод в файл типа как в стандартный выход).\n",
    "А полное решение (с перелопеченным и входом, и выходом) — приведём в конце в виде отдельной программки-скрипта."
   ]
  },
  {
   "cell_type": "code",
   "execution_count": 9,
   "id": "2dadb406-c730-4700-879b-143a04e277b9",
   "metadata": {},
   "outputs": [],
   "source": [
    "from contextlib import redirect_stdout"
   ]
  },
  {
   "cell_type": "code",
   "execution_count": 10,
   "id": "3e525e50-5ec8-45ec-b8b2-fd3e50dab1c6",
   "metadata": {},
   "outputs": [
    {
     "name": "stdin",
     "output_type": "stream",
     "text": [
      " 1\n",
      " 2\n",
      " 0\n"
     ]
    }
   ],
   "source": [
    "result = 0\n",
    "\n",
    "while (n := int(input())) != 0:\n",
    "    result += 1 / n\n",
    "\n",
    "with open('output1.txt', 'w') as f:\n",
    "    with redirect_stdout(f):\n",
    "        print(f'Ответ: {result}.',)\n",
    "\n",
    "    # Или просто:\n",
    "    # print(f'Ответ: {result}.', file=f)"
   ]
  },
  {
   "cell_type": "code",
   "execution_count": 11,
   "id": "a02f3f8c-4181-428e-8303-8f6b56b51b6a",
   "metadata": {},
   "outputs": [
    {
     "name": "stdout",
     "output_type": "stream",
     "text": [
      "Ответ: 1.5.\n"
     ]
    }
   ],
   "source": [
    "! cat output1.txt"
   ]
  },
  {
   "cell_type": "markdown",
   "id": "01a6e635-7f01-43f4-98e3-519cf4f98aa9",
   "metadata": {},
   "source": [
    "И полноценная мини-программка на Питоне... (в ноутбуке код не сработает)"
   ]
  },
  {
   "cell_type": "code",
   "execution_count": 12,
   "id": "00312b27-2fc4-4c4e-b600-2d10d648c074",
   "metadata": {},
   "outputs": [],
   "source": [
    "prog = \"\"\"import sys\n",
    "\n",
    "sys.stdin = open('input.txt', 'r')\n",
    "sys.stdout = open('output2.txt', 'w')\n",
    "\n",
    "result = 0\n",
    "\n",
    "while (n := int(input())) != 0:\n",
    "    result += 1 / n\n",
    "\n",
    "print(f'Ответ: {result}.')\n",
    "\n",
    "sys.stdin.close()\n",
    "sys.stdout.close()\n",
    "\"\"\"\n",
    "\n",
    "! echo \"$prog\" > prog.py"
   ]
  },
  {
   "cell_type": "code",
   "execution_count": 13,
   "id": "82405f86-5dd7-461a-bc08-f4d4e4e7a4ad",
   "metadata": {},
   "outputs": [],
   "source": [
    "! python prog.py"
   ]
  },
  {
   "cell_type": "code",
   "execution_count": 15,
   "id": "34a0d73d-2486-4dfc-acbb-445c26246caf",
   "metadata": {},
   "outputs": [
    {
     "name": "stdout",
     "output_type": "stream",
     "text": [
      "Ответ: 1.5.\n"
     ]
    }
   ],
   "source": [
    "! cat output2.txt"
   ]
  }
 ],
 "metadata": {
  "kernelspec": {
   "display_name": "topicnet",
   "language": "python",
   "name": "topicnet"
  },
  "language_info": {
   "codemirror_mode": {
    "name": "ipython",
    "version": 3
   },
   "file_extension": ".py",
   "mimetype": "text/x-python",
   "name": "python",
   "nbconvert_exporter": "python",
   "pygments_lexer": "ipython3",
   "version": "3.8.18"
  }
 },
 "nbformat": 4,
 "nbformat_minor": 5
}
