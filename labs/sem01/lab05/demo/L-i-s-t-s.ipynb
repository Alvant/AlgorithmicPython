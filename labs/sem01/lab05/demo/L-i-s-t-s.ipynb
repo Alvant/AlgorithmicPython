{
 "cells": [
  {
   "cell_type": "markdown",
   "id": "5a55da86-858f-4978-b8ba-21db655b9635",
   "metadata": {},
   "source": [
    "# [L, i, s, t, s]"
   ]
  },
  {
   "cell_type": "markdown",
   "id": "0e9a1b1c-383e-4ea6-9b54-3a9507f74749",
   "metadata": {},
   "source": [
    "## List Basics"
   ]
  },
  {
   "cell_type": "markdown",
   "id": "dd3b29e7-8114-4c29-8802-14b1d8106e46",
   "metadata": {},
   "source": [
    "### Creation"
   ]
  },
  {
   "cell_type": "code",
   "execution_count": 1,
   "id": "280ab5fc-631a-441a-ab4d-51d0d25c93c1",
   "metadata": {},
   "outputs": [],
   "source": [
    "# Empty list:\n",
    "\n",
    "l = []\n",
    "l = list()\n",
    "\n",
    "# Non-empty:\n",
    "\n",
    "l1 = [1, 2, 3]\n",
    "l2 = [-1.0, 2.7, 3.1]\n",
    "l  = ['Hello', 'world', '!']"
   ]
  },
  {
   "cell_type": "markdown",
   "id": "93df65e0-518e-4e06-9741-7500f96500be",
   "metadata": {},
   "source": [
    "Number of elements:"
   ]
  },
  {
   "cell_type": "code",
   "execution_count": 2,
   "id": "793fe019-f9da-4629-81fa-25a1796ca689",
   "metadata": {},
   "outputs": [
    {
     "data": {
      "text/plain": [
       "3"
      ]
     },
     "execution_count": 2,
     "metadata": {},
     "output_type": "execute_result"
    }
   ],
   "source": [
    "len(l)"
   ]
  },
  {
   "cell_type": "markdown",
   "id": "bfe5bc9a-cd66-4ebc-9b0a-ba6257c66376",
   "metadata": {},
   "source": [
    "### Indexation"
   ]
  },
  {
   "cell_type": "code",
   "execution_count": 3,
   "id": "760a233e-74af-41e0-b953-31ba3fd6a212",
   "metadata": {},
   "outputs": [
    {
     "data": {
      "text/plain": [
       "('Hello', 'world', '!')"
      ]
     },
     "execution_count": 3,
     "metadata": {},
     "output_type": "execute_result"
    }
   ],
   "source": [
    "l[0], l[1], l[2]"
   ]
  },
  {
   "cell_type": "code",
   "execution_count": 4,
   "id": "210fda49-b5fb-4370-8090-0157358dc5cc",
   "metadata": {},
   "outputs": [
    {
     "name": "stdout",
     "output_type": "stream",
     "text": [
      "Too big (or small) index!\n"
     ]
    }
   ],
   "source": [
    "try:\n",
    "    l[3]\n",
    "except IndexError:\n",
    "    print('Too big (or small) index!')"
   ]
  },
  {
   "cell_type": "markdown",
   "id": "fd857ed6-20d7-4504-93e3-36858d0ee7cb",
   "metadata": {},
   "source": [
    "### \"Advanced\" Indexation"
   ]
  },
  {
   "cell_type": "markdown",
   "id": "80cf5a06-1202-469c-8261-ddb9105ff190",
   "metadata": {},
   "source": [
    "Negative:"
   ]
  },
  {
   "cell_type": "code",
   "execution_count": 5,
   "id": "f4b17b35-e132-48c6-8387-20a4924ca7e6",
   "metadata": {},
   "outputs": [
    {
     "data": {
      "text/plain": [
       "('!', 'world')"
      ]
     },
     "execution_count": 5,
     "metadata": {},
     "output_type": "execute_result"
    }
   ],
   "source": [
    "l[-1], l[-2]"
   ]
  },
  {
   "cell_type": "markdown",
   "id": "52ab6595-cefc-405d-8a40-cbb712e75f39",
   "metadata": {},
   "source": [
    "Slice from ... to ..."
   ]
  },
  {
   "cell_type": "code",
   "execution_count": 6,
   "id": "3d590c40-2b35-499e-a4fd-a9ac86e6d2a6",
   "metadata": {},
   "outputs": [
    {
     "data": {
      "text/plain": [
       "['world', '!']"
      ]
     },
     "execution_count": 6,
     "metadata": {},
     "output_type": "execute_result"
    }
   ],
   "source": [
    "l[1:]"
   ]
  },
  {
   "cell_type": "markdown",
   "id": "9265b458-ee0b-4e13-9ebd-95dd93fbd9d6",
   "metadata": {},
   "source": [
    "Slice from ... to ... at a step ..."
   ]
  },
  {
   "cell_type": "code",
   "execution_count": 7,
   "id": "80239c93-8fc4-4baf-b68c-d1b05e9ed5b8",
   "metadata": {},
   "outputs": [
    {
     "data": {
      "text/plain": [
       "[0, 2, 4, 6, 8]"
      ]
     },
     "execution_count": 7,
     "metadata": {},
     "output_type": "execute_result"
    }
   ],
   "source": [
    "l = [0, 1, 2, 3, 4, 5, 6, 7, 8, 9]\n",
    "\n",
    "l[::2]"
   ]
  },
  {
   "cell_type": "code",
   "execution_count": 8,
   "id": "f9778f0e-359f-4b79-b4e5-bc9029c00f25",
   "metadata": {},
   "outputs": [
    {
     "data": {
      "text/plain": [
       "[1, 3, 5, 7, 9]"
      ]
     },
     "execution_count": 8,
     "metadata": {},
     "output_type": "execute_result"
    }
   ],
   "source": [
    "l[1::2]"
   ]
  },
  {
   "cell_type": "code",
   "execution_count": 9,
   "id": "5ca6bea8-99af-492e-8a81-5a65622f5afc",
   "metadata": {},
   "outputs": [
    {
     "data": {
      "text/plain": [
       "[9, 8, 7, 6, 5, 4, 3, 2, 1, 0]"
      ]
     },
     "execution_count": 9,
     "metadata": {},
     "output_type": "execute_result"
    }
   ],
   "source": [
    "l[::-1]"
   ]
  },
  {
   "cell_type": "markdown",
   "id": "1a26c0be-dcc1-47e7-927a-47b820ec04d9",
   "metadata": {},
   "source": [
    "### Modification"
   ]
  },
  {
   "cell_type": "code",
   "execution_count": 10,
   "id": "1b2cb581-6153-4813-9588-c633a7e1bf0d",
   "metadata": {},
   "outputs": [
    {
     "data": {
      "text/plain": [
       "0"
      ]
     },
     "execution_count": 10,
     "metadata": {},
     "output_type": "execute_result"
    }
   ],
   "source": [
    "l[0]"
   ]
  },
  {
   "cell_type": "markdown",
   "id": "02ad6ce1-e23a-4c5a-911e-05a7a8bfa749",
   "metadata": {},
   "source": [
    "Setting element by index:"
   ]
  },
  {
   "cell_type": "code",
   "execution_count": 11,
   "id": "ad2ec026-3e0c-4458-b311-814cc11de064",
   "metadata": {},
   "outputs": [],
   "source": [
    "l[0] = 100"
   ]
  },
  {
   "cell_type": "code",
   "execution_count": 12,
   "id": "ca2d565e-56fe-4f77-841b-d8cc5e346416",
   "metadata": {},
   "outputs": [
    {
     "data": {
      "text/plain": [
       "[100, 1, 2, 3, 4, 5, 6, 7, 8, 9]"
      ]
     },
     "execution_count": 12,
     "metadata": {},
     "output_type": "execute_result"
    }
   ],
   "source": [
    "l"
   ]
  },
  {
   "cell_type": "markdown",
   "id": "b073eb4b-4997-404c-9771-e1c53b42b1c8",
   "metadata": {},
   "source": [
    "Adding a new element at the end:"
   ]
  },
  {
   "cell_type": "code",
   "execution_count": 13,
   "id": "9d69778d-c41c-47f9-9e1b-f6649dd13a6a",
   "metadata": {},
   "outputs": [],
   "source": [
    "l.append(-1)"
   ]
  },
  {
   "cell_type": "code",
   "execution_count": 14,
   "id": "172cbe4e-6313-453c-818a-72935f39f5ba",
   "metadata": {},
   "outputs": [
    {
     "data": {
      "text/plain": [
       "[100, 1, 2, 3, 4, 5, 6, 7, 8, 9, -1]"
      ]
     },
     "execution_count": 14,
     "metadata": {},
     "output_type": "execute_result"
    }
   ],
   "source": [
    "l"
   ]
  },
  {
   "cell_type": "markdown",
   "id": "65a670b1-3076-460a-b0c2-c9cd054c046f",
   "metadata": {},
   "source": [
    "Removing (and getting) elements from the end:"
   ]
  },
  {
   "cell_type": "code",
   "execution_count": 15,
   "id": "af81bbc1-9344-4222-bd01-0126f3f263db",
   "metadata": {},
   "outputs": [
    {
     "data": {
      "text/plain": [
       "-1"
      ]
     },
     "execution_count": 15,
     "metadata": {},
     "output_type": "execute_result"
    }
   ],
   "source": [
    "l.pop()"
   ]
  },
  {
   "cell_type": "code",
   "execution_count": 16,
   "id": "cdc679e4-4d79-4feb-8661-35d8a16cd6f1",
   "metadata": {},
   "outputs": [
    {
     "data": {
      "text/plain": [
       "[100, 1, 2, 3, 4, 5, 6, 7, 8, 9]"
      ]
     },
     "execution_count": 16,
     "metadata": {},
     "output_type": "execute_result"
    }
   ],
   "source": [
    "l"
   ]
  },
  {
   "cell_type": "markdown",
   "id": "0cae940a-ef1c-44c9-9301-f53d1b8bd17a",
   "metadata": {},
   "source": [
    "### List Operations"
   ]
  },
  {
   "cell_type": "markdown",
   "id": "5ad4b1e8-1fe0-44af-91b1-38a57342eb9b",
   "metadata": {},
   "source": [
    "Sum (concatenation):"
   ]
  },
  {
   "cell_type": "code",
   "execution_count": 17,
   "id": "c4842b33-af24-4753-b4df-673598d8323c",
   "metadata": {},
   "outputs": [
    {
     "data": {
      "text/plain": [
       "[1, 2, 3, 4, 5, 6]"
      ]
     },
     "execution_count": 17,
     "metadata": {},
     "output_type": "execute_result"
    }
   ],
   "source": [
    "[1, 2, 3] + [4, 5, 6]"
   ]
  },
  {
   "cell_type": "markdown",
   "id": "8def32c8-543f-4dba-a522-744499514f65",
   "metadata": {},
   "source": [
    "Multiplication by a number (duplication):"
   ]
  },
  {
   "cell_type": "code",
   "execution_count": 18,
   "id": "dc4a196e-6892-4b55-bbfe-4c26cff6d6fc",
   "metadata": {},
   "outputs": [
    {
     "data": {
      "text/plain": [
       "[1, 2, 3, 1, 2, 3]"
      ]
     },
     "execution_count": 18,
     "metadata": {},
     "output_type": "execute_result"
    }
   ],
   "source": [
    "[1, 2, 3] * 2"
   ]
  },
  {
   "cell_type": "markdown",
   "id": "85a2c530-a2c5-4fed-9a6f-c2623b6086f1",
   "metadata": {},
   "source": [
    "Multiplication by negative also works..."
   ]
  },
  {
   "cell_type": "code",
   "execution_count": 19,
   "id": "10753b25-0b77-4fd9-9af8-6f3486c6c370",
   "metadata": {},
   "outputs": [
    {
     "data": {
      "text/plain": [
       "[]"
      ]
     },
     "execution_count": 19,
     "metadata": {},
     "output_type": "execute_result"
    }
   ],
   "source": [
    "[1, 2, 3] * (-1)"
   ]
  },
  {
   "cell_type": "code",
   "execution_count": 20,
   "id": "75939dd2-63ee-41bb-8337-b2b923fb5571",
   "metadata": {},
   "outputs": [
    {
     "data": {
      "text/plain": [
       "[]"
      ]
     },
     "execution_count": 20,
     "metadata": {},
     "output_type": "execute_result"
    }
   ],
   "source": [
    "[1, 2, 3] * 0"
   ]
  },
  {
   "cell_type": "markdown",
   "id": "bc020d6d-ce0a-4af1-af63-b5f5b72dc903",
   "metadata": {},
   "source": [
    "But not by float:"
   ]
  },
  {
   "cell_type": "code",
   "execution_count": 21,
   "id": "fa861d6e-45ca-4f8d-8293-0362645dcf93",
   "metadata": {},
   "outputs": [
    {
     "name": "stdout",
     "output_type": "stream",
     "text": [
      "Can't multiply list by float :(\n"
     ]
    }
   ],
   "source": [
    "try:\n",
    "    [1, 2, 3] * (-17.5)\n",
    "except TypeError:\n",
    "    print(\"Can't multiply list by float :(\")"
   ]
  },
  {
   "cell_type": "markdown",
   "id": "ed67cc23-291b-4753-bfba-eaaf26391b31",
   "metadata": {},
   "source": [
    "Comparison (lexicographical):"
   ]
  },
  {
   "cell_type": "code",
   "execution_count": 22,
   "id": "1d7142f7-a02c-4073-b7e0-69565ee0f721",
   "metadata": {},
   "outputs": [
    {
     "data": {
      "text/plain": [
       "False"
      ]
     },
     "execution_count": 22,
     "metadata": {},
     "output_type": "execute_result"
    }
   ],
   "source": [
    "[1, 2, 3] > [2, 200, 3]  # 1 > 2"
   ]
  },
  {
   "cell_type": "code",
   "execution_count": 23,
   "id": "7babf9bb-b873-410a-bc57-7773be11d2d3",
   "metadata": {},
   "outputs": [
    {
     "data": {
      "text/plain": [
       "True"
      ]
     },
     "execution_count": 23,
     "metadata": {},
     "output_type": "execute_result"
    }
   ],
   "source": [
    "[1, 2, 3] > [0, 200, 3]  # 1 > 0"
   ]
  },
  {
   "cell_type": "code",
   "execution_count": 24,
   "id": "52c5c4f6-3b12-4523-9eff-a1ff0ac5424a",
   "metadata": {},
   "outputs": [
    {
     "data": {
      "text/plain": [
       "False"
      ]
     },
     "execution_count": 24,
     "metadata": {},
     "output_type": "execute_result"
    }
   ],
   "source": [
    "[1, 2, 3] > [1, 200, 3]  # 2 > 200"
   ]
  },
  {
   "cell_type": "code",
   "execution_count": 25,
   "id": "44a26310-474e-47fb-b8c9-e919633ccf5e",
   "metadata": {},
   "outputs": [
    {
     "data": {
      "text/plain": [
       "True"
      ]
     },
     "execution_count": 25,
     "metadata": {},
     "output_type": "execute_result"
    }
   ],
   "source": [
    "[1, 2, 3] > [1, -200, 3]  # 2 > -200"
   ]
  },
  {
   "cell_type": "markdown",
   "id": "90913a4b-a927-43dc-bb19-e293c3974378",
   "metadata": {},
   "source": [
    "Equality:"
   ]
  },
  {
   "cell_type": "code",
   "execution_count": 26,
   "id": "b0490222-4540-48b7-a3dd-8076bbf3f3f8",
   "metadata": {},
   "outputs": [
    {
     "data": {
      "text/plain": [
       "True"
      ]
     },
     "execution_count": 26,
     "metadata": {},
     "output_type": "execute_result"
    }
   ],
   "source": [
    "[1, 2, 3] == [1, 2, 3]"
   ]
  },
  {
   "cell_type": "code",
   "execution_count": 27,
   "id": "43167c17-d65e-41a0-945a-5169264bc908",
   "metadata": {},
   "outputs": [
    {
     "data": {
      "text/plain": [
       "False"
      ]
     },
     "execution_count": 27,
     "metadata": {},
     "output_type": "execute_result"
    }
   ],
   "source": [
    "[1, 2, 3] == [0, 2, 3]"
   ]
  },
  {
   "cell_type": "code",
   "execution_count": 28,
   "id": "11935f94-f3e7-4ea8-9ef2-f27a3773691b",
   "metadata": {},
   "outputs": [
    {
     "data": {
      "text/plain": [
       "True"
      ]
     },
     "execution_count": 28,
     "metadata": {},
     "output_type": "execute_result"
    }
   ],
   "source": [
    "[1, 2, 3, [-1, -2]] == [1, 2, 3, [-1, -2]]"
   ]
  },
  {
   "cell_type": "code",
   "execution_count": 29,
   "id": "b85bf2c1-c543-4853-8731-74a8efcfd974",
   "metadata": {},
   "outputs": [
    {
     "data": {
      "text/plain": [
       "False"
      ]
     },
     "execution_count": 29,
     "metadata": {},
     "output_type": "execute_result"
    }
   ],
   "source": [
    "[1, 2, 3, [-1, -20]] == [1, 2, 3, [-1, -2]]"
   ]
  },
  {
   "cell_type": "markdown",
   "id": "818bc963-3fd9-4ce3-817e-aebaaffba42d",
   "metadata": {},
   "source": [
    "### Searching"
   ]
  },
  {
   "cell_type": "code",
   "execution_count": 30,
   "id": "7a6b3674-0b1b-43c0-afa0-00fe811d8b35",
   "metadata": {},
   "outputs": [
    {
     "data": {
      "text/plain": [
       "[100, 1, 2, 3, 4, 5, 6, 7, 8, 9]"
      ]
     },
     "execution_count": 30,
     "metadata": {},
     "output_type": "execute_result"
    }
   ],
   "source": [
    "l"
   ]
  },
  {
   "cell_type": "code",
   "execution_count": 31,
   "id": "50825242-2884-4eee-9443-1050e11dd1d8",
   "metadata": {},
   "outputs": [
    {
     "data": {
      "text/plain": [
       "True"
      ]
     },
     "execution_count": 31,
     "metadata": {},
     "output_type": "execute_result"
    }
   ],
   "source": [
    "100 in l"
   ]
  },
  {
   "cell_type": "code",
   "execution_count": 32,
   "id": "0c688d44-9c84-4c2c-8c42-5d25f258306e",
   "metadata": {},
   "outputs": [
    {
     "data": {
      "text/plain": [
       "False"
      ]
     },
     "execution_count": 32,
     "metadata": {},
     "output_type": "execute_result"
    }
   ],
   "source": [
    "-100 in l"
   ]
  },
  {
   "cell_type": "markdown",
   "id": "87046fa2-6128-4c33-90eb-5c0f56034f11",
   "metadata": {},
   "source": [
    "### Traversing"
   ]
  },
  {
   "cell_type": "code",
   "execution_count": 33,
   "id": "20c77553-fe26-402f-89a1-e559c4d575e0",
   "metadata": {},
   "outputs": [
    {
     "data": {
      "text/plain": [
       "[100, 1, 2, 3, 4, 5, 6, 7, 8, 9]"
      ]
     },
     "execution_count": 33,
     "metadata": {},
     "output_type": "execute_result"
    }
   ],
   "source": [
    "l"
   ]
  },
  {
   "cell_type": "markdown",
   "id": "6c07fabd-c977-46ed-90d1-024bb9a004e6",
   "metadata": {},
   "source": [
    "Known number of elements — \"for\" cycle to look through all of them:"
   ]
  },
  {
   "cell_type": "code",
   "execution_count": 34,
   "id": "bd222985-398e-4dff-8abb-c83e7e546516",
   "metadata": {},
   "outputs": [
    {
     "name": "stdout",
     "output_type": "stream",
     "text": [
      "100\n",
      "1\n",
      "2\n",
      "3\n",
      "4\n",
      "5\n",
      "6\n",
      "7\n",
      "8\n",
      "9\n"
     ]
    }
   ],
   "source": [
    "for i in range(len(l)):\n",
    "    print(l[i])"
   ]
  },
  {
   "cell_type": "markdown",
   "id": "457369cd-4ced-425f-9f7f-52b08b3b2ea4",
   "metadata": {},
   "source": [
    "Or a \"foreach\" kind of cycle:"
   ]
  },
  {
   "cell_type": "code",
   "execution_count": 35,
   "id": "04beb983-ce97-4f9c-8d11-c1a675fbca4e",
   "metadata": {},
   "outputs": [
    {
     "name": "stdout",
     "output_type": "stream",
     "text": [
      "100\n",
      "1\n",
      "2\n",
      "3\n",
      "4\n",
      "5\n",
      "6\n",
      "7\n",
      "8\n",
      "9\n"
     ]
    }
   ],
   "source": [
    "for e in l:\n",
    "    print(e)"
   ]
  },
  {
   "cell_type": "markdown",
   "id": "59b11c28-0069-46b2-9b2b-2875d522cc89",
   "metadata": {},
   "source": [
    "## *List Entrails, or Unravelling the Possibilities"
   ]
  },
  {
   "cell_type": "code",
   "execution_count": 36,
   "id": "44ce2f7f-bf0f-407e-b59a-fda64e0dd494",
   "metadata": {},
   "outputs": [
    {
     "data": {
      "text/plain": [
       "[100, 1, 2, 3, 4, 5, 6, 7, 8, 9]"
      ]
     },
     "execution_count": 36,
     "metadata": {},
     "output_type": "execute_result"
    }
   ],
   "source": [
    "l"
   ]
  },
  {
   "cell_type": "code",
   "execution_count": 37,
   "id": "b9c66525-5ea8-4de2-a623-b4044c13595f",
   "metadata": {},
   "outputs": [
    {
     "data": {
      "text/plain": [
       "['__add__',\n",
       " '__class__',\n",
       " '__contains__',\n",
       " '__delattr__',\n",
       " '__delitem__',\n",
       " '__dir__',\n",
       " '__doc__',\n",
       " '__eq__',\n",
       " '__format__',\n",
       " '__ge__',\n",
       " '__getattribute__',\n",
       " '__getitem__',\n",
       " '__gt__',\n",
       " '__hash__',\n",
       " '__iadd__',\n",
       " '__imul__',\n",
       " '__init__',\n",
       " '__init_subclass__',\n",
       " '__iter__',\n",
       " '__le__',\n",
       " '__len__',\n",
       " '__lt__',\n",
       " '__mul__',\n",
       " '__ne__',\n",
       " '__new__',\n",
       " '__reduce__',\n",
       " '__reduce_ex__',\n",
       " '__repr__',\n",
       " '__reversed__',\n",
       " '__rmul__',\n",
       " '__setattr__',\n",
       " '__setitem__',\n",
       " '__sizeof__',\n",
       " '__str__',\n",
       " '__subclasshook__',\n",
       " 'append',\n",
       " 'clear',\n",
       " 'copy',\n",
       " 'count',\n",
       " 'extend',\n",
       " 'index',\n",
       " 'insert',\n",
       " 'pop',\n",
       " 'remove',\n",
       " 'reverse',\n",
       " 'sort']"
      ]
     },
     "execution_count": 37,
     "metadata": {},
     "output_type": "execute_result"
    }
   ],
   "source": [
    "dir(l)"
   ]
  },
  {
   "cell_type": "markdown",
   "id": "c123f532-1fcd-4ab4-87fa-9bc717936e2a",
   "metadata": {},
   "source": [
    "### clear"
   ]
  },
  {
   "cell_type": "code",
   "execution_count": 38,
   "id": "2dcadfa4-3aed-4150-9ae7-e8e226403068",
   "metadata": {},
   "outputs": [],
   "source": [
    "l = [1, 2, 3]"
   ]
  },
  {
   "cell_type": "code",
   "execution_count": 39,
   "id": "d9cf1405-6274-4d1a-8e44-1e923b2c66ab",
   "metadata": {},
   "outputs": [],
   "source": [
    "l.clear()"
   ]
  },
  {
   "cell_type": "code",
   "execution_count": 40,
   "id": "85363b0c-438c-4f6b-b8b1-afb531df579e",
   "metadata": {},
   "outputs": [
    {
     "name": "stdout",
     "output_type": "stream",
     "text": [
      "[]\n"
     ]
    }
   ],
   "source": [
    "print(l)"
   ]
  },
  {
   "cell_type": "markdown",
   "id": "a7c3dea7-a323-4d6c-a51f-22f3de6c7155",
   "metadata": {},
   "source": [
    "### extend"
   ]
  },
  {
   "cell_type": "code",
   "execution_count": 41,
   "id": "6a24fd23-2c8e-44d9-84b2-e57ce2bd8eba",
   "metadata": {},
   "outputs": [],
   "source": [
    "l = [1, 2, 3]"
   ]
  },
  {
   "cell_type": "code",
   "execution_count": 42,
   "id": "bbc722a7-9079-4b91-94a9-13b873018aec",
   "metadata": {},
   "outputs": [],
   "source": [
    "l.extend([1, 1, 1])"
   ]
  },
  {
   "cell_type": "code",
   "execution_count": 43,
   "id": "3153e87a-a640-4130-9da5-74110609f9da",
   "metadata": {},
   "outputs": [
    {
     "data": {
      "text/plain": [
       "[1, 2, 3, 1, 1, 1]"
      ]
     },
     "execution_count": 43,
     "metadata": {},
     "output_type": "execute_result"
    }
   ],
   "source": [
    "l"
   ]
  },
  {
   "cell_type": "markdown",
   "id": "8d7a323d-0fb2-422a-b880-e899af9e4886",
   "metadata": {},
   "source": [
    "### count"
   ]
  },
  {
   "cell_type": "code",
   "execution_count": 44,
   "id": "9b52c5ce-c249-45a9-88be-6c163952ea63",
   "metadata": {},
   "outputs": [],
   "source": [
    "l = [1, 2, 3]"
   ]
  },
  {
   "cell_type": "code",
   "execution_count": 45,
   "id": "dd77c477-1563-4827-93d7-f87bcffe44c3",
   "metadata": {},
   "outputs": [],
   "source": [
    "l.append(100)"
   ]
  },
  {
   "cell_type": "code",
   "execution_count": 46,
   "id": "b985dd88-c025-43f1-9af8-2d6cc7bd175f",
   "metadata": {},
   "outputs": [
    {
     "data": {
      "text/plain": [
       "[1, 2, 3, 100]"
      ]
     },
     "execution_count": 46,
     "metadata": {},
     "output_type": "execute_result"
    }
   ],
   "source": [
    "l"
   ]
  },
  {
   "cell_type": "markdown",
   "id": "3d7c87f8-9b56-4349-8a1e-0be66dab1164",
   "metadata": {},
   "source": [
    "How many times:"
   ]
  },
  {
   "cell_type": "code",
   "execution_count": 47,
   "id": "0ee5d444-8612-4902-9b9f-4ae315cfb0ff",
   "metadata": {},
   "outputs": [
    {
     "data": {
      "text/plain": [
       "1"
      ]
     },
     "execution_count": 47,
     "metadata": {},
     "output_type": "execute_result"
    }
   ],
   "source": [
    "l.count(100)"
   ]
  },
  {
   "cell_type": "code",
   "execution_count": 48,
   "id": "f97f63f6-cb76-4737-90ff-b83fc3882974",
   "metadata": {},
   "outputs": [],
   "source": [
    "l.append(100)"
   ]
  },
  {
   "cell_type": "code",
   "execution_count": 49,
   "id": "eb930130-c298-4638-9ba8-79828050bf72",
   "metadata": {},
   "outputs": [
    {
     "data": {
      "text/plain": [
       "[1, 2, 3, 100, 100]"
      ]
     },
     "execution_count": 49,
     "metadata": {},
     "output_type": "execute_result"
    }
   ],
   "source": [
    "l"
   ]
  },
  {
   "cell_type": "code",
   "execution_count": 50,
   "id": "82e71e53-94ed-4007-841e-7b49286635da",
   "metadata": {},
   "outputs": [
    {
     "data": {
      "text/plain": [
       "2"
      ]
     },
     "execution_count": 50,
     "metadata": {},
     "output_type": "execute_result"
    }
   ],
   "source": [
    "l.count(100)"
   ]
  },
  {
   "cell_type": "markdown",
   "id": "ac94e6e4-ed54-46e4-ba81-6c6481e366d5",
   "metadata": {},
   "source": [
    "### index"
   ]
  },
  {
   "cell_type": "code",
   "execution_count": 51,
   "id": "07259093-71d8-4acd-b0f9-8f0d9f04e9c8",
   "metadata": {},
   "outputs": [],
   "source": [
    "l = [100, 1, 2, 3, 100]"
   ]
  },
  {
   "cell_type": "markdown",
   "id": "ed17bad5-6573-40a2-867d-32ff719b32c3",
   "metadata": {},
   "source": [
    "Index of the first:"
   ]
  },
  {
   "cell_type": "code",
   "execution_count": 52,
   "id": "a091836e-8593-4ee7-a126-8e3fa6fc12a5",
   "metadata": {},
   "outputs": [
    {
     "data": {
      "text/plain": [
       "0"
      ]
     },
     "execution_count": 52,
     "metadata": {},
     "output_type": "execute_result"
    }
   ],
   "source": [
    "l.index(100)"
   ]
  },
  {
   "cell_type": "code",
   "execution_count": 53,
   "id": "c50d5a4d-c481-4a04-802d-f135192fbb60",
   "metadata": {},
   "outputs": [],
   "source": [
    "l[0] = -100"
   ]
  },
  {
   "cell_type": "code",
   "execution_count": 54,
   "id": "085fe1e5-8a53-4afd-9b15-73a6fdf65042",
   "metadata": {},
   "outputs": [
    {
     "data": {
      "text/plain": [
       "4"
      ]
     },
     "execution_count": 54,
     "metadata": {},
     "output_type": "execute_result"
    }
   ],
   "source": [
    "l.index(100)"
   ]
  },
  {
   "cell_type": "markdown",
   "id": "73992c86-3839-4c1b-b36f-c86cab94ec40",
   "metadata": {},
   "source": [
    "### insert"
   ]
  },
  {
   "cell_type": "code",
   "execution_count": 55,
   "id": "c7550129-e866-489c-94b1-c0b4be58c7ec",
   "metadata": {},
   "outputs": [],
   "source": [
    "l = [1, 2, 3]"
   ]
  },
  {
   "cell_type": "code",
   "execution_count": 56,
   "id": "832ce30a-fa05-4522-8258-0e1c3df5b033",
   "metadata": {},
   "outputs": [
    {
     "data": {
      "text/plain": [
       "[1, 2, 3]"
      ]
     },
     "execution_count": 56,
     "metadata": {},
     "output_type": "execute_result"
    }
   ],
   "source": [
    "l"
   ]
  },
  {
   "cell_type": "code",
   "execution_count": 57,
   "id": "75029a23-97ba-41b1-8e70-7c709f9b5475",
   "metadata": {},
   "outputs": [],
   "source": [
    "l.insert(1, 99)"
   ]
  },
  {
   "cell_type": "code",
   "execution_count": 58,
   "id": "841e12de-7a43-477a-bce8-c1fd92053e44",
   "metadata": {},
   "outputs": [
    {
     "data": {
      "text/plain": [
       "[1, 99, 2, 3]"
      ]
     },
     "execution_count": 58,
     "metadata": {},
     "output_type": "execute_result"
    }
   ],
   "source": [
    "l"
   ]
  },
  {
   "cell_type": "markdown",
   "id": "277d8997-30aa-4337-bb38-72818a594cf6",
   "metadata": {},
   "source": [
    "### remove"
   ]
  },
  {
   "cell_type": "code",
   "execution_count": 59,
   "id": "ed83a328-b840-485e-b9fc-6c3e45f1e97b",
   "metadata": {},
   "outputs": [],
   "source": [
    "l = [1, 2, 3, 2]"
   ]
  },
  {
   "cell_type": "markdown",
   "id": "774dd595-191e-4cf7-9c52-32f49024d939",
   "metadata": {},
   "source": [
    "Remove the first:"
   ]
  },
  {
   "cell_type": "code",
   "execution_count": 60,
   "id": "7ad708fd-5056-4432-9ab1-2391b67d9994",
   "metadata": {},
   "outputs": [],
   "source": [
    "l.remove(2)"
   ]
  },
  {
   "cell_type": "code",
   "execution_count": 61,
   "id": "7789edc7-6356-4e37-a12a-a4cb13dd30bc",
   "metadata": {},
   "outputs": [
    {
     "data": {
      "text/plain": [
       "[1, 3, 2]"
      ]
     },
     "execution_count": 61,
     "metadata": {},
     "output_type": "execute_result"
    }
   ],
   "source": [
    "l"
   ]
  },
  {
   "cell_type": "markdown",
   "id": "58c72eef-5a5e-4107-a447-4b846e79cf61",
   "metadata": {},
   "source": [
    "### reverse"
   ]
  },
  {
   "cell_type": "code",
   "execution_count": 62,
   "id": "8339512d-f028-4a4e-898d-d71c38c20664",
   "metadata": {},
   "outputs": [],
   "source": [
    "l = [1, 2, 3]"
   ]
  },
  {
   "cell_type": "code",
   "execution_count": 63,
   "id": "75d4c366-1d35-435b-abdf-62fa03d9c3e3",
   "metadata": {},
   "outputs": [],
   "source": [
    "l.reverse()"
   ]
  },
  {
   "cell_type": "code",
   "execution_count": 64,
   "id": "a49c45ca-25e5-47cd-bcf6-c3ed2742629e",
   "metadata": {},
   "outputs": [
    {
     "data": {
      "text/plain": [
       "[3, 2, 1]"
      ]
     },
     "execution_count": 64,
     "metadata": {},
     "output_type": "execute_result"
    }
   ],
   "source": [
    "l"
   ]
  },
  {
   "cell_type": "markdown",
   "id": "7288886b-3811-4535-9044-63e1f160caf5",
   "metadata": {},
   "source": [
    "Like `l[::-1]`"
   ]
  },
  {
   "cell_type": "markdown",
   "id": "25309a7d-e99c-48c7-93fe-ba9a45ce1488",
   "metadata": {},
   "source": [
    "### \\_\\_add\\_\\_"
   ]
  },
  {
   "cell_type": "code",
   "execution_count": 65,
   "id": "87e7793a-93a3-4db4-a373-4a39b1dc2af1",
   "metadata": {},
   "outputs": [
    {
     "data": {
      "text/plain": [
       "[1, 2]"
      ]
     },
     "execution_count": 65,
     "metadata": {},
     "output_type": "execute_result"
    }
   ],
   "source": [
    "[1] + [2]"
   ]
  },
  {
   "cell_type": "markdown",
   "id": "1921fe1e-582a-47bc-bc7c-fb269501590b",
   "metadata": {},
   "source": [
    "### \\_\\_contains\\_\\_"
   ]
  },
  {
   "cell_type": "code",
   "execution_count": 66,
   "id": "117975ee-7573-4e33-ac8d-54b889a302fb",
   "metadata": {},
   "outputs": [
    {
     "data": {
      "text/plain": [
       "True"
      ]
     },
     "execution_count": 66,
     "metadata": {},
     "output_type": "execute_result"
    }
   ],
   "source": [
    "1 in [1, 2, 3]"
   ]
  },
  {
   "cell_type": "markdown",
   "id": "4d673fe9-fbab-4f8e-947a-a47bf601f234",
   "metadata": {},
   "source": [
    "### \\_\\_delitem\\_\\_"
   ]
  },
  {
   "cell_type": "code",
   "execution_count": 67,
   "id": "37c3dc85-f210-46d3-ac8d-009c13e093fe",
   "metadata": {},
   "outputs": [],
   "source": [
    "l = [1, 2, 3]"
   ]
  },
  {
   "cell_type": "markdown",
   "id": "6ce60270-49ba-4d0a-a188-418c07c61511",
   "metadata": {},
   "source": [
    "Like `remove`:"
   ]
  },
  {
   "cell_type": "code",
   "execution_count": 68,
   "id": "35518b50-52d7-47e9-b43a-fd24e908cd91",
   "metadata": {},
   "outputs": [],
   "source": [
    "del l[1]"
   ]
  },
  {
   "cell_type": "code",
   "execution_count": 69,
   "id": "c4796c12-3bc2-4442-80d3-ff580cd7ae79",
   "metadata": {},
   "outputs": [
    {
     "data": {
      "text/plain": [
       "[1, 3]"
      ]
     },
     "execution_count": 69,
     "metadata": {},
     "output_type": "execute_result"
    }
   ],
   "source": [
    "l"
   ]
  },
  {
   "cell_type": "markdown",
   "id": "266c2acb-686d-4994-b3cb-31569739d6ec",
   "metadata": {},
   "source": [
    "### \\_\\_eq\\_\\_"
   ]
  },
  {
   "cell_type": "code",
   "execution_count": 70,
   "id": "4d493c60-af56-4611-a09d-2f349490a840",
   "metadata": {},
   "outputs": [
    {
     "data": {
      "text/plain": [
       "True"
      ]
     },
     "execution_count": 70,
     "metadata": {},
     "output_type": "execute_result"
    }
   ],
   "source": [
    "[1, 2, 3] == [1, 2, 3]"
   ]
  },
  {
   "cell_type": "markdown",
   "id": "1a605249-de69-48c1-8496-198d6a6a1fb6",
   "metadata": {},
   "source": [
    "### \\_\\_gt\\_\\_"
   ]
  },
  {
   "cell_type": "code",
   "execution_count": 71,
   "id": "9e5a9a14-5cf1-4d69-af0a-fb414d46b88d",
   "metadata": {},
   "outputs": [
    {
     "data": {
      "text/plain": [
       "True"
      ]
     },
     "execution_count": 71,
     "metadata": {},
     "output_type": "execute_result"
    }
   ],
   "source": [
    "[1, 2] > [0, 1, 2]"
   ]
  },
  {
   "cell_type": "markdown",
   "id": "d9c2784f-57cf-4749-a8d4-b3ba8ca09d5e",
   "metadata": {},
   "source": [
    "### \\_\\_ge\\_\\_"
   ]
  },
  {
   "cell_type": "code",
   "execution_count": 72,
   "id": "dbde1bc6-8c5d-479b-ba41-5cd8421c3dc6",
   "metadata": {},
   "outputs": [
    {
     "data": {
      "text/plain": [
       "False"
      ]
     },
     "execution_count": 72,
     "metadata": {},
     "output_type": "execute_result"
    }
   ],
   "source": [
    "[1, 2] >= [1, 2, 3]"
   ]
  },
  {
   "cell_type": "markdown",
   "id": "9c434fa7-c126-4684-ae56-f5c9fb58cf3a",
   "metadata": {},
   "source": [
    "### \\_\\_getitem\\_\\_"
   ]
  },
  {
   "cell_type": "code",
   "execution_count": 73,
   "id": "83c893c7-1690-47f3-b6f5-a89f966a1ff4",
   "metadata": {},
   "outputs": [],
   "source": [
    "l = [1, 2, 3]"
   ]
  },
  {
   "cell_type": "code",
   "execution_count": 74,
   "id": "d21b3113-cf00-45b9-ab96-2820a6d068d2",
   "metadata": {},
   "outputs": [
    {
     "data": {
      "text/plain": [
       "3"
      ]
     },
     "execution_count": 74,
     "metadata": {},
     "output_type": "execute_result"
    }
   ],
   "source": [
    "l[-1]"
   ]
  },
  {
   "cell_type": "markdown",
   "id": "6301ff05-e22b-4c57-a051-17affbb4f12d",
   "metadata": {},
   "source": [
    "### \\_\\_setitem\\_\\_"
   ]
  },
  {
   "cell_type": "code",
   "execution_count": 75,
   "id": "76dc2c1b-9e93-48a9-a6ab-a4c6ea18d71d",
   "metadata": {},
   "outputs": [],
   "source": [
    "l = [1, 2, 3]"
   ]
  },
  {
   "cell_type": "code",
   "execution_count": 76,
   "id": "bf75d00f-6ac6-467d-8497-28973bfbed72",
   "metadata": {},
   "outputs": [],
   "source": [
    "l[1] = l[1] ** 2"
   ]
  },
  {
   "cell_type": "code",
   "execution_count": 77,
   "id": "3c48b0e5-dffd-40a7-b941-628ba9c93e53",
   "metadata": {},
   "outputs": [
    {
     "data": {
      "text/plain": [
       "[1, 4, 3]"
      ]
     },
     "execution_count": 77,
     "metadata": {},
     "output_type": "execute_result"
    }
   ],
   "source": [
    "l"
   ]
  },
  {
   "cell_type": "markdown",
   "id": "bdaaebad-5118-421c-a6d5-045ed6418b21",
   "metadata": {},
   "source": [
    "### \\_\\_mul\\_\\_"
   ]
  },
  {
   "cell_type": "code",
   "execution_count": 78,
   "id": "441441cc-bebc-46b3-95f7-2d2380a7ffa1",
   "metadata": {},
   "outputs": [
    {
     "data": {
      "text/plain": [
       "[1, 2, 3, 1, 2, 3, 1, 2, 3]"
      ]
     },
     "execution_count": 78,
     "metadata": {},
     "output_type": "execute_result"
    }
   ],
   "source": [
    "[1, 2, 3] * 3"
   ]
  },
  {
   "cell_type": "markdown",
   "id": "cc8f5e83-c8a1-4ecb-927b-cef9410e5cd7",
   "metadata": {},
   "source": [
    "### \\_\\_ne\\_\\_"
   ]
  },
  {
   "cell_type": "code",
   "execution_count": 79,
   "id": "ae2bf551-812e-49ce-a58f-489fe0aa17c4",
   "metadata": {},
   "outputs": [
    {
     "data": {
      "text/plain": [
       "False"
      ]
     },
     "execution_count": 79,
     "metadata": {},
     "output_type": "execute_result"
    }
   ],
   "source": [
    "[1, 2, 3] != [1, 2, 3.0]"
   ]
  },
  {
   "cell_type": "markdown",
   "id": "a94e40e0-1d19-490c-a886-56764e37a8f4",
   "metadata": {},
   "source": [
    "### ~\\_\\_hash\\_\\_~"
   ]
  },
  {
   "cell_type": "code",
   "execution_count": 80,
   "id": "1c723629-b0ea-47f8-88cf-82e5e8d3af41",
   "metadata": {},
   "outputs": [
    {
     "name": "stdout",
     "output_type": "stream",
     "text": [
      "Changeables are unhashable in Python...\n"
     ]
    }
   ],
   "source": [
    "try:\n",
    "    hash(l)\n",
    "except TypeError:\n",
    "    print(\"Changeables are unhashable in Python...\")"
   ]
  },
  {
   "cell_type": "markdown",
   "id": "5e484c26-a40a-407d-ac4d-b323294e2f68",
   "metadata": {},
   "source": [
    "## *Copying"
   ]
  },
  {
   "cell_type": "code",
   "execution_count": 81,
   "id": "54f0392e-a0ed-44a9-8ab1-dc86891b6a27",
   "metadata": {},
   "outputs": [],
   "source": [
    "l = [1, 2, 3]"
   ]
  },
  {
   "cell_type": "code",
   "execution_count": 82,
   "id": "d5929641-2758-4255-ba59-a57513ae1cff",
   "metadata": {},
   "outputs": [],
   "source": [
    "h = l"
   ]
  },
  {
   "cell_type": "code",
   "execution_count": 83,
   "id": "3a2423af-3e0a-4427-b650-011195b853ef",
   "metadata": {},
   "outputs": [
    {
     "data": {
      "text/plain": [
       "[1, 2, 3]"
      ]
     },
     "execution_count": 83,
     "metadata": {},
     "output_type": "execute_result"
    }
   ],
   "source": [
    "h"
   ]
  },
  {
   "cell_type": "markdown",
   "id": "cafbdaf0-098f-4aaa-b7ea-a1b4e794dbf2",
   "metadata": {},
   "source": [
    "Copy?\n",
    "Seems like, but..."
   ]
  },
  {
   "cell_type": "code",
   "execution_count": 84,
   "id": "1a46223b-3376-4a72-865e-2ad8894a75f6",
   "metadata": {},
   "outputs": [],
   "source": [
    "l[0] = -1"
   ]
  },
  {
   "cell_type": "code",
   "execution_count": 85,
   "id": "e58fe07a-6b01-45e5-9c61-a0ad3a4185eb",
   "metadata": {},
   "outputs": [
    {
     "data": {
      "text/plain": [
       "[-1, 2, 3]"
      ]
     },
     "execution_count": 85,
     "metadata": {},
     "output_type": "execute_result"
    }
   ],
   "source": [
    "h"
   ]
  },
  {
   "cell_type": "markdown",
   "id": "7406099e-a1ea-4f14-ae72-62dacb7157de",
   "metadata": {},
   "source": [
    "Changing `l` resulted in changed `h`!\n",
    "Because `h` is a \"shallow\" copy..."
   ]
  },
  {
   "cell_type": "markdown",
   "id": "91c5f557-247e-4571-92e3-e7865d054383",
   "metadata": {},
   "source": [
    "Let's make a deeper one:"
   ]
  },
  {
   "cell_type": "code",
   "execution_count": 86,
   "id": "3bed6695-0009-4a8e-ba80-0fcbc9dc32a5",
   "metadata": {},
   "outputs": [],
   "source": [
    "h = l.copy()"
   ]
  },
  {
   "cell_type": "code",
   "execution_count": 87,
   "id": "17cef302-5eef-48e3-a39f-7757efa0ecf3",
   "metadata": {},
   "outputs": [
    {
     "data": {
      "text/plain": [
       "([-1, 2, 3], [-1, 2, 3])"
      ]
     },
     "execution_count": 87,
     "metadata": {},
     "output_type": "execute_result"
    }
   ],
   "source": [
    "l, h"
   ]
  },
  {
   "cell_type": "code",
   "execution_count": 88,
   "id": "a77a50ee-9965-4a71-99c9-337ea4ad04e9",
   "metadata": {},
   "outputs": [],
   "source": [
    "l[0] = 1000"
   ]
  },
  {
   "cell_type": "code",
   "execution_count": 89,
   "id": "d1c03e30-e87a-4975-b529-773c08d3d1ad",
   "metadata": {},
   "outputs": [
    {
     "data": {
      "text/plain": [
       "([1000, 2, 3], [-1, 2, 3])"
      ]
     },
     "execution_count": 89,
     "metadata": {},
     "output_type": "execute_result"
    }
   ],
   "source": [
    "l, h"
   ]
  },
  {
   "cell_type": "markdown",
   "id": "a10def2f-2207-46cc-8799-eb3abfdce1fc",
   "metadata": {},
   "source": [
    "\"Deep\" copy?\n",
    "Seems like, but..."
   ]
  },
  {
   "cell_type": "markdown",
   "id": "1b9bb338-ba4a-4cb6-bd36-b38def197111",
   "metadata": {},
   "source": [
    "Let's take another `l`:"
   ]
  },
  {
   "cell_type": "code",
   "execution_count": 90,
   "id": "ef7115cc-d97c-4507-8ed1-cf5469dd4bef",
   "metadata": {},
   "outputs": [],
   "source": [
    "l = [1, 2, 3, [-1, -2, 3]]"
   ]
  },
  {
   "cell_type": "markdown",
   "id": "c7c9b077-38c1-4aaa-b892-003a45667eb7",
   "metadata": {},
   "source": [
    "And make its \"seems-like-deep\" copy:"
   ]
  },
  {
   "cell_type": "code",
   "execution_count": 91,
   "id": "a0df9f4b-f97d-4de1-8652-69b3d4a7ef67",
   "metadata": {},
   "outputs": [],
   "source": [
    "h = l.copy()"
   ]
  },
  {
   "cell_type": "code",
   "execution_count": 92,
   "id": "86d3e667-5d6b-43e0-8dea-0bf6acdbc3f3",
   "metadata": {},
   "outputs": [],
   "source": [
    "l[0] = 100"
   ]
  },
  {
   "cell_type": "code",
   "execution_count": 93,
   "id": "976333ff-5227-48a7-b2c3-4792c3205157",
   "metadata": {},
   "outputs": [
    {
     "data": {
      "text/plain": [
       "([100, 2, 3, [-1, -2, 3]], [1, 2, 3, [-1, -2, 3]])"
      ]
     },
     "execution_count": 93,
     "metadata": {},
     "output_type": "execute_result"
    }
   ],
   "source": [
    "l, h"
   ]
  },
  {
   "cell_type": "markdown",
   "id": "7342d45e-7b5e-4ce3-a207-ec0a344208ea",
   "metadata": {},
   "source": [
    "All good, but let's change the inner list..."
   ]
  },
  {
   "cell_type": "code",
   "execution_count": 94,
   "id": "719f996f-a835-44b7-9d04-4a319f38e1d9",
   "metadata": {},
   "outputs": [],
   "source": [
    "l[-1][-1] = -3"
   ]
  },
  {
   "cell_type": "code",
   "execution_count": 95,
   "id": "04e75245-8f1c-422a-8c16-7cef1ad28589",
   "metadata": {},
   "outputs": [
    {
     "data": {
      "text/plain": [
       "([100, 2, 3, [-1, -2, -3]], [1, 2, 3, [-1, -2, -3]])"
      ]
     },
     "execution_count": 95,
     "metadata": {},
     "output_type": "execute_result"
    }
   ],
   "source": [
    "l, h"
   ]
  },
  {
   "cell_type": "markdown",
   "id": "b71abf55-2005-490c-9d95-efe1facfe030",
   "metadata": {},
   "source": [
    "Both changed!\n",
    "Because `h` is also a shallow copy! a \"deeper shallow copy\".\n",
    "\n",
    "If we want a \"real deep copy\", we need some \"heavy stuff\"..."
   ]
  },
  {
   "cell_type": "code",
   "execution_count": 96,
   "id": "457fac2a-e2d8-4892-84af-29ef3c88a1e2",
   "metadata": {},
   "outputs": [],
   "source": [
    "from copy import deepcopy"
   ]
  },
  {
   "cell_type": "code",
   "execution_count": 97,
   "id": "7ff782a4-e5ae-4cde-b352-638a39725b14",
   "metadata": {},
   "outputs": [],
   "source": [
    "h = deepcopy(l)"
   ]
  },
  {
   "cell_type": "code",
   "execution_count": 98,
   "id": "2655514c-04d8-4beb-bb6c-c195a6eccb29",
   "metadata": {},
   "outputs": [
    {
     "data": {
      "text/plain": [
       "([100, 2, 3, [-1, -2, -3]], [100, 2, 3, [-1, -2, -3]])"
      ]
     },
     "execution_count": 98,
     "metadata": {},
     "output_type": "execute_result"
    }
   ],
   "source": [
    "l, h"
   ]
  },
  {
   "cell_type": "markdown",
   "id": "9bf4649a-7197-4159-9d6d-f6cd0ccf9733",
   "metadata": {},
   "source": [
    "Again, changing the inner list:"
   ]
  },
  {
   "cell_type": "code",
   "execution_count": 99,
   "id": "aadaf346-96cf-4f55-9931-8e2fc0d27ead",
   "metadata": {},
   "outputs": [],
   "source": [
    "l[-1][-1] = -2024"
   ]
  },
  {
   "cell_type": "code",
   "execution_count": 100,
   "id": "d348f79b-5cf5-4089-9a9b-30128f41e7c0",
   "metadata": {},
   "outputs": [
    {
     "data": {
      "text/plain": [
       "([100, 2, 3, [-1, -2, -2024]], [100, 2, 3, [-1, -2, -3]])"
      ]
     },
     "execution_count": 100,
     "metadata": {},
     "output_type": "execute_result"
    }
   ],
   "source": [
    "l, h"
   ]
  },
  {
   "cell_type": "markdown",
   "id": "0197cbd6-77fb-451d-b04f-e161c429cd87",
   "metadata": {},
   "source": [
    "Finally, `h` stays unchanged."
   ]
  }
 ],
 "metadata": {
  "kernelspec": {
   "display_name": "Python 3 (ipykernel)",
   "language": "python",
   "name": "python3"
  },
  "language_info": {
   "codemirror_mode": {
    "name": "ipython",
    "version": 3
   },
   "file_extension": ".py",
   "mimetype": "text/x-python",
   "name": "python",
   "nbconvert_exporter": "python",
   "pygments_lexer": "ipython3",
   "version": "3.8.18"
  }
 },
 "nbformat": 4,
 "nbformat_minor": 5
}
